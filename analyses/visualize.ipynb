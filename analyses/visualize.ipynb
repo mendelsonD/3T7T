{
 "cells": [
  {
   "cell_type": "markdown",
   "id": "bdbc18fe",
   "metadata": {},
   "source": [
    "# Create figures for data"
   ]
  },
  {
   "cell_type": "code",
   "execution_count": null,
   "id": "6a9961c1",
   "metadata": {},
   "outputs": [],
   "source": [
    "# init\n",
    "import pandas as pd\n",
    "import numpy as np\n",
    "import importlib\n",
    "import tTsTGrpUtils as tsutil"
   ]
  },
  {
   "cell_type": "code",
   "execution_count": null,
   "id": "8d08d651",
   "metadata": {},
   "outputs": [],
   "source": [
    "# Load data\n",
    "importlib.reload(tsutil)\n",
    "root = \"/host/verges/tank/data/daniel/3T7T/z/outputs/\"\n",
    "\n",
    "pth_04a_raw = \"04a_dl_maps_08Oct2025-104443.pkl\"\n",
    "pth_04b_parc = \"04b_dl_maps_parcel_08Oct2025-110220.pkl\"\n",
    "\n",
    "pth_05a_winComp = \"05a_winStudy_08Oct2025-110338.pkl\" # z or w scores\n",
    "pth_05b_winComp_ic = \"05b_stats_winStudy_grp_08Oct2025-110654.pkl\" # flipped\n",
    "\n",
    "pth_05c_winD = \"05c_stats_winD_08Oct2025-140529.pkl\" # D score btw px and ctrl z-scores\n",
    "pth_05d_btwD = \"05d_btwD_08Oct2025-153038.pkl\" # difference in D scores between studies\n",
    "\n",
    "dl_04a_maps = tsutil.loadPickle(root + pth_04a_raw, verbose = True)\n",
    "dl_04b_parc = tsutil.loadPickle(root + pth_04b_parc, verbose = True)\n",
    "dl_05a_winComp = tsutil.loadPickle(root + pth_05a_winComp, verbose = True)\n",
    "dl_05b_winComp_ic = tsutil.loadPickle(root + pth_05b_winComp_ic, verbose = True)\n",
    "dl_05c_winD = tsutil.loadPickle(root + pth_05c_winD, verbose = True)\n",
    "dl_05d_btwD = tsutil.loadPickle(root + pth_05d_btwD, verbose = True)\n"
   ]
  },
  {
   "cell_type": "code",
   "execution_count": null,
   "id": "10f2cc36",
   "metadata": {},
   "outputs": [],
   "source": [
    "# visaulization functions:\n",
    "\n",
    "plotMatrices # graph per study, row = ID, \n",
    "hbar # horizontal bar graph showing average values per parcel"
   ]
  }
 ],
 "metadata": {
  "kernelspec": {
   "display_name": "tTsT_py38",
   "language": "python",
   "name": "python3"
  },
  "language_info": {
   "codemirror_mode": {
    "name": "ipython",
    "version": 3
   },
   "file_extension": ".py",
   "mimetype": "text/x-python",
   "name": "python",
   "nbconvert_exporter": "python",
   "pygments_lexer": "ipython3",
   "version": "3.8.20"
  }
 },
 "nbformat": 4,
 "nbformat_minor": 5
}
