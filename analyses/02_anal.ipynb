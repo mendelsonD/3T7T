{
 "cells": [
  {
   "cell_type": "markdown",
   "metadata": {},
   "source": [
    "# Analysis - zBrains outputs at 3T and 7T in epilepsy\n",
    "0. Demographics (Table 1)\n",
    "1. zBrain/wBrain (surface)\n",
    "    a. Histograms of vertex wise scores\n",
    "        i. sub-comparisons with different smoothing kernels\n",
    "    b. Quantifying extreme vertex groups\n",
    "        i. number of identified abnormal areas\n",
    "        ii. size of each abnormal area (number of adjacent extreme vertices)\n",
    "2. Brainstats (surface)\n",
    "    a. t-scores for 3T and 7T\n",
    "    b. cohen's D map between 3T and 7T images\n"
   ]
  },
  {
   "cell_type": "markdown",
   "metadata": {},
   "source": [
    "\n",
    "## 0. Demographics\n"
   ]
  },
  {
   "cell_type": "markdown",
   "metadata": {},
   "source": [
    "## 1. Histograms"
   ]
  },
  {
   "cell_type": "code",
   "execution_count": 17,
   "metadata": {},
   "outputs": [],
   "source": [
    "import os\n",
    "import pandas as pd\n",
    "import plotly.express as px\n",
    "import plotly.graph_objects as go\n",
    "import plotly.io as pio\n",
    "\n",
    "import vrtx\n",
    "import plots"
   ]
  },
  {
   "cell_type": "code",
   "execution_count": 3,
   "metadata": {},
   "outputs": [
    {
     "data": {
      "text/plain": [
       "<module 'plots' from '/host/verges/tank/data/daniel/3T7T/z/code/analyses/plots.py'>"
      ]
     },
     "execution_count": 3,
     "metadata": {},
     "output_type": "execute_result"
    }
   ],
   "source": [
    "import importlib\n",
    "\n",
    "importlib.reload(vrtx)\n",
    "importlib.reload(plots)"
   ]
  },
  {
   "cell_type": "code",
   "execution_count": 4,
   "metadata": {},
   "outputs": [],
   "source": [
    "# define directories\n",
    "output_dir = \"/host/verges/tank/data/daniel/3T7T/z/outputs\"\n",
    "values_dir = \"values\"\n",
    "\n",
    "# 3T-7T ID correspondence\n",
    "IDs = {\n",
    "    \"path\": \"/host/verges/tank/data/daniel/3T7T/z/data/pt/IDs_ses_analyses_12Mar.csv\",\n",
    "    \"3T_ID\": \"3T_ID\",\n",
    "    \"7T_ID\": \"7T_ID\",\n",
    "    \"3T_SES\": \"3T_SES\",\n",
    "    \"7T_SES\": \"7T_SES\"\n",
    "}\n",
    "\n",
    "id_corresp = pd.read_csv(corresp_ID)\n",
    "\n",
    "# Study names\n",
    "MICs = {\"name\": \"MICs\"}\n",
    "\n",
    "PNI = {\"name\": \"PNI\"}\n",
    "\n",
    "#studies = [\"MICs\", \"PNI\"]\n",
    "\n",
    "# zBrain analysis regions\n",
    "cortex = {\n",
    "    \"region\": \"cortex\",\n",
    "    \"surfaces\": [\"midthickness\", \"white\"],\n",
    "    \"resolution\": \"32k\",\n",
    "    \"features\": [\"ADC\", \"T1map\", \"thickness\"], # (list) features to extract\n",
    "    #\"smoothing\": [10]\n",
    "    \"smoothing\": [2,5,10]\n",
    "}\n",
    "\n",
    "hippocampus = {\n",
    "    \"region\": \"hippocampus\",\n",
    "    \"surfaces\": [\"midthickness\"],\n",
    "    \"resolution\": \"0p5mm\",\n",
    "    \"features\": [\"ADC\", \"T1map\", \"thickness\"], # (list) features to extract\n",
    "    #\"smoothing\": [5]\n",
    "    \"smoothing\": [1,2,5]\n",
    "}\n",
    "\n",
    "subcortex = {\n",
    "    \"region\": \"subcortex\",\n",
    "    \"features\": [\"ADC\", \"T1map\", \"thickness\"],\n",
    "    \"smoothing\": [2,5,10]\n",
    "}\n",
    "\n",
    "regions = [cortex, hippocampus, subcortex]"
   ]
  },
  {
   "cell_type": "code",
   "execution_count": 20,
   "metadata": {},
   "outputs": [
    {
     "name": "stdout",
     "output_type": "stream",
     "text": [
      "[Warning] Skipping missing files for MICs and PNI:\n",
      "\t/host/verges/tank/data/daniel/3T7T/z/outputs/values/PNI/subcortex/PNI_feature-ADC.csv\n",
      "\t/host/verges/tank/data/daniel/3T7T/z/outputs/values/MICs/subcortex/MICs_feature-ADC.csv\n",
      "[Warning] Skipping missing files for MICs and PNI:\n",
      "\t/host/verges/tank/data/daniel/3T7T/z/outputs/values/PNI/subcortex/PNI_feature-T1map.csv\n",
      "\t/host/verges/tank/data/daniel/3T7T/z/outputs/values/MICs/subcortex/MICs_feature-T1map.csv\n",
      "[Warning] Skipping missing files for MICs and PNI:\n",
      "\t/host/verges/tank/data/daniel/3T7T/z/outputs/values/PNI/subcortex/PNI_feature-thickness.csv\n",
      "\t/host/verges/tank/data/daniel/3T7T/z/outputs/values/MICs/subcortex/MICs_feature-thickness.csv\n"
     ]
    }
   ],
   "source": [
    "# read in dataframes\n",
    "# plot histogram\n",
    "\n",
    "for region in regions:\n",
    "    \n",
    "    region_name = region[\"region\"]\n",
    "    \n",
    "    mics_name = MICs[\"name\"]\n",
    "    pni_name = PNI[\"name\"]\n",
    "\n",
    "    mics_path = \"/\".join([output_dir, values_dir, mics_name, region_name])\n",
    "    pni_path = \"/\".join([output_dir, values_dir, pni_name, region_name])\n",
    "\n",
    "    ptrn_lst = vrtx.zbFilePtrn(region, extension=\".csv\")\n",
    "    #print(ptrn_lst)\n",
    "    \n",
    "    for ptrn in ptrn_lst:\n",
    "        \n",
    "        # define file path\n",
    "        mics_file = mics_path + \"/\" + MICs[\"name\"] + \"_\" + ptrn\n",
    "        pni_file = pni_path + \"/\" + PNI[\"name\"] + \"_\" + ptrn\n",
    "        #print(mics_file)\n",
    "        #print(pni_file)\n",
    "\n",
    "        # check that file exists\n",
    "        # if not, continue to next file\n",
    "        if not os.path.exists(pni_file):\n",
    "            if os.path.exists(mics_file):\n",
    "                print(f\"[Warning] Skipping due to missing PNI file:\\n\\t {pni_file}\")\n",
    "            else:\n",
    "                print(f\"[Warning] Skipping missing files for MICs and PNI:\\n\\t{pni_file}\\n\\t{mics_file}\")\n",
    "            continue\n",
    "        \n",
    "\n",
    "        # # read in data\n",
    "        # df_mics = pd.read_csv(mics_file, index_col=False)\n",
    "        # df_pni = pd.read_csv(pni_file, index_col=False)\n",
    "        # remove participants with Na in either df\n",
    "        # df_mics = df_mics.dropna()\n",
    "        # df_pni = df_pni.dropna()\n",
    "        \n",
    "        # keep only overlapping participants both dfs\n",
    "        \n",
    "        ## need to remap col names according to 3T-7T ID correspondence\n",
    "\n",
    "        ## keep only overlapping columns\n",
    "        # cols = df_mics.columns.intersection(df_pni.columns)\n",
    "        # df_mics = df_mics[cols]\n",
    "        # df_pni = df_pni[cols]\n",
    "\n",
    "        ## Take histogram for each participant\n",
    "\n",
    "        # print(df_mics.head())\n",
    "        break\n",
    "        # # construct histogram\n",
    "        # fig = plots.ridge(df_mics, matrix_df = df_mics)\n",
    "        # # show histogram\n",
    "        # fig.show()"
   ]
  },
  {
   "cell_type": "code",
   "execution_count": null,
   "metadata": {},
   "outputs": [],
   "source": []
  },
  {
   "cell_type": "code",
   "execution_count": null,
   "metadata": {},
   "outputs": [],
   "source": [
    "\n",
    "        print(path)\n",
    "        \n",
    "        df = pd.read_csv(path)\n",
    "        fig = plots.histStack(df)\n",
    "        # display plot\n",
    "        fig.show()"
   ]
  }
 ],
 "metadata": {
  "kernelspec": {
   "display_name": "zBrain_py39",
   "language": "python",
   "name": "python3"
  },
  "language_info": {
   "codemirror_mode": {
    "name": "ipython",
    "version": 3
   },
   "file_extension": ".py",
   "mimetype": "text/x-python",
   "name": "python",
   "nbconvert_exporter": "python",
   "pygments_lexer": "ipython3",
   "version": "3.9.21"
  }
 },
 "nbformat": 4,
 "nbformat_minor": 2
}
