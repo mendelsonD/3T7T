{
 "cells": [
  {
   "cell_type": "code",
   "execution_count": 1,
   "metadata": {},
   "outputs": [],
   "source": [
    "import os\n",
    "import numpy as np\n",
    "import matplotlib.pyplot as plt\n",
    "import nibabel as nib"
   ]
  },
  {
   "cell_type": "code",
   "execution_count": 2,
   "metadata": {},
   "outputs": [],
   "source": [
    "def load_gifti(filepath = \"\", index = \"vertices\"):\n",
    "    \"\"\"\n",
    "    Load data from GIFTI (.gii) files.\n",
    "    \n",
    "    Parameters:\n",
    "        filepath : str\n",
    "            Path to the file.\n",
    "    \n",
    "    Returns:\n",
    "        gii : np.array\n",
    "            gii from the file.\n",
    "\n",
    "    Requires: \n",
    "        nibabel as nib\n",
    "\n",
    "    File types:\n",
    "        .surf.gii : can be either indexed by vertex number or by face number\n",
    "            data if vertex indexed:\n",
    "                nV x 3 [x, y, z] with unit `milimeter` (mm)\n",
    "            data if face indexed:\n",
    "                nF x 3 [vertexIndex1, vertexIndex2, vertexIndex3]\n",
    "                    n.b. vertexIndex in each row are adjacent to each other\n",
    "            \n",
    "        .func.gii : \n",
    "            nV x [value]\n",
    "    \"\"\"\n",
    "    \n",
    "    gii = nib.load(filepath)\n",
    "\n",
    "    if filepath.endswith(\".func.gii\"):\n",
    "           return gii.darrays[0].data\n",
    "\n",
    "    elif filepath.endswith(\".surf.gii\"):\n",
    "        if index == \"vertices\":\n",
    "            print (\"Reading file as vertex indexed. %s\" % filepath)\n",
    "            return gii.get_arrays_from_intent('NIFTI_INTENT_POINTSET')[0].data # vertex format\n",
    "            \n",
    "        elif index == \"faces\":\n",
    "            print (\"Reading file as face indexed. %s\" % filepath)\n",
    "            return gii.get_arrays_from_intent('NIFTI_INTENT_TRIANGLE')[0].data # face format\n",
    "        \n",
    "        else:\n",
    "            raise ValueError(\"Index must be either 'vertices' or 'faces'\")\n",
    "    \n",
    "    else:\n",
    "        raise ValueError(\"File type not supported. Supported types are `.surf.gii` and `.func.gii`\")"
   ]
  },
  {
   "cell_type": "code",
   "execution_count": 5,
   "metadata": {},
   "outputs": [],
   "source": [
    "os.chdir('/Users/danielmendelson/Documents/Boris_projects/data/PNE003/zBrains/ses-a1')"
   ]
  },
  {
   "cell_type": "code",
   "execution_count": 23,
   "metadata": {},
   "outputs": [],
   "source": [
    "file = \"maps/cortex/sub-PNE003_ses-a1_hemi-R_surf-fsLR-5k_label-midthickness_feature-T1map_smooth-10mm.func.gii\"\n",
    "qT1_midThick = load_gifti_data(file)"
   ]
  },
  {
   "cell_type": "code",
   "execution_count": 24,
   "metadata": {},
   "outputs": [],
   "source": [
    "file_32 = \"maps/cortex/sub-PNE003_ses-a1_hemi-R_surf-fsLR-32k_label-midthickness_feature-T1map_smooth-10mm.func.gii\"\n",
    "qT1_32 = load_gifti_data(file_32)"
   ]
  },
  {
   "cell_type": "code",
   "execution_count": null,
   "metadata": {},
   "outputs": [],
   "source": [
    "len(qT1_midThick)"
   ]
  },
  {
   "cell_type": "code",
   "execution_count": null,
   "metadata": {},
   "outputs": [],
   "source": [
    "# create histogram with both arrays overlaid\n",
    "plt.hist(qT1_32, bins=100, alpha=0.5, label='32k')\n",
    "plt.hist(qT1_midThick, bins=100, alpha=0.5, label='5k')\n",
    "plt.legend(loc='upper right')"
   ]
  },
  {
   "cell_type": "code",
   "execution_count": null,
   "metadata": {},
   "outputs": [],
   "source": [
    "# box plots\n",
    "plt.boxplot([qT1_32, qT1_midThick])\n",
    "plt.xticks([1, 2], ['32k', '5k'])"
   ]
  },
  {
   "cell_type": "markdown",
   "metadata": {},
   "source": [
    "- surf: [points, [triangles (3 values)]]\n",
    "- func: indexed by vertices: values"
   ]
  },
  {
   "cell_type": "code",
   "execution_count": null,
   "metadata": {},
   "outputs": [],
   "source": [
    "\n",
    "surf = \"structural/sub-PNE003_ses-a1_hemi-R_space-nativepro_surf-fsnative_label-pial.surf.gii\"\n",
    "\n",
    "# struc = nib.load(structural).get_fdata() # for .nii.gz\n",
    "surf = load_gifti_data(structural) # for .surf.gii or .func.gii\n",
    "print(surf.shape)"
   ]
  },
  {
   "cell_type": "code",
   "execution_count": null,
   "metadata": {},
   "outputs": [],
   "source": [
    "# print head of structural data\n",
    "for i in range(3):\n",
    "    print(surf[i, :])"
   ]
  },
  {
   "cell_type": "code",
   "execution_count": 11,
   "metadata": {},
   "outputs": [],
   "source": [
    "zScore = \"norm-z/cortex/sub-PNE003_ses-a1_hemi-L_surf-fsLR-5k_label-midthickness_feature-T1map_smooth-10mm_analysis-regional.func.gii\"\n",
    "zScore = load_gifti_data(zScore)"
   ]
  },
  {
   "cell_type": "code",
   "execution_count": null,
   "metadata": {},
   "outputs": [],
   "source": [
    "print(zScore.shape)\n",
    "for i in range(10):\n",
    "    print(zScore[i])"
   ]
  },
  {
   "cell_type": "code",
   "execution_count": null,
   "metadata": {},
   "outputs": [],
   "source": [
    "# histogram of zScore data\n",
    "plt.hist(zScore.flatten(), bins=100)\n",
    "plt.xlabel('zScore')\n",
    "plt.ylabel('Number of vertices')"
   ]
  },
  {
   "cell_type": "code",
   "execution_count": null,
   "metadata": {},
   "outputs": [],
   "source": [
    "# hist of vertices more extreme than +/-2\n",
    "plt.hist(zScore[np.abs(zScore) > 2], bins=1000)\n"
   ]
  },
  {
   "cell_type": "code",
   "execution_count": null,
   "metadata": {},
   "outputs": [],
   "source": []
  }
 ],
 "metadata": {
  "kernelspec": {
   "display_name": "base",
   "language": "python",
   "name": "python3"
  },
  "language_info": {
   "codemirror_mode": {
    "name": "ipython",
    "version": 3
   },
   "file_extension": ".py",
   "mimetype": "text/x-python",
   "name": "python",
   "nbconvert_exporter": "python",
   "pygments_lexer": "ipython3",
   "version": "3.12.7"
  }
 },
 "nbformat": 4,
 "nbformat_minor": 2
}
