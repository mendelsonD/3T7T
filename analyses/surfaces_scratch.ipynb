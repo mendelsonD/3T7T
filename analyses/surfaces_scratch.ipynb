{
 "cells": [
  {
   "cell_type": "code",
   "execution_count": 1,
   "metadata": {},
   "outputs": [],
   "source": [
    "import os\n",
    "import numpy as np\n",
    "import matplotlib.pyplot as plt\n",
    "import nibabel as nib"
   ]
  },
  {
   "cell_type": "code",
   "execution_count": 2,
   "metadata": {},
   "outputs": [],
   "source": [
    "def load_gifti(filepath = \"\", index = \"vertices\"):\n",
    "    \"\"\"\n",
    "    Load data from GIFTI (.gii) files.\n",
    "    \n",
    "    Parameters:\n",
    "        filepath : str\n",
    "            Path to the file.\n",
    "    \n",
    "    Returns:\n",
    "        gii : np.array\n",
    "            gii from the file.\n",
    "\n",
    "    Requires: \n",
    "        nibabel as nib\n",
    "\n",
    "    File types:\n",
    "        .surf.gii : can be either indexed by vertex number or by face number\n",
    "            data if vertex indexed:\n",
    "                nV x 3 [x, y, z] with unit `milimeter` (mm)\n",
    "            data if face indexed:\n",
    "                nF x 3 [vertexIndex1, vertexIndex2, vertexIndex3]\n",
    "                    n.b. vertexIndex in each row are adjacent to each other\n",
    "            \n",
    "        .func.gii : \n",
    "            nV x [value]\n",
    "    \"\"\"\n",
    "    \n",
    "    gii = nib.load(filepath)\n",
    "\n",
    "    if filepath.endswith(\".func.gii\"):\n",
    "           return gii.darrays[0].data\n",
    "\n",
    "    elif filepath.endswith(\".surf.gii\"):\n",
    "        if index == \"vertices\":\n",
    "            print (\"Reading file as vertex indexed. %s\" % filepath)\n",
    "            return gii.get_arrays_from_intent('NIFTI_INTENT_POINTSET')[0].data # vertex format\n",
    "            \n",
    "        elif index == \"faces\":\n",
    "            print (\"Reading file as face indexed. %s\" % filepath)\n",
    "            return gii.get_arrays_from_intent('NIFTI_INTENT_TRIANGLE')[0].data # face format\n",
    "        \n",
    "        else:\n",
    "            raise ValueError(\"Index must be either 'vertices' or 'faces'\")\n",
    "    \n",
    "    else:\n",
    "        raise ValueError(\"File type not supported. Supported types are `.surf.gii` and `.func.gii`\")"
   ]
  },
  {
   "cell_type": "code",
   "execution_count": 5,
   "metadata": {},
   "outputs": [],
   "source": [
    "os.chdir('/Users/danielmendelson/Documents/Boris_projects/data/PNE003/zBrains/ses-a1')"
   ]
  },
  {
   "cell_type": "code",
   "execution_count": 23,
   "metadata": {},
   "outputs": [],
   "source": [
    "file = \"maps/cortex/sub-PNE003_ses-a1_hemi-R_surf-fsLR-5k_label-midthickness_feature-T1map_smooth-10mm.func.gii\"\n",
    "qT1_midThick = load_gifti_data(file)"
   ]
  },
  {
   "cell_type": "code",
   "execution_count": 24,
   "metadata": {},
   "outputs": [],
   "source": [
    "file_32 = \"maps/cortex/sub-PNE003_ses-a1_hemi-R_surf-fsLR-32k_label-midthickness_feature-T1map_smooth-10mm.func.gii\"\n",
    "qT1_32 = load_gifti_data(file_32)"
   ]
  },
  {
   "cell_type": "code",
   "execution_count": null,
   "metadata": {},
   "outputs": [],
   "source": [
    "len(qT1_midThick)"
   ]
  },
  {
   "cell_type": "code",
   "execution_count": null,
   "metadata": {},
   "outputs": [],
   "source": [
    "# create histogram with both arrays overlaid\n",
    "plt.hist(qT1_32, bins=100, alpha=0.5, label='32k')\n",
    "plt.hist(qT1_midThick, bins=100, alpha=0.5, label='5k')\n",
    "plt.legend(loc='upper right')"
   ]
  },
  {
   "cell_type": "code",
   "execution_count": null,
   "metadata": {},
   "outputs": [],
   "source": [
    "# box plots\n",
    "plt.boxplot([qT1_32, qT1_midThick])\n",
    "plt.xticks([1, 2], ['32k', '5k'])"
   ]
  },
  {
   "cell_type": "markdown",
   "metadata": {},
   "source": [
    "- surf: [points, [triangles (3 values)]]\n",
    "- func: indexed by vertices: values"
   ]
  },
  {
   "cell_type": "code",
   "execution_count": null,
   "metadata": {},
   "outputs": [],
   "source": [
    "\n",
    "surf = \"structural/sub-PNE003_ses-a1_hemi-R_space-nativepro_surf-fsnative_label-pial.surf.gii\"\n",
    "\n",
    "# struc = nib.load(structural).get_fdata() # for .nii.gz\n",
    "surf = load_gifti_data(structural) # for .surf.gii or .func.gii\n",
    "print(surf.shape)"
   ]
  },
  {
   "cell_type": "code",
   "execution_count": null,
   "metadata": {},
   "outputs": [],
   "source": [
    "# print head of structural data\n",
    "for i in range(3):\n",
    "    print(surf[i, :])"
   ]
  },
  {
   "cell_type": "code",
   "execution_count": 11,
   "metadata": {},
   "outputs": [],
   "source": [
    "zScore = \"norm-z/cortex/sub-PNE003_ses-a1_hemi-L_surf-fsLR-5k_label-midthickness_feature-T1map_smooth-10mm_analysis-regional.func.gii\"\n",
    "zScore = load_gifti_data(zScore)"
   ]
  },
  {
   "cell_type": "code",
   "execution_count": null,
   "metadata": {},
   "outputs": [],
   "source": [
    "print(zScore.shape)\n",
    "for i in range(10):\n",
    "    print(zScore[i])"
   ]
  },
  {
   "cell_type": "code",
   "execution_count": null,
   "metadata": {},
   "outputs": [],
   "source": [
    "# histogram of zScore data\n",
    "plt.hist(zScore.flatten(), bins=100)\n",
    "plt.xlabel('zScore')\n",
    "plt.ylabel('Number of vertices')"
   ]
  },
  {
   "cell_type": "code",
   "execution_count": null,
   "metadata": {},
   "outputs": [],
   "source": [
    "# hist of vertices more extreme than +/-2\n",
    "plt.hist(zScore[np.abs(zScore) > 2], bins=1000)\n",
    "\n"
   ]
  },
  {
   "cell_type": "code",
   "execution_count": 1,
   "metadata": {},
   "outputs": [],
   "source": [
    "\n",
    "import importlib\n",
    "import tTsTGrpUtils\n"
   ]
  },
  {
   "cell_type": "code",
   "execution_count": 34,
   "metadata": {},
   "outputs": [
    {
     "data": {
      "text/plain": [
       "True"
      ]
     },
     "execution_count": 34,
     "metadata": {},
     "output_type": "execute_result"
    }
   ],
   "source": [
    "importlib.reload(tTsTGrpUtils)\n",
    "\n",
    "MICs = {\n",
    "    \"name\": \"MICs\",\n",
    "    \"dir_root\": \"/data/mica3/BIDS_MICs\",\n",
    "    \"dir_raw\": \"/rawdata\",\n",
    "    \"dir_deriv\": \"/derivatives\",\n",
    "    \"dir_mp\": \"/micapipe_v0.2.0\",\n",
    "    \"dir_hu\": \"/hippunfold_v1.3.0/hippunfold\",\n",
    "    \"dir_zb\": \"/DM_zb_37comp\",\n",
    "    \"study\": \"3T\",\n",
    "    \"ID_ctrl\" : [\"HC\"],\n",
    "    \"ID_Pt\" : [\"PX\"]\n",
    "    }\n",
    "\n",
    "PNI = {\n",
    "    \"name\": \"PNI\",\n",
    "    \"dir_root\": \"/data/mica3/BIDS_PNI\",\n",
    "    \"dir_raw\": \"/rawdata\",\n",
    "    \"dir_deriv\": \"/derivatives\",\n",
    "    \"dir_mp\": \"/micapipe_v0.2.0\",\n",
    "    \"dir_hu\": \"/hippunfold_v1.3.0/hippunfold\",\n",
    "    \"dir_zb\": \"/DM_zb_37comp\",\n",
    "    \"study\": \"7T\",\n",
    "    \"ID_col\" : [\"PNC\", \"Pilot\"], # column for ID in demographics file\n",
    "    }\n",
    "\n",
    "\n",
    "root = PNI['dir_root'] + PNI['dir_raw']\n",
    "sub = \"PX048\"\n",
    "ses = \"02\"\n",
    "ft=\"ADC\"\n",
    "\n",
    "study = MICs\n",
    "tTsTGrpUtils.chk_pth(pth = f\"{study['dir_root']}{study['dir_deriv']}{study['dir_mp']}/sub-{sub}/ses-{ses}/anat/sub-{sub}_ses-{ses}_space-fsnative_T1w.nii.gz\")"
   ]
  },
  {
   "cell_type": "code",
   "execution_count": 30,
   "metadata": {},
   "outputs": [
    {
     "data": {
      "text/plain": [
       "'/data/mica3/BIDS_MICs/derivatives/micapipe_v0.2.0/sub-PNE003/ses-a1/anat/sub-PNE003_ses-a1_space-fsnative_T1w.nii.gz'"
      ]
     },
     "execution_count": 30,
     "metadata": {},
     "output_type": "execute_result"
    }
   ],
   "source": [
    "f\"{study['dir_root']}{study['dir_deriv']}{study['dir_mp']}/sub-{sub}/ses-{ses}/anat/sub-{sub}_ses-{ses}_space-fsnative_T1w.nii.gz\""
   ]
  },
  {
   "cell_type": "code",
   "execution_count": null,
   "metadata": {},
   "outputs": [],
   "source": []
  }
 ],
 "metadata": {
  "kernelspec": {
   "display_name": "tTsT_py38",
   "language": "python",
   "name": "python3"
  },
  "language_info": {
   "codemirror_mode": {
    "name": "ipython",
    "version": 3
   },
   "file_extension": ".py",
   "mimetype": "text/x-python",
   "name": "python",
   "nbconvert_exporter": "python",
   "pygments_lexer": "ipython3",
   "version": "3.8.20"
  }
 },
 "nbformat": 4,
 "nbformat_minor": 2
}
