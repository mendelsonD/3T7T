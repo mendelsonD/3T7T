{
 "cells": [
  {
   "cell_type": "markdown",
   "id": "bdbc18fe",
   "metadata": {},
   "source": [
    "# VISUALIZE OUTPUTS FROM ANALYSIS FUNCTIONS"
   ]
  },
  {
   "cell_type": "code",
   "execution_count": null,
   "id": "6a9961c1",
   "metadata": {},
   "outputs": [],
   "source": [
    "# init\n",
    "import importlib\n",
    "import tTsTGrpUtils as tsutil\n",
    "import utils_plots as uplots\n",
    "\n",
    "test = False # for quick testing\n",
    "\n",
    "# Data paths\n",
    "root = \"/host/verges/tank/data/daniel/3T7T/z/outputs/\"\n",
    "pth_04a_raw = \"04a_dl_maps_08Oct2025-104443.pkl\"\n",
    "pth_04b_parc = \"04b_dl_maps_parcel_08Oct2025-110220.pkl\"\n",
    "pth_05a_winComp = \"05a_winStudy_18Oct2025-225126.pkl\" # z or w scores\n",
    "pth_05b_winComp_ic = \"05b_stats_winStudy_grp_18Oct2025-225832.pkl\" # flipped\n",
    "pth_05c_winD = \"05c_stats_winD_08Oct2025-140529.pkl\" # Has all data from above maps as well. D score btw px and ctrl z-scores\n",
    "pth_05d_btwD = \"05d_btwD_08Oct2025-153038.pkl\" # difference in D scores between studies\n",
    "\n",
    "# Specifications for dl filtering\n",
    "key_ft = 'feature' # key for feature in dict\n",
    "foi = ['thickness', 'T1map'] # features of interest\n",
    "key_ids = [['ctrl_IDs'],['TLE_R_IDs', 'TLE_L_IDs']]\n"
   ]
  },
  {
   "cell_type": "code",
   "execution_count": null,
   "id": "c9d3779d",
   "metadata": {},
   "outputs": [],
   "source": [
    "# Visualize vertex-wsie feature values compared to control distribution for each participant\n",
    "importlib.reload(uplots)\n",
    "\n",
    "reimport_src = False\n",
    "\n",
    "if 'dl_05b_winComp_ic' not in globals() or reimport_src:\n",
    "    dl_05b_winComp_ic = tsutil.loadPickle(root + pth_05b_winComp_ic, verbose = True)\n",
    "\n",
    "dl_05b_winComp_ic = tsutil.filt_dl(dl = dl_05b_winComp_ic, \n",
    "                                   key_ft = key_ft, foi = foi, \n",
    "                                   key_ids = key_ids)\n",
    "\n",
    "# NOTE. pass z-scores only. Need changes for w-scores\n",
    "uplots.raw2Z_vis(dl = dl_05b_winComp_ic, save_path = \"/host/verges/tank/data/daniel/3T7T/z/outputs/figs/rawToZ\", \n",
    "               key_dfs_raw = ['df_maps_parc-glsr_mean', 'df_maps_parc-dk25_mean'],\n",
    "               marks = True)"
   ]
  },
  {
   "cell_type": "code",
   "execution_count": null,
   "id": "c6ed5de9",
   "metadata": {},
   "outputs": [],
   "source": [
    "# Visualize parcel wise z-score distributions and corresponding D-scores\n",
    "importlib.reload(uplots)\n",
    "\n",
    "save_path = \"/host/verges/tank/data/daniel/3T7T/z/outputs/figs/zToD\" # will save raw images to ./raw\n",
    "reimport_src = True\n",
    "test = False\n",
    "idx_d = 'd_TLE_ic_ipsiTo-L' # index of cohen's d values in df_d\n",
    "\n",
    "if 'dl_winD' not in globals() or reimport_src:\n",
    "    dl_winD = tsutil.loadPickle(root + pth_05c_winD, verbose = True)\n",
    "\n",
    "dl_winD = tsutil.filt_dl(dl = dl_winD, \n",
    "                        key_ft = key_ft, foi = foi, \n",
    "                        key_ids = key_ids)\n",
    "\n",
    "uplots.z2D_vis(dl=dl_winD, save_path = save_path,\n",
    "                idx_d = idx_d, test = test)"
   ]
  },
  {
   "cell_type": "code",
   "execution_count": null,
   "id": "ab98b56d",
   "metadata": {},
   "outputs": [],
   "source": [
    "# Visualize Cohen's D of 3T and 7T studies and their comparisons  \n",
    "importlib.reload(uplots)\n",
    "\n",
    "test = False\n",
    "reimport_src = True\n",
    "\n",
    "if 'dl_btwD' not in globals or reimport_src:\n",
    "       dl_btwD = tsutil.loadPickle(root + pth_05d_btwD, verbose = True)\n",
    "\n",
    "dl_btwD = tsutil.filt_dl(dl = dl_btwD, \n",
    "                        key_ft = key_ft, foi = foi, \n",
    "                        key_ids = key_ids)\n",
    "\n",
    "# TODO. Plot these metrics on cortical, hippocampal surfaces; break down by vertical bar plot;\n",
    "uplots.btwD_vis(dl = dl_btwD, save_path = save_path,\n",
    "              key_winD = 'df_d_ic', idx_winD = ['d_TLE_ic_ipsiTo-L'], \n",
    "              key_btwD = 'comps_df_d_ic', idx_btwD = ['d_TLE_ic_ipsiTo-L_Δd', 'd_TLE_ic_ipsiTo-L_Δd_by3T', 'd_TLE_ic_ipsiTo-L_Δd_by7T'], \n",
    "              test = test)"
   ]
  },
  {
   "cell_type": "code",
   "execution_count": null,
   "id": "906aa840",
   "metadata": {},
   "outputs": [],
   "source": [
    "# % of vertices within each parcel with extreme z-values\n",
    "importlib.reload(tsutil)\n",
    "importlib.reload(uplots)\n",
    "\n",
    "reimport_src = False\n",
    "thresh = 2.0 # z-threshold\n",
    "\n",
    "if reimport_src:\n",
    "    dl_winD = tsutil.loadPickle(root + pth_05c_winD, verbose = True)\n",
    "    dl_winD = tsutil.filt_dl(dl = dl_winD, \n",
    "                            key_ft = key_ft, foi = foi, \n",
    "                            key_ids = key_ids)\n",
    "\n",
    "# A. Compute extreme vertex counts per parcel and save to dfs in each item in dl\n",
    "dl_vrtxCounts, path = tsutil.get_xtremeVrtx(dl = dl_winD, key_df = 'df_maps_z', thresh = thresh,\n",
    "                                     lobes = True,\n",
    "                                     save_path_dfs = \"/host/verges/tank/data/daniel/3T7T/z/outputs/dfs/06a_xtremeVrtxPerParc\",\n",
    "                                     save_path_dl_out = \"/host/verges/tank/data/daniel/3T7T/z/outputs\",\n",
    "                                     save_name = f'06a_xtremeVrtxPerParc',\n",
    "                                     test = False)\n"
   ]
  },
  {
   "cell_type": "code",
   "execution_count": null,
   "id": "3dc7a2c4",
   "metadata": {},
   "outputs": [],
   "source": [
    "importlib.reload(uplots)\n",
    "# B. Visualize with horizontal bar graphs\n",
    "save_path = \"/host/verges/tank/data/daniel/3T7T/z/outputs/figs/06a_xtrmeVrtxPerParc\"\n",
    "nums = [\"mean\", \"mdn\"]\n",
    "denom = \"m_vertices\"\n",
    "grps = [\"TLE_ic\", \"ctrl\"]\n",
    "\n",
    "# TODO. For hippocampal segmentations, replace index with interpretable name\n",
    "for num in nums:\n",
    "    for grp in grps:\n",
    "        print(f\"Visualizing {num} extreme vertices per parcel/region for group: {grp}...\")\n",
    "        key_df_ctx = f'xtremeVrtxPerParc_df_maps_z_thresh-2p0_{grp}_lobes_stats'\n",
    "        key_df_hip = f'xtremeVrtxPerParc_df_maps_z_thresh-2p0_{grp}_stats'\n",
    "\n",
    "        uplots.percentXtremeVrtxPerParc_vis(dl = dl_vrtxCounts, grp = grp, key_df_ctx = key_df_ctx, key_df_hip = key_df_hip, numerator = num, denominator = denom, \n",
    "                                            save_path = save_path, test = test)\n",
    "\n",
    "# C. Count % of participants with extreme vertices per lobe/parcel/vertex\n"
   ]
  },
  {
   "cell_type": "code",
   "execution_count": null,
   "id": "e9fac2d3",
   "metadata": {},
   "outputs": [],
   "source": [
    "dl = tsutil.loadPickle(root + pth_05c_winD)\n",
    "foi = [\"thickness\"]\n",
    "dl = tsutil.filt_dl(dl = dl, \n",
    "                            key_ft = key_ft, foi = foi, \n",
    "                            key_ids = key_ids)\n",
    "tsutil.print_dict(dl)\n",
    "for item in dl:\n",
    "    tsutil.printItemMetadata(item)\n",
    "    print(f\"\\t{len(item['ctrl_IDs'])} controls | {len(item['TLE_R_IDs'])} TLE_R, {len(item['TLE_L_IDs'])} TLE_L\")"
   ]
  },
  {
   "cell_type": "code",
   "execution_count": null,
   "id": "83df9b2d",
   "metadata": {},
   "outputs": [],
   "source": [
    "# piriform parcellation"
   ]
  }
 ],
 "metadata": {
  "kernelspec": {
   "display_name": "tTsT_py38",
   "language": "python",
   "name": "python3"
  },
  "language_info": {
   "codemirror_mode": {
    "name": "ipython",
    "version": 3
   },
   "file_extension": ".py",
   "mimetype": "text/x-python",
   "name": "python",
   "nbconvert_exporter": "python",
   "pygments_lexer": "ipython3",
   "version": "3.8.20"
  }
 },
 "nbformat": 4,
 "nbformat_minor": 5
}
