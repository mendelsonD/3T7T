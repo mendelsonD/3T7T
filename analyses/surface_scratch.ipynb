{
 "cells": [
  {
   "cell_type": "markdown",
   "id": "b1e75ac4",
   "metadata": {},
   "source": [
    "# Surface scratch\n",
    "\n",
    "- Test the concordance between vertex positions on L and R hemis"
   ]
  },
  {
   "cell_type": "code",
   "execution_count": null,
   "id": "671994dc",
   "metadata": {},
   "outputs": [],
   "source": [
    "# Set the environment\n",
    "import os\n",
    "import glob\n",
    "import numpy as np\n",
    "import nibabel as nib\n",
    "import seaborn as sns\n",
    "from brainspace.plotting import plot_hemispheres\n",
    "from brainspace.mesh.mesh_io import read_surface\n",
    "from brainspace.datasets import load_conte69\n",
    "\n",
    "# Set the working directory to the 'out' directory\n",
    "out='/data_/mica3/BIDS_MICs/derivatives' # <<<<<<<<<<<< CHANGE THIS PATH\n",
    "os.chdir(out)\n",
    "\n",
    "# This variable will be different for each subject\n",
    "sub='sub-HC159'\n",
    "ses='ses-01'\n",
    "subjectID=f'{sub}_{ses}'           # <<<<<<<<<<<< CHANGE THIS SUBJECT's ID\n",
    "subjectDir=f'micapipe_v0.2.0/{sub}/{ses}' # <<<<<<<<<<<< CHANGE THIS SUBJECT's DIRECTORY\n",
    "\n",
    "# Set paths and variables\n",
    "dir_FS = 'freesurfer/' + subjectID\n",
    "dir_surf = subjectDir + '/surf/'\n",
    "dir_maps = subjectDir + '/maps/'\n",
    "\n",
    "# Path to MICAPIPE\n",
    "micapipe=os.popen(\"echo $MICAPIPE\").read()[:-1]"
   ]
  },
  {
   "cell_type": "code",
   "execution_count": null,
   "id": "79d49115",
   "metadata": {},
   "outputs": [],
   "source": [
    "micapipe"
   ]
  },
  {
   "cell_type": "code",
   "execution_count": null,
   "id": "fae3c066",
   "metadata": {},
   "outputs": [],
   "source": [
    "# Load native pial surface\n",
    "pial_lh = read_surface(dir_FS+'/surf/lh.pial', itype='fs')\n",
    "pial_rh = read_surface(dir_FS+'/surf/rh.pial', itype='fs')\n",
    "\n",
    "# Load native white matter surface\n",
    "wm_lh = read_surface(dir_FS+'/surf/lh.white', itype='fs')\n",
    "wm_rh = read_surface(dir_FS+'/surf/rh.white', itype='fs')\n",
    "\n",
    "# Load native inflated surface\n",
    "inf_lh = read_surface(dir_FS+'/surf/lh.inflated', itype='fs')\n",
    "inf_rh = read_surface(dir_FS+'/surf/rh.inflated', itype='fs')\n",
    "\n",
    "# Load fsaverage5\n",
    "fs5_lh = read_surface('freesurfer/fsaverage5/surf/lh.pial', itype='fs')\n",
    "fs5_rh = read_surface('freesurfer/fsaverage5/surf/rh.pial', itype='fs')\n",
    "\n",
    "# Load fsaverage5 inflated\n",
    "fs5_inf_lh = read_surface('freesurfer/fsaverage5/surf/lh.inflated', itype='fs')\n",
    "fs5_inf_rh = read_surface('freesurfer/fsaverage5/surf/rh.inflated', itype='fs')\n",
    "\n",
    "# Load fsLR 32k\n",
    "f32k_lh = read_surface(micapipe + '/surfaces/fsLR-32k.L.surf.gii', itype='gii')\n",
    "f32k_rh = read_surface(micapipe + '/surfaces/fsLR-32k.R.surf.gii', itype='gii')\n",
    "\n",
    "# Load fsLR 32k inflated\n",
    "f32k_inf_lh = read_surface(micapipe + '/surfaces/fsLR-32k.L.inflated.surf.gii', itype='gii')\n",
    "f32k_inf_rh = read_surface(micapipe + '/surfaces/fsLR-32k.R.inflated.surf.gii', itype='gii')\n",
    "\n",
    "# Load Load fsLR 5k\n",
    "f5k_lh = read_surface(micapipe + '/surfaces/fsLR-5k.L.surf.gii', itype='gii')\n",
    "f5k_rh = read_surface(micapipe + '/surfaces/fsLR-5k.R.surf.gii', itype='gii')\n",
    "\n",
    "# Load fsLR 5k inflated\n",
    "f5k_inf_lh = read_surface(micapipe + '/surfaces/fsLR-5k.L.inflated.surf.gii', itype='gii')\n",
    "f5k_inf_rh = read_surface(micapipe + '/surfaces/fsLR-5k.R.inflated.surf.gii', itype='gii')"
   ]
  },
  {
   "cell_type": "code",
   "execution_count": null,
   "id": "5ce76a5b",
   "metadata": {},
   "outputs": [],
   "source": [
    "# thickness on inflated native surface\n",
    "# Load data\n",
    "th_lh = dir_maps + subjectID + '_hemi-L_surf-fsnative_label-thickness.func.gii'\n",
    "th_rh = dir_maps + subjectID + '_hemi-R_surf-fsnative_label-thickness.func.gii'\n",
    "th_nat = np.hstack(np.concatenate((nib.load(th_lh).darrays[0].data,\n",
    "                                   nib.load(th_rh).darrays[0].data), axis=0))\n",
    "\n",
    "# Plot the surface\n",
    "plot_hemispheres(inf_lh, inf_rh, array_name=th_nat, size=(900, 250), color_bar='bottom', zoom=1.25, embed_nb=True, interactive=False, share='both',\n",
    "                 nan_color=(0, 0, 0, 1), color_range=(1.5, 4), cmap=\"jet\", transparent_bg=False)"
   ]
  },
  {
   "cell_type": "code",
   "execution_count": null,
   "id": "47613ebe",
   "metadata": {},
   "outputs": [],
   "source": [
    "# thickness fsavg5\n",
    "# Load data\n",
    "th_lh_fs5 = dir_maps + subjectID + '_hemi-L_surf-fsaverage5_label-thickness.func.gii'\n",
    "th_rh_fs5 = dir_maps + subjectID + '_hemi-R_surf-fsaverage5_label-thickness.func.gii'\n",
    "th_fs5 = np.hstack(np.concatenate((nib.load(th_lh_fs5).darrays[0].data,\n",
    "                                   nib.load(th_rh_fs5).darrays[0].data), axis=0))\n",
    "\n",
    "# Plot the surface\n",
    "plot_hemispheres(fs5_inf_lh, fs5_inf_rh, array_name=th_fs5, size=(900, 250), color_bar='bottom', zoom=1.25, embed_nb=True, interactive=False, share='both',\n",
    "                         nan_color=(0, 0, 0, 1), color_range=(1.5, 4), cmap=\"jet\", transparent_bg=False)"
   ]
  },
  {
   "cell_type": "code",
   "execution_count": null,
   "id": "cf5eb5d4",
   "metadata": {},
   "outputs": [],
   "source": [
    "# Load the data\n",
    "th_lh_fsLR32k = dir_maps + subjectID + '_hemi-L_surf-fsLR-32k_label-thickness.func.gii'\n",
    "th_rh_fsLR32k = dir_maps + subjectID + '_hemi-R_surf-fsLR-32k_label-thickness.func.gii'\n",
    "th_fsLR32k = np.hstack(np.concatenate((nib.load(th_lh_fsLR32k).darrays[0].data,\n",
    "                                       nib.load(th_rh_fsLR32k).darrays[0].data), axis=0))\n",
    "\n",
    "# Plot the surface\n",
    "plot_hemispheres(f32k_inf_lh, f32k_inf_rh, array_name=th_fsLR32k, size=(900, 250), color_bar='bottom', zoom=1.25, embed_nb=True, interactive=False, share='both',\n",
    "                         nan_color=(0, 0, 0, 1), color_range=(1.5, 4), cmap=\"jet\", transparent_bg=False)"
   ]
  },
  {
   "cell_type": "code",
   "execution_count": null,
   "id": "6f8f6027",
   "metadata": {},
   "outputs": [],
   "source": [
    "# NATIVE INFLATED\n",
    "\n",
    "cv_lh = dir_maps + subjectID + '_hemi-L_surf-fsnative_label-curv.func.gii'\n",
    "cv_rh = dir_maps + subjectID + '_hemi-R_surf-fsnative_label-curv.func.gii'\n",
    "cv = np.hstack(np.concatenate((nib.load(cv_lh).darrays[0].data,\n",
    "                               nib.load(cv_rh).darrays[0].data), axis=0))\n",
    "\n",
    "plot_hemispheres(inf_lh, inf_rh, array_name=cv, size=(900, 250), color_bar='bottom', zoom=1.25, embed_nb=True, interactive=False, share='both',\n",
    "                         nan_color=(0, 0, 0, 1), color_range=(-0.2, 0.2), cmap='RdYlGn', transparent_bg=False)"
   ]
  },
  {
   "cell_type": "code",
   "execution_count": null,
   "id": "08570eba",
   "metadata": {},
   "outputs": [],
   "source": [
    "# fsLR-32k\n",
    "cv_lh_fsLR32k = dir_maps + subjectID + '_hemi-L_surf-fsLR-32k_label-curv.func.gii'\n",
    "cv_rh_fsLR32k = dir_maps + subjectID + '_hemi-R_surf-fsLR-32k_label-curv.func.gii'\n",
    "cv_fsLR32k = np.hstack(np.concatenate((nib.load(cv_lh_fsLR32k).darrays[0].data,\n",
    "                                       nib.load(cv_rh_fsLR32k).darrays[0].data), axis=0))\n",
    "# Plot the surface\n",
    "plot_hemispheres(f32k_inf_lh, f32k_inf_rh, array_name=cv_fsLR32k, size=(900, 250), color_bar='bottom', zoom=1.25, embed_nb=True, interactive=False, share='both',\n",
    "                         nan_color=(0, 0, 0, 1), color_range=(-0.2, 0.2), cmap='RdYlGn', transparent_bg=False)"
   ]
  },
  {
   "cell_type": "code",
   "execution_count": null,
   "id": "186845ba",
   "metadata": {},
   "outputs": [],
   "source": [
    "import nibabel as nib\n",
    "import numpy as np\n",
    "rt = \"/host/verges/tank/data/daniel/parcellations/DeKraker25/\"\n",
    "dk25_pth = \"sub-bigbrain_hemi-R_label-hipp_den-0p5mm_DeKraker25.label.gii\"\n",
    "\n",
    "lbl = nib.load(rt + dk25_pth).darrays[0].data\n",
    "print(type(lbl))\n",
    "print(len(lbl))\n",
    "print(f\"Num unique: {len(set(lbl))}: {set(lbl)}\")\n",
    "toInvestigate = [10,20]\n",
    "for i in toInvestigate:\n",
    "    print(f\"Label {i}: {np.where(lbl==i)[0]}\")"
   ]
  },
  {
   "cell_type": "code",
   "execution_count": null,
   "id": "2bb83c55",
   "metadata": {},
   "outputs": [],
   "source": [
    "import tTsTGrpUtils as tsutil\n",
    "\n",
    "reimport_src = True\n",
    "if 'dl' not in globals() or dl is None or reimport_src:\n",
    "    dl = tsutil.loadPickle(\"/host/verges/tank/data/daniel/3T7T/z/outputs/04b_dl_maps_03Oct2025-150159.pkl\")"
   ]
  },
  {
   "cell_type": "code",
   "execution_count": null,
   "id": "a47ce1b4",
   "metadata": {},
   "outputs": [],
   "source": [
    "tsutil.print_dict(dl)"
   ]
  },
  {
   "cell_type": "code",
   "execution_count": null,
   "id": "c55f9822",
   "metadata": {},
   "outputs": [],
   "source": [
    "import importlib\n",
    "importlib.reload(tsutil)\n",
    "item_test = dl[168]\n",
    "tsutil.print_dict(dl, idx=  168)\n",
    "df = item_test['df_maps']\n",
    "\n",
    "print(df.shape)\n",
    "print(df.columns[-10:])\n",
    "\n",
    "df_hemiL = df[[col for col in df.columns if col.endswith('_L')]]\n",
    "df_hemiR = df[[col for col in df.columns if col.endswith('_R')]]\n",
    "\n",
    "# replace suffixes\n",
    "df_hemiL.columns = [col.replace('_L', '') for col in df_hemiL.columns]\n",
    "df_hemiR.columns = [col.replace('_R', '') for col in df_hemiR.columns]\n",
    "\n",
    "print(df_hemiL.shape)\n",
    "print(df_hemiR.shape)"
   ]
  },
  {
   "cell_type": "code",
   "execution_count": null,
   "id": "4588dcad",
   "metadata": {},
   "outputs": [],
   "source": [
    "importlib.reload(tsutil)\n",
    "surf = 'den-' + item_test['surf']\n",
    "df_parc = tsutil.apply_DK25(df, surf, verbose = True)\n",
    "\n",
    "print(f\"Cols: {df_parc.columns}\")\n",
    "print(f\"Len unique cols {len(set(df_parc.columns))}: {set(df_parc.columns)}\")"
   ]
  },
  {
   "cell_type": "code",
   "execution_count": null,
   "id": "2c55618d",
   "metadata": {},
   "outputs": [],
   "source": [
    "col_l = []\n",
    "col_r = []\n",
    "for i in range(24):\n",
    "    j = i + 1\n",
    "    col_l.append(str(j) + '_L')\n",
    "    col_r.append(str(j) + '_R')\n",
    "\n",
    "cols = col_l + col_r \n",
    "\n",
    "print(f\"Cols not in df_parc: {set(cols) - set(df_parc.columns)}\")"
   ]
  },
  {
   "cell_type": "code",
   "execution_count": null,
   "id": "4380fe94",
   "metadata": {},
   "outputs": [],
   "source": []
  }
 ],
 "metadata": {
  "kernelspec": {
   "display_name": "tTsT_py38",
   "language": "python",
   "name": "python3"
  },
  "language_info": {
   "codemirror_mode": {
    "name": "ipython",
    "version": 3
   },
   "file_extension": ".py",
   "mimetype": "text/x-python",
   "name": "python",
   "nbconvert_exporter": "python",
   "pygments_lexer": "ipython3",
   "version": "3.8.20"
  }
 },
 "nbformat": 4,
 "nbformat_minor": 5
}
