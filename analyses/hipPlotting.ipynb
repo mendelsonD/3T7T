{
 "cells": [
  {
   "cell_type": "code",
   "execution_count": null,
   "id": "2ce658e8",
   "metadata": {},
   "outputs": [],
   "source": [
    "import importlib\n",
    "import tTsTGrpUtils as tsutil\n",
    "import utils_plots as uplots\n",
    "import os\n",
    "import sys\n",
    "sys.path.append(\"/host/verges/tank/data/daniel/3T7T/z/code/analyses/hippunfold_toolbox/\")\n",
    "from hippunfold_toolbox import plotting"
   ]
  },
  {
   "cell_type": "code",
   "execution_count": null,
   "id": "d8c96c16",
   "metadata": {},
   "outputs": [],
   "source": [
    "root = \"/host/verges/tank/data/daniel/3T7T/z/outputs/\"\n",
    "pth_05a = \"05a_winStudy_20Oct2025-084311.pkl\" # Has all data from above maps as well. D score btw px and ctrl z-scores\n",
    "key_ft = 'feature' # key for feature in dict\n",
    "foi = ['thickness', 'T1map'] # features of interest\n",
    "key_ids = [['ctrl_IDs'],['TLE_R_IDs', 'TLE_L_IDs']]\n",
    "dl = tsutil.loadPickle(root + pth_05a)\n",
    "foi = [\"thickness\"]\n",
    "dl = tsutil.filt_dl(dl = dl, \n",
    "                            key_ft = key_ft, foi = foi, \n",
    "                            key_ids = None)\n",
    "tsutil.print_dict(dl)\n",
    "item = dl[16]\n",
    "tsutil.printItemMetadata(item)\n",
    "item.keys()"
   ]
  },
  {
   "cell_type": "code",
   "execution_count": null,
   "id": "44661b5a",
   "metadata": {},
   "outputs": [],
   "source": [
    "from hippunfold_toolbox import plotting\n",
    "import numpy as np\n",
    "importlib.reload(tsutil)\n",
    "item['surf']"
   ]
  },
  {
   "cell_type": "code",
   "execution_count": null,
   "id": "91720b1e",
   "metadata": {},
   "outputs": [],
   "source": [
    "\n",
    "df_hip = item['df_maps']\n",
    "df_hip = tsutil.loadPickle(df_hip)\n",
    "df_z_mean = np.mean(df_hip, axis=0)\n",
    "#print(f\"df_maps { df_z_mean.ndim} {df_z_mean.shape}: {df_z_mean.index}\")\n",
    "#print(type(df_z_mean.index))\n",
    "#print(df_z_mean.index)\n",
    "\n",
    "L, R = tsutil.splitHemis(df_z_mean)\n",
    "\n",
    "# add L, R in a list of arrays for plotting\n",
    "L_np = L.to_numpy().flatten()\n",
    "R_np = R.to_numpy().flatten()\n",
    "data = np.hstack(np.concatenate([L_np, R_np], axis=0))\n",
    "#print(L)\n",
    "\n",
    "#print(R)\n",
    "df_z_mean_fmt = np.column_stack((L_np, R_np))  # shape (V, 2, 1)\n",
    "#print(f\"df_z_mean_fmt (type {type(df_z_mean_fmt)}) with shape {df_z_mean_fmt.shape}\")\n",
    "#print(df_z_mean_fmt)\n",
    "# split df_z_mean into two seperate lists (one per hemisphere)\n",
    "cmap = 'inferno'\n",
    "out_pth = \"/host/verges/tank/data/daniel/3T7T/z/outputs/figs/surfaces/test.png\"\n",
    "plotting.surfplot_canonical_foldunfold(df_z_mean_fmt, hemis = ['L','R'], tighten_cwindow=True, labels=['hipp'], color_bar='right', embed_nb=True, color_range =(1,2), cmap = 'inferno', share = True)"
   ]
  },
  {
   "cell_type": "code",
   "execution_count": null,
   "id": "1771b243",
   "metadata": {},
   "outputs": [],
   "source": [
    "importlib.reload(uplots)\n",
    "itm_hip = dl[16]\n",
    "tsutil.printItemMetadata(itm_hip)\n",
    "df_hip = itm_hip['df_maps']\n",
    "df_hip = tsutil.loadPickle(df_hip)\n",
    "df_hip_mean = np.mean(df_hip, axis=0)\n",
    "df_hip_mean_L = df_hip_mean.filter(like='_L', axis=0)\n",
    "df_hip_mean_R = df_hip_mean.filter(like='_R', axis=0)\n",
    "surf_hip = itm_hip['surf']\n",
    "min_val = 1\n",
    "max_val = 2\n",
    "uplots.showBrain(lh=df_hip_mean_L, rh=df_hip_mean_R, region='hipp', surface = surf_hip, min_val = min_val, max_val = max_val, cbar_pos = 'right',cmap='Blues', save_pth = \"/host/verges/tank/data/daniel/3T7T/z/outputs/figs/surfaces\", save_name = \"hip_test\")                           \n"
   ]
  },
  {
   "cell_type": "code",
   "execution_count": null,
   "id": "ac748677",
   "metadata": {},
   "outputs": [],
   "source": [
    "importlib.reload(uplots)\n",
    "itm_ctx = dl[5]\n",
    "tsutil.printItemMetadata(itm_ctx)\n",
    "df_ctx = itm_ctx['df_maps']\n",
    "df_ctx = tsutil.loadPickle(df_ctx)\n",
    "df_ctx_mean = np.mean(df_ctx, axis=0)\n",
    "df_ctx_mean_L = df_ctx_mean.filter(like='_L', axis=0)\n",
    "df_ctx_mean_R = df_ctx_mean.filter(like='_R', axis=0)\n",
    "surf_ctx = itm_ctx['surf']\n",
    "min_val = 0\n",
    "max_val = 3\n",
    "uplots.showBrain(lh=df_ctx_mean_L, rh=df_ctx_mean_R, region='ctx', surface = surf_ctx, min_val = min_val, max_val = max_val, cmap='Blues', cbar_pos = 'right', save_pth = \"/host/verges/tank/data/daniel/3T7T/z/outputs/figs/surfaces\", save_name = \"ctx_test\")"
   ]
  },
  {
   "cell_type": "code",
   "execution_count": null,
   "id": "185f4e8e",
   "metadata": {},
   "outputs": [],
   "source": [
    "import numpy as np\n",
    "from hippunfold_toolbox import plotting\n",
    "\n",
    "test_array = np.random.rand(7262, 2).astype(np.float64)\n",
    "test_array_3d = np.expand_dims(test_array, axis=2)\n",
    "test_array_4d = np.expand_dims(test_array_3d, axis=3)\n",
    "print(test_array_4d.shape)\n",
    "plotting.surfplot_canonical_foldunfold(test_array_4d, tighten_cwindow=True)"
   ]
  },
  {
   "cell_type": "code",
   "execution_count": null,
   "id": "f6101b40",
   "metadata": {},
   "outputs": [],
   "source": [
    "a = \"hipp_hemi-R_surf-den-0p5mm_label-outer_T1map_res-0p8_smth-5mm\"\n",
    "a_mtch = \"hipp_hemi-R_surf-den-0p5mm_label-outer_T1map_smth-5mm\"\n",
    "\n",
    "print(a.split('_res-0p8')[0] + a.split('_res-0p8')[1])\n",
    "print(a.replace('_res-0p8', ''))"
   ]
  },
  {
   "cell_type": "code",
   "execution_count": null,
   "id": "659b8e5e",
   "metadata": {},
   "outputs": [],
   "source": [
    "a = [3,4,5,8]\n",
    "b = [15,16,17]\n",
    "c = [8,9,520]\n",
    "d = a + b + c"
   ]
  },
  {
   "cell_type": "code",
   "execution_count": null,
   "id": "3165b041",
   "metadata": {},
   "outputs": [],
   "source": [
    "print(d)"
   ]
  },
  {
   "cell_type": "code",
   "execution_count": null,
   "id": "b68193d1",
   "metadata": {},
   "outputs": [],
   "source": []
  }
 ],
 "metadata": {
  "kernelspec": {
   "display_name": "tTsT_py38",
   "language": "python",
   "name": "python3"
  },
  "language_info": {
   "codemirror_mode": {
    "name": "ipython",
    "version": 3
   },
   "file_extension": ".py",
   "mimetype": "text/x-python",
   "name": "python",
   "nbconvert_exporter": "python",
   "pygments_lexer": "ipython3",
   "version": "3.8.20"
  }
 },
 "nbformat": 4,
 "nbformat_minor": 5
}
