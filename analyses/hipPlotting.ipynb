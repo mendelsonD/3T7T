{
 "cells": [
  {
   "cell_type": "code",
   "execution_count": null,
   "id": "2ce658e8",
   "metadata": {},
   "outputs": [],
   "source": [
    "import importlib\n",
    "import tTsTGrpUtils as tsutil\n",
    "import utils_plots as uplots\n",
    "import os\n",
    "import sys\n",
    "sys.path.append(\"/host/verges/tank/data/daniel/3T7T/z/code/analyses/hippunfold_toolbox/\")\n",
    "from hippunfold_toolbox import plotting"
   ]
  },
  {
   "cell_type": "code",
   "execution_count": null,
   "id": "d8c96c16",
   "metadata": {},
   "outputs": [],
   "source": [
    "root = \"/host/verges/tank/data/daniel/3T7T/z/outputs/\"\n",
    "pth_05c_winD = \"05c_stats_winD_08Oct2025-140529.pkl\" # Has all data from above maps as well. D score btw px and ctrl z-scores\n",
    "key_ft = 'feature' # key for feature in dict\n",
    "foi = ['thickness', 'T1map'] # features of interest\n",
    "key_ids = [['ctrl_IDs'],['TLE_R_IDs', 'TLE_L_IDs']]\n",
    "dl = tsutil.loadPickle(root + pth_05c_winD)\n",
    "foi = [\"thickness\"]\n",
    "dl = tsutil.filt_dl(dl = dl, \n",
    "                            key_ft = key_ft, foi = foi, \n",
    "                            key_ids = key_ids)\n",
    "tsutil.print_dict(dl)\n",
    "for item in dl:\n",
    "    tsutil.printItemMetadata(item)\n",
    "    print(f\"\\t{len(item['ctrl_IDs'])} controls | {len(item['TLE_R_IDs'])} TLE_R, {len(item['TLE_L_IDs'])} TLE_L\")\n",
    "item = dl[5]\n",
    "tsutil.printItemMetadata(item)\n",
    "item.keys()"
   ]
  },
  {
   "cell_type": "code",
   "execution_count": null,
   "id": "44661b5a",
   "metadata": {},
   "outputs": [],
   "source": [
    "from hippunfold_toolbox import plotting\n",
    "import numpy as np\n",
    "importlib.reload(tsutil)\n",
    "\n",
    "df_z = item['df_maps_z']\n",
    "df_z  =tsutil.loadPickle(df_z)\n",
    "print(f\"df_z: {df_z.shape}\")\n",
    "\n",
    "df_z_mean = np.mean(df_z, axis=0)\n",
    "print(f\"df_z_mean: { df_z_mean.ndim} {df_z_mean.shape}\")\n",
    "print(type(df_z_mean.index))\n",
    "#print(df_z_mean.index)\n",
    "\n",
    "L, R = tsutil.splitHemis(df_z_mean)\n",
    "# add L, R in a list of arrays for plotting\n",
    "L_np = L.to_numpy().flatten()\n",
    "R_np = R.to_numpy().flatten()\n",
    "print(L)\n",
    "print(R)\n",
    "df_z_mean_fmt = np.column_stack((L_np, R_np))  # shape (V, 2)\n",
    "print(f\"df_z_mean_fmt: {type(df_z_mean_fmt)} { df_z_mean_fmt.ndim} {df_z_mean_fmt.shape}\")\n",
    "print(df_z_mean_fmt)\n",
    "# split df_z_mean into two seperate lists (one per hemisphere)\n",
    "\n",
    "\n",
    "plotting.surfplot_canonical_foldunfold(df_z_mean_fmt, tighten_cwindow=True)"
   ]
  },
  {
   "cell_type": "code",
   "execution_count": null,
   "id": "185f4e8e",
   "metadata": {},
   "outputs": [],
   "source": [
    "import numpy as np\n",
    "from hippunfold_toolbox import plotting\n",
    "\n",
    "test_array = np.random.rand(7262, 2).astype(np.float64)\n",
    "test_array_3d = np.expand_dims(test_array, axis=2)\n",
    "test_array_4d = np.expand_dims(test_array_3d, axis=3)\n",
    "print(test_array_4d.shape)\n",
    "plotting.surfplot_canonical_foldunfold(test_array_4d, tighten_cwindow=True)"
   ]
  }
 ],
 "metadata": {
  "kernelspec": {
   "display_name": "tTsT_py38",
   "language": "python",
   "name": "python3"
  },
  "language_info": {
   "codemirror_mode": {
    "name": "ipython",
    "version": 3
   },
   "file_extension": ".py",
   "mimetype": "text/x-python",
   "name": "python",
   "nbconvert_exporter": "python",
   "pygments_lexer": "ipython3",
   "version": "3.8.20"
  }
 },
 "nbformat": 4,
 "nbformat_minor": 5
}
