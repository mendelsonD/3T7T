{
 "cells": [
  {
   "cell_type": "markdown",
   "metadata": {},
   "source": [
    "# Analysis - zBrains outputs at 3T and 7T in epilepsy\n",
    "1. zBrain/wBrain (surface)\n",
    "    a. Histograms of vertex wise scores\n",
    "        i. sub-comparisons with different smoothing kernels\n",
    "    b. Quantifying extreme vertex groups\n",
    "        i. number of identified abnormal areas\n",
    "        ii. size of each abnormal area (number of adjacent extreme vertices)\n",
    "2. Brainstats (surface)\n",
    "    a. t-scores for 3T and 7T\n",
    "    b. cohen's D map between 3T and 7T images\n"
   ]
  },
  {
   "cell_type": "markdown",
   "metadata": {},
   "source": [
    "\n",
    "\n"
   ]
  },
  {
   "cell_type": "markdown",
   "metadata": {},
   "source": [
    "## 1. Histograms"
   ]
  },
  {
   "cell_type": "code",
   "execution_count": 36,
   "metadata": {},
   "outputs": [],
   "source": [
    "import os, sys\n",
    "import pandas as pd\n",
    "import plotly.express as px\n",
    "import plotly.graph_objects as go\n",
    "import plotly.io as pio\n",
    "\n",
    "import vrtx\n",
    "import plots\n",
    "\n",
    "sys.path.append('/host/verges/tank/data/daniel/')  # Replace with the path to Utils\n",
    "from Utils import gen"
   ]
  },
  {
   "cell_type": "code",
   "execution_count": 37,
   "metadata": {},
   "outputs": [
    {
     "data": {
      "text/plain": [
       "<module 'plots' from '/host/verges/tank/data/daniel/3T7T/z/code/analyses/plots.py'>"
      ]
     },
     "execution_count": 37,
     "metadata": {},
     "output_type": "execute_result"
    }
   ],
   "source": [
    "import importlib\n",
    "\n",
    "importlib.reload(vrtx)\n",
    "importlib.reload(plots)"
   ]
  },
  {
   "cell_type": "code",
   "execution_count": 38,
   "metadata": {},
   "outputs": [],
   "source": [
    "# define directories\n",
    "output_dir = \"/host/verges/tank/data/daniel/3T7T/z/outputs\"\n",
    "values_dir = \"values\"\n",
    "\n",
    "# 3T-7T ID correspondence\n",
    "IDs = {\n",
    "    \"path\": \"/host/verges/tank/data/daniel/3T7T/z/data/pt/IDs_ses_analyses_12Mar.csv\",\n",
    "    \"3T_ID\": \"3T_ID\",\n",
    "    \"7T_ID\": \"7T_ID\",\n",
    "    \"3T_SES\": \"3T_SES\",\n",
    "    \"7T_SES\": \"7T_SES\"\n",
    "}\n",
    "\n",
    "#id_corresp = pd.read_csv(corresp_ID)\n",
    "\n",
    "# Study names\n",
    "MICs = {\"name\": \"MICs\"}\n",
    "\n",
    "PNI = {\"name\": \"PNI\"}\n",
    "\n",
    "#studies = [\"MICs\", \"PNI\"]\n",
    "\n",
    "# zBrain analysis regions\n",
    "cortex = {\n",
    "    \"region\": \"cortex\",\n",
    "    \"surfaces\": [\"midthickness\", \"white\"],\n",
    "    \"resolution\": \"32k\",\n",
    "    \"features\": [\"ADC\", \"T1map\", \"volume\"], # (list) features to extract\n",
    "    #\"smoothing\": [10]\n",
    "    \"smoothing\": [2,5,10]\n",
    "}\n",
    "\n",
    "hippocampus = {\n",
    "    \"region\": \"hippocampus\",\n",
    "    \"surfaces\": [\"midthickness\"],\n",
    "    \"resolution\": \"0p5mm\",\n",
    "    \"features\": [\"ADC\", \"T1map\", \"volume\"], # (list) features to extract\n",
    "    #\"smoothing\": [5]\n",
    "    \"smoothing\": [1,2,5]\n",
    "}\n",
    "\n",
    "subcortex = {\n",
    "    \"region\": \"subcortex\",\n",
    "    \"features\": [\"ADC\", \"T1map\", \"volume\"],\n",
    "    \"smoothing\": [2,5,10]\n",
    "}\n",
    "\n",
    "regions = [cortex, hippocampus, subcortex]"
   ]
  },
  {
   "cell_type": "code",
   "execution_count": 39,
   "metadata": {},
   "outputs": [
    {
     "name": "stdout",
     "output_type": "stream",
     "text": [
      "[['/host/verges/tank/data/daniel/3T7T/z/outputs/values/MICs/cortex/MICs_hemi-L_surf-fsLR-32k_label-midthickness_feature-ADC_smooth-2mm_analysis-regional.csv', '/host/verges/tank/data/daniel/3T7T/z/outputs/values/PNI/cortex/PNI_hemi-L_surf-fsLR-32k_label-midthickness_feature-ADC_smooth-2mm_analysis-regional.csv'], ['/host/verges/tank/data/daniel/3T7T/z/outputs/values/MICs/cortex/MICs_hemi-L_surf-fsLR-32k_label-midthickness_feature-T1map_smooth-2mm_analysis-regional.csv', '/host/verges/tank/data/daniel/3T7T/z/outputs/values/PNI/cortex/PNI_hemi-L_surf-fsLR-32k_label-midthickness_feature-T1map_smooth-2mm_analysis-regional.csv'], ['/host/verges/tank/data/daniel/3T7T/z/outputs/values/MICs/cortex/MICs_hemi-L_surf-fsLR-32k_label-midthickness_feature-volume_smooth-2mm_analysis-regional.csv', '/host/verges/tank/data/daniel/3T7T/z/outputs/values/PNI/cortex/PNI_hemi-L_surf-fsLR-32k_label-midthickness_feature-volume_smooth-2mm_analysis-regional.csv'], ['/host/verges/tank/data/daniel/3T7T/z/outputs/values/MICs/cortex/MICs_hemi-L_surf-fsLR-32k_label-midthickness_feature-ADC_smooth-5mm_analysis-regional.csv', '/host/verges/tank/data/daniel/3T7T/z/outputs/values/PNI/cortex/PNI_hemi-L_surf-fsLR-32k_label-midthickness_feature-ADC_smooth-5mm_analysis-regional.csv'], ['/host/verges/tank/data/daniel/3T7T/z/outputs/values/MICs/cortex/MICs_hemi-L_surf-fsLR-32k_label-midthickness_feature-T1map_smooth-5mm_analysis-regional.csv', '/host/verges/tank/data/daniel/3T7T/z/outputs/values/PNI/cortex/PNI_hemi-L_surf-fsLR-32k_label-midthickness_feature-T1map_smooth-5mm_analysis-regional.csv'], ['/host/verges/tank/data/daniel/3T7T/z/outputs/values/MICs/cortex/MICs_hemi-L_surf-fsLR-32k_label-midthickness_feature-volume_smooth-5mm_analysis-regional.csv', '/host/verges/tank/data/daniel/3T7T/z/outputs/values/PNI/cortex/PNI_hemi-L_surf-fsLR-32k_label-midthickness_feature-volume_smooth-5mm_analysis-regional.csv'], ['/host/verges/tank/data/daniel/3T7T/z/outputs/values/MICs/cortex/MICs_hemi-L_surf-fsLR-32k_label-midthickness_feature-ADC_smooth-10mm_analysis-regional.csv', '/host/verges/tank/data/daniel/3T7T/z/outputs/values/PNI/cortex/PNI_hemi-L_surf-fsLR-32k_label-midthickness_feature-ADC_smooth-10mm_analysis-regional.csv'], ['/host/verges/tank/data/daniel/3T7T/z/outputs/values/MICs/cortex/MICs_hemi-L_surf-fsLR-32k_label-midthickness_feature-T1map_smooth-10mm_analysis-regional.csv', '/host/verges/tank/data/daniel/3T7T/z/outputs/values/PNI/cortex/PNI_hemi-L_surf-fsLR-32k_label-midthickness_feature-T1map_smooth-10mm_analysis-regional.csv'], ['/host/verges/tank/data/daniel/3T7T/z/outputs/values/MICs/cortex/MICs_hemi-L_surf-fsLR-32k_label-midthickness_feature-volume_smooth-10mm_analysis-regional.csv', '/host/verges/tank/data/daniel/3T7T/z/outputs/values/PNI/cortex/PNI_hemi-L_surf-fsLR-32k_label-midthickness_feature-volume_smooth-10mm_analysis-regional.csv'], ['/host/verges/tank/data/daniel/3T7T/z/outputs/values/MICs/cortex/MICs_hemi-L_surf-fsLR-32k_label-white_feature-ADC_smooth-2mm_analysis-regional.csv', '/host/verges/tank/data/daniel/3T7T/z/outputs/values/PNI/cortex/PNI_hemi-L_surf-fsLR-32k_label-white_feature-ADC_smooth-2mm_analysis-regional.csv'], ['/host/verges/tank/data/daniel/3T7T/z/outputs/values/MICs/cortex/MICs_hemi-L_surf-fsLR-32k_label-white_feature-T1map_smooth-2mm_analysis-regional.csv', '/host/verges/tank/data/daniel/3T7T/z/outputs/values/PNI/cortex/PNI_hemi-L_surf-fsLR-32k_label-white_feature-T1map_smooth-2mm_analysis-regional.csv'], ['/host/verges/tank/data/daniel/3T7T/z/outputs/values/MICs/cortex/MICs_hemi-L_surf-fsLR-32k_label-white_feature-volume_smooth-2mm_analysis-regional.csv', '/host/verges/tank/data/daniel/3T7T/z/outputs/values/PNI/cortex/PNI_hemi-L_surf-fsLR-32k_label-white_feature-volume_smooth-2mm_analysis-regional.csv'], ['/host/verges/tank/data/daniel/3T7T/z/outputs/values/MICs/cortex/MICs_hemi-L_surf-fsLR-32k_label-white_feature-ADC_smooth-5mm_analysis-regional.csv', '/host/verges/tank/data/daniel/3T7T/z/outputs/values/PNI/cortex/PNI_hemi-L_surf-fsLR-32k_label-white_feature-ADC_smooth-5mm_analysis-regional.csv'], ['/host/verges/tank/data/daniel/3T7T/z/outputs/values/MICs/cortex/MICs_hemi-L_surf-fsLR-32k_label-white_feature-T1map_smooth-5mm_analysis-regional.csv', '/host/verges/tank/data/daniel/3T7T/z/outputs/values/PNI/cortex/PNI_hemi-L_surf-fsLR-32k_label-white_feature-T1map_smooth-5mm_analysis-regional.csv'], ['/host/verges/tank/data/daniel/3T7T/z/outputs/values/MICs/cortex/MICs_hemi-L_surf-fsLR-32k_label-white_feature-volume_smooth-5mm_analysis-regional.csv', '/host/verges/tank/data/daniel/3T7T/z/outputs/values/PNI/cortex/PNI_hemi-L_surf-fsLR-32k_label-white_feature-volume_smooth-5mm_analysis-regional.csv'], ['/host/verges/tank/data/daniel/3T7T/z/outputs/values/MICs/cortex/MICs_hemi-L_surf-fsLR-32k_label-white_feature-ADC_smooth-10mm_analysis-regional.csv', '/host/verges/tank/data/daniel/3T7T/z/outputs/values/PNI/cortex/PNI_hemi-L_surf-fsLR-32k_label-white_feature-ADC_smooth-10mm_analysis-regional.csv'], ['/host/verges/tank/data/daniel/3T7T/z/outputs/values/MICs/cortex/MICs_hemi-L_surf-fsLR-32k_label-white_feature-T1map_smooth-10mm_analysis-regional.csv', '/host/verges/tank/data/daniel/3T7T/z/outputs/values/PNI/cortex/PNI_hemi-L_surf-fsLR-32k_label-white_feature-T1map_smooth-10mm_analysis-regional.csv'], ['/host/verges/tank/data/daniel/3T7T/z/outputs/values/MICs/cortex/MICs_hemi-L_surf-fsLR-32k_label-white_feature-volume_smooth-10mm_analysis-regional.csv', '/host/verges/tank/data/daniel/3T7T/z/outputs/values/PNI/cortex/PNI_hemi-L_surf-fsLR-32k_label-white_feature-volume_smooth-10mm_analysis-regional.csv'], ['/host/verges/tank/data/daniel/3T7T/z/outputs/values/MICs/cortex/MICs_hemi-R_surf-fsLR-32k_label-midthickness_feature-ADC_smooth-2mm_analysis-regional.csv', '/host/verges/tank/data/daniel/3T7T/z/outputs/values/PNI/cortex/PNI_hemi-R_surf-fsLR-32k_label-midthickness_feature-ADC_smooth-2mm_analysis-regional.csv'], ['/host/verges/tank/data/daniel/3T7T/z/outputs/values/MICs/cortex/MICs_hemi-R_surf-fsLR-32k_label-midthickness_feature-T1map_smooth-2mm_analysis-regional.csv', '/host/verges/tank/data/daniel/3T7T/z/outputs/values/PNI/cortex/PNI_hemi-R_surf-fsLR-32k_label-midthickness_feature-T1map_smooth-2mm_analysis-regional.csv'], ['/host/verges/tank/data/daniel/3T7T/z/outputs/values/MICs/cortex/MICs_hemi-R_surf-fsLR-32k_label-midthickness_feature-volume_smooth-2mm_analysis-regional.csv', '/host/verges/tank/data/daniel/3T7T/z/outputs/values/PNI/cortex/PNI_hemi-R_surf-fsLR-32k_label-midthickness_feature-volume_smooth-2mm_analysis-regional.csv'], ['/host/verges/tank/data/daniel/3T7T/z/outputs/values/MICs/cortex/MICs_hemi-R_surf-fsLR-32k_label-midthickness_feature-ADC_smooth-5mm_analysis-regional.csv', '/host/verges/tank/data/daniel/3T7T/z/outputs/values/PNI/cortex/PNI_hemi-R_surf-fsLR-32k_label-midthickness_feature-ADC_smooth-5mm_analysis-regional.csv'], ['/host/verges/tank/data/daniel/3T7T/z/outputs/values/MICs/cortex/MICs_hemi-R_surf-fsLR-32k_label-midthickness_feature-T1map_smooth-5mm_analysis-regional.csv', '/host/verges/tank/data/daniel/3T7T/z/outputs/values/PNI/cortex/PNI_hemi-R_surf-fsLR-32k_label-midthickness_feature-T1map_smooth-5mm_analysis-regional.csv'], ['/host/verges/tank/data/daniel/3T7T/z/outputs/values/MICs/cortex/MICs_hemi-R_surf-fsLR-32k_label-midthickness_feature-volume_smooth-5mm_analysis-regional.csv', '/host/verges/tank/data/daniel/3T7T/z/outputs/values/PNI/cortex/PNI_hemi-R_surf-fsLR-32k_label-midthickness_feature-volume_smooth-5mm_analysis-regional.csv'], ['/host/verges/tank/data/daniel/3T7T/z/outputs/values/MICs/cortex/MICs_hemi-R_surf-fsLR-32k_label-midthickness_feature-ADC_smooth-10mm_analysis-regional.csv', '/host/verges/tank/data/daniel/3T7T/z/outputs/values/PNI/cortex/PNI_hemi-R_surf-fsLR-32k_label-midthickness_feature-ADC_smooth-10mm_analysis-regional.csv'], ['/host/verges/tank/data/daniel/3T7T/z/outputs/values/MICs/cortex/MICs_hemi-R_surf-fsLR-32k_label-midthickness_feature-T1map_smooth-10mm_analysis-regional.csv', '/host/verges/tank/data/daniel/3T7T/z/outputs/values/PNI/cortex/PNI_hemi-R_surf-fsLR-32k_label-midthickness_feature-T1map_smooth-10mm_analysis-regional.csv'], ['/host/verges/tank/data/daniel/3T7T/z/outputs/values/MICs/cortex/MICs_hemi-R_surf-fsLR-32k_label-midthickness_feature-volume_smooth-10mm_analysis-regional.csv', '/host/verges/tank/data/daniel/3T7T/z/outputs/values/PNI/cortex/PNI_hemi-R_surf-fsLR-32k_label-midthickness_feature-volume_smooth-10mm_analysis-regional.csv'], ['/host/verges/tank/data/daniel/3T7T/z/outputs/values/MICs/cortex/MICs_hemi-R_surf-fsLR-32k_label-white_feature-ADC_smooth-2mm_analysis-regional.csv', '/host/verges/tank/data/daniel/3T7T/z/outputs/values/PNI/cortex/PNI_hemi-R_surf-fsLR-32k_label-white_feature-ADC_smooth-2mm_analysis-regional.csv'], ['/host/verges/tank/data/daniel/3T7T/z/outputs/values/MICs/cortex/MICs_hemi-R_surf-fsLR-32k_label-white_feature-T1map_smooth-2mm_analysis-regional.csv', '/host/verges/tank/data/daniel/3T7T/z/outputs/values/PNI/cortex/PNI_hemi-R_surf-fsLR-32k_label-white_feature-T1map_smooth-2mm_analysis-regional.csv'], ['/host/verges/tank/data/daniel/3T7T/z/outputs/values/MICs/cortex/MICs_hemi-R_surf-fsLR-32k_label-white_feature-volume_smooth-2mm_analysis-regional.csv', '/host/verges/tank/data/daniel/3T7T/z/outputs/values/PNI/cortex/PNI_hemi-R_surf-fsLR-32k_label-white_feature-volume_smooth-2mm_analysis-regional.csv'], ['/host/verges/tank/data/daniel/3T7T/z/outputs/values/MICs/cortex/MICs_hemi-R_surf-fsLR-32k_label-white_feature-ADC_smooth-5mm_analysis-regional.csv', '/host/verges/tank/data/daniel/3T7T/z/outputs/values/PNI/cortex/PNI_hemi-R_surf-fsLR-32k_label-white_feature-ADC_smooth-5mm_analysis-regional.csv'], ['/host/verges/tank/data/daniel/3T7T/z/outputs/values/MICs/cortex/MICs_hemi-R_surf-fsLR-32k_label-white_feature-T1map_smooth-5mm_analysis-regional.csv', '/host/verges/tank/data/daniel/3T7T/z/outputs/values/PNI/cortex/PNI_hemi-R_surf-fsLR-32k_label-white_feature-T1map_smooth-5mm_analysis-regional.csv'], ['/host/verges/tank/data/daniel/3T7T/z/outputs/values/MICs/cortex/MICs_hemi-R_surf-fsLR-32k_label-white_feature-volume_smooth-5mm_analysis-regional.csv', '/host/verges/tank/data/daniel/3T7T/z/outputs/values/PNI/cortex/PNI_hemi-R_surf-fsLR-32k_label-white_feature-volume_smooth-5mm_analysis-regional.csv'], ['/host/verges/tank/data/daniel/3T7T/z/outputs/values/MICs/cortex/MICs_hemi-R_surf-fsLR-32k_label-white_feature-ADC_smooth-10mm_analysis-regional.csv', '/host/verges/tank/data/daniel/3T7T/z/outputs/values/PNI/cortex/PNI_hemi-R_surf-fsLR-32k_label-white_feature-ADC_smooth-10mm_analysis-regional.csv'], ['/host/verges/tank/data/daniel/3T7T/z/outputs/values/MICs/cortex/MICs_hemi-R_surf-fsLR-32k_label-white_feature-T1map_smooth-10mm_analysis-regional.csv', '/host/verges/tank/data/daniel/3T7T/z/outputs/values/PNI/cortex/PNI_hemi-R_surf-fsLR-32k_label-white_feature-T1map_smooth-10mm_analysis-regional.csv'], ['/host/verges/tank/data/daniel/3T7T/z/outputs/values/MICs/cortex/MICs_hemi-R_surf-fsLR-32k_label-white_feature-volume_smooth-10mm_analysis-regional.csv', '/host/verges/tank/data/daniel/3T7T/z/outputs/values/PNI/cortex/PNI_hemi-R_surf-fsLR-32k_label-white_feature-volume_smooth-10mm_analysis-regional.csv'], ['/host/verges/tank/data/daniel/3T7T/z/outputs/values/MICs/hippocampus/MICs_hemi-L_den-0p5mm_label-midthickness_feature-ADC_smooth-1mm_analysis-regional.csv', '/host/verges/tank/data/daniel/3T7T/z/outputs/values/PNI/hippocampus/PNI_hemi-L_den-0p5mm_label-midthickness_feature-ADC_smooth-1mm_analysis-regional.csv'], ['/host/verges/tank/data/daniel/3T7T/z/outputs/values/MICs/hippocampus/MICs_hemi-L_den-0p5mm_label-midthickness_feature-T1map_smooth-1mm_analysis-regional.csv', '/host/verges/tank/data/daniel/3T7T/z/outputs/values/PNI/hippocampus/PNI_hemi-L_den-0p5mm_label-midthickness_feature-T1map_smooth-1mm_analysis-regional.csv'], ['/host/verges/tank/data/daniel/3T7T/z/outputs/values/MICs/hippocampus/MICs_hemi-L_den-0p5mm_label-midthickness_feature-volume_smooth-1mm_analysis-regional.csv', '/host/verges/tank/data/daniel/3T7T/z/outputs/values/PNI/hippocampus/PNI_hemi-L_den-0p5mm_label-midthickness_feature-volume_smooth-1mm_analysis-regional.csv'], ['/host/verges/tank/data/daniel/3T7T/z/outputs/values/MICs/hippocampus/MICs_hemi-L_den-0p5mm_label-midthickness_feature-ADC_smooth-2mm_analysis-regional.csv', '/host/verges/tank/data/daniel/3T7T/z/outputs/values/PNI/hippocampus/PNI_hemi-L_den-0p5mm_label-midthickness_feature-ADC_smooth-2mm_analysis-regional.csv'], ['/host/verges/tank/data/daniel/3T7T/z/outputs/values/MICs/hippocampus/MICs_hemi-L_den-0p5mm_label-midthickness_feature-T1map_smooth-2mm_analysis-regional.csv', '/host/verges/tank/data/daniel/3T7T/z/outputs/values/PNI/hippocampus/PNI_hemi-L_den-0p5mm_label-midthickness_feature-T1map_smooth-2mm_analysis-regional.csv'], ['/host/verges/tank/data/daniel/3T7T/z/outputs/values/MICs/hippocampus/MICs_hemi-L_den-0p5mm_label-midthickness_feature-volume_smooth-2mm_analysis-regional.csv', '/host/verges/tank/data/daniel/3T7T/z/outputs/values/PNI/hippocampus/PNI_hemi-L_den-0p5mm_label-midthickness_feature-volume_smooth-2mm_analysis-regional.csv'], ['/host/verges/tank/data/daniel/3T7T/z/outputs/values/MICs/hippocampus/MICs_hemi-L_den-0p5mm_label-midthickness_feature-ADC_smooth-5mm_analysis-regional.csv', '/host/verges/tank/data/daniel/3T7T/z/outputs/values/PNI/hippocampus/PNI_hemi-L_den-0p5mm_label-midthickness_feature-ADC_smooth-5mm_analysis-regional.csv'], ['/host/verges/tank/data/daniel/3T7T/z/outputs/values/MICs/hippocampus/MICs_hemi-L_den-0p5mm_label-midthickness_feature-T1map_smooth-5mm_analysis-regional.csv', '/host/verges/tank/data/daniel/3T7T/z/outputs/values/PNI/hippocampus/PNI_hemi-L_den-0p5mm_label-midthickness_feature-T1map_smooth-5mm_analysis-regional.csv'], ['/host/verges/tank/data/daniel/3T7T/z/outputs/values/MICs/hippocampus/MICs_hemi-L_den-0p5mm_label-midthickness_feature-volume_smooth-5mm_analysis-regional.csv', '/host/verges/tank/data/daniel/3T7T/z/outputs/values/PNI/hippocampus/PNI_hemi-L_den-0p5mm_label-midthickness_feature-volume_smooth-5mm_analysis-regional.csv'], ['/host/verges/tank/data/daniel/3T7T/z/outputs/values/MICs/hippocampus/MICs_hemi-R_den-0p5mm_label-midthickness_feature-ADC_smooth-1mm_analysis-regional.csv', '/host/verges/tank/data/daniel/3T7T/z/outputs/values/PNI/hippocampus/PNI_hemi-R_den-0p5mm_label-midthickness_feature-ADC_smooth-1mm_analysis-regional.csv'], ['/host/verges/tank/data/daniel/3T7T/z/outputs/values/MICs/hippocampus/MICs_hemi-R_den-0p5mm_label-midthickness_feature-T1map_smooth-1mm_analysis-regional.csv', '/host/verges/tank/data/daniel/3T7T/z/outputs/values/PNI/hippocampus/PNI_hemi-R_den-0p5mm_label-midthickness_feature-T1map_smooth-1mm_analysis-regional.csv'], ['/host/verges/tank/data/daniel/3T7T/z/outputs/values/MICs/hippocampus/MICs_hemi-R_den-0p5mm_label-midthickness_feature-volume_smooth-1mm_analysis-regional.csv', '/host/verges/tank/data/daniel/3T7T/z/outputs/values/PNI/hippocampus/PNI_hemi-R_den-0p5mm_label-midthickness_feature-volume_smooth-1mm_analysis-regional.csv'], ['/host/verges/tank/data/daniel/3T7T/z/outputs/values/MICs/hippocampus/MICs_hemi-R_den-0p5mm_label-midthickness_feature-ADC_smooth-2mm_analysis-regional.csv', '/host/verges/tank/data/daniel/3T7T/z/outputs/values/PNI/hippocampus/PNI_hemi-R_den-0p5mm_label-midthickness_feature-ADC_smooth-2mm_analysis-regional.csv'], ['/host/verges/tank/data/daniel/3T7T/z/outputs/values/MICs/hippocampus/MICs_hemi-R_den-0p5mm_label-midthickness_feature-T1map_smooth-2mm_analysis-regional.csv', '/host/verges/tank/data/daniel/3T7T/z/outputs/values/PNI/hippocampus/PNI_hemi-R_den-0p5mm_label-midthickness_feature-T1map_smooth-2mm_analysis-regional.csv'], ['/host/verges/tank/data/daniel/3T7T/z/outputs/values/MICs/hippocampus/MICs_hemi-R_den-0p5mm_label-midthickness_feature-volume_smooth-2mm_analysis-regional.csv', '/host/verges/tank/data/daniel/3T7T/z/outputs/values/PNI/hippocampus/PNI_hemi-R_den-0p5mm_label-midthickness_feature-volume_smooth-2mm_analysis-regional.csv'], ['/host/verges/tank/data/daniel/3T7T/z/outputs/values/MICs/hippocampus/MICs_hemi-R_den-0p5mm_label-midthickness_feature-ADC_smooth-5mm_analysis-regional.csv', '/host/verges/tank/data/daniel/3T7T/z/outputs/values/PNI/hippocampus/PNI_hemi-R_den-0p5mm_label-midthickness_feature-ADC_smooth-5mm_analysis-regional.csv'], ['/host/verges/tank/data/daniel/3T7T/z/outputs/values/MICs/hippocampus/MICs_hemi-R_den-0p5mm_label-midthickness_feature-T1map_smooth-5mm_analysis-regional.csv', '/host/verges/tank/data/daniel/3T7T/z/outputs/values/PNI/hippocampus/PNI_hemi-R_den-0p5mm_label-midthickness_feature-T1map_smooth-5mm_analysis-regional.csv'], ['/host/verges/tank/data/daniel/3T7T/z/outputs/values/MICs/hippocampus/MICs_hemi-R_den-0p5mm_label-midthickness_feature-volume_smooth-5mm_analysis-regional.csv', '/host/verges/tank/data/daniel/3T7T/z/outputs/values/PNI/hippocampus/PNI_hemi-R_den-0p5mm_label-midthickness_feature-volume_smooth-5mm_analysis-regional.csv'], ['/host/verges/tank/data/daniel/3T7T/z/outputs/values/MICs/subcortex/MICs_feature-ADC_analysis-regional.csv', '/host/verges/tank/data/daniel/3T7T/z/outputs/values/PNI/subcortex/PNI_feature-ADC_analysis-regional.csv'], ['/host/verges/tank/data/daniel/3T7T/z/outputs/values/MICs/subcortex/MICs_feature-T1map_analysis-regional.csv', '/host/verges/tank/data/daniel/3T7T/z/outputs/values/PNI/subcortex/PNI_feature-T1map_analysis-regional.csv'], ['/host/verges/tank/data/daniel/3T7T/z/outputs/values/MICs/subcortex/MICs_feature-volume_analysis-regional.csv', '/host/verges/tank/data/daniel/3T7T/z/outputs/values/PNI/subcortex/PNI_feature-volume_analysis-regional.csv']]\n",
      "57 by 2\n",
      "[missingPth] Paths for both studies are missing:\n",
      "\t/host/verges/tank/data/daniel/3T7T/z/outputs/values/MICs/subcortex/MICs_feature-ADC_analysis-regional.csv\n",
      "\t/host/verges/tank/data/daniel/3T7T/z/outputs/values/PNI/subcortex/PNI_feature-ADC_analysis-regional.csv\n",
      "[missingPth] Paths for both studies are missing:\n",
      "\t/host/verges/tank/data/daniel/3T7T/z/outputs/values/MICs/subcortex/MICs_feature-T1map_analysis-regional.csv\n",
      "\t/host/verges/tank/data/daniel/3T7T/z/outputs/values/PNI/subcortex/PNI_feature-T1map_analysis-regional.csv\n",
      "[missingPth] Paths for both studies are missing:\n",
      "\t/host/verges/tank/data/daniel/3T7T/z/outputs/values/MICs/subcortex/MICs_feature-volume_analysis-regional.csv\n",
      "\t/host/verges/tank/data/daniel/3T7T/z/outputs/values/PNI/subcortex/PNI_feature-volume_analysis-regional.csv\n",
      "54 by 2\n"
     ]
    }
   ],
   "source": [
    "# get list of corresponding 3T, 7T aggregate files\n",
    "files_lst = plots.corresp_paths(regions, MICs, PNI, output_dir, values_dir)\n",
    "print(files_lst)\n",
    "gen.lstOlst_shape(files_lst)\n",
    "\n",
    "# get missing files\n",
    "missing = plots.get_missingPths(files_lst)\n",
    "\n",
    "# remove missing files from list\n",
    "for m in missing:\n",
    "    files_lst.remove(m)\n",
    "\n",
    "gen.lstOlst_shape(files_lst)\n"
   ]
  },
  {
   "cell_type": "code",
   "execution_count": 29,
   "metadata": {},
   "outputs": [
    {
     "data": {
      "text/plain": [
       "<module 'vrtx' from '/host/verges/tank/data/daniel/3T7T/z/code/analyses/vrtx.py'>"
      ]
     },
     "execution_count": 29,
     "metadata": {},
     "output_type": "execute_result"
    }
   ],
   "source": [
    "importlib.reload(vrtx)"
   ]
  },
  {
   "cell_type": "code",
   "execution_count": 42,
   "metadata": {},
   "outputs": [
    {
     "name": "stdout",
     "output_type": "stream",
     "text": [
      "MICs_hemi-L_surf-fsLR-32k_label-midthickness_feature-ADC_smooth-2mm_analysis-regional.csv\n",
      "PNI_hemi-L_surf-fsLR-32k_label-midthickness_feature-ADC_smooth-2mm_analysis-regional.csv\n",
      "MICs_hemi-L_surf-fsLR-32k_label-midthickness_feature-T1map_smooth-2mm_analysis-regional.csv\n",
      "PNI_hemi-L_surf-fsLR-32k_label-midthickness_feature-T1map_smooth-2mm_analysis-regional.csv\n",
      "MICs_hemi-L_surf-fsLR-32k_label-midthickness_feature-volume_smooth-2mm_analysis-regional.csv\n",
      "PNI_hemi-L_surf-fsLR-32k_label-midthickness_feature-volume_smooth-2mm_analysis-regional.csv\n",
      "MICs_hemi-L_surf-fsLR-32k_label-midthickness_feature-ADC_smooth-5mm_analysis-regional.csv\n",
      "PNI_hemi-L_surf-fsLR-32k_label-midthickness_feature-ADC_smooth-5mm_analysis-regional.csv\n",
      "MICs_hemi-L_surf-fsLR-32k_label-midthickness_feature-T1map_smooth-5mm_analysis-regional.csv\n",
      "PNI_hemi-L_surf-fsLR-32k_label-midthickness_feature-T1map_smooth-5mm_analysis-regional.csv\n",
      "MICs_hemi-L_surf-fsLR-32k_label-midthickness_feature-volume_smooth-5mm_analysis-regional.csv\n",
      "PNI_hemi-L_surf-fsLR-32k_label-midthickness_feature-volume_smooth-5mm_analysis-regional.csv\n",
      "MICs_hemi-L_surf-fsLR-32k_label-midthickness_feature-ADC_smooth-10mm_analysis-regional.csv\n",
      "PNI_hemi-L_surf-fsLR-32k_label-midthickness_feature-ADC_smooth-10mm_analysis-regional.csv\n",
      "MICs_hemi-L_surf-fsLR-32k_label-midthickness_feature-T1map_smooth-10mm_analysis-regional.csv\n",
      "PNI_hemi-L_surf-fsLR-32k_label-midthickness_feature-T1map_smooth-10mm_analysis-regional.csv\n",
      "MICs_hemi-L_surf-fsLR-32k_label-midthickness_feature-volume_smooth-10mm_analysis-regional.csv\n",
      "PNI_hemi-L_surf-fsLR-32k_label-midthickness_feature-volume_smooth-10mm_analysis-regional.csv\n",
      "MICs_hemi-L_surf-fsLR-32k_label-white_feature-ADC_smooth-2mm_analysis-regional.csv\n",
      "PNI_hemi-L_surf-fsLR-32k_label-white_feature-ADC_smooth-2mm_analysis-regional.csv\n",
      "MICs_hemi-L_surf-fsLR-32k_label-white_feature-T1map_smooth-2mm_analysis-regional.csv\n",
      "PNI_hemi-L_surf-fsLR-32k_label-white_feature-T1map_smooth-2mm_analysis-regional.csv\n",
      "MICs_hemi-L_surf-fsLR-32k_label-white_feature-volume_smooth-2mm_analysis-regional.csv\n",
      "PNI_hemi-L_surf-fsLR-32k_label-white_feature-volume_smooth-2mm_analysis-regional.csv\n",
      "MICs_hemi-L_surf-fsLR-32k_label-white_feature-ADC_smooth-5mm_analysis-regional.csv\n",
      "PNI_hemi-L_surf-fsLR-32k_label-white_feature-ADC_smooth-5mm_analysis-regional.csv\n",
      "MICs_hemi-L_surf-fsLR-32k_label-white_feature-T1map_smooth-5mm_analysis-regional.csv\n"
     ]
    },
    {
     "ename": "EmptyDataError",
     "evalue": "No columns to parse from file",
     "output_type": "error",
     "traceback": [
      "\u001b[0;31m---------------------------------------------------------------------------\u001b[0m",
      "\u001b[0;31mEmptyDataError\u001b[0m                            Traceback (most recent call last)",
      "Cell \u001b[0;32mIn[42], line 6\u001b[0m\n\u001b[1;32m      4\u001b[0m \u001b[38;5;28;01mfor\u001b[39;00m file \u001b[38;5;129;01min\u001b[39;00m lst:\n\u001b[1;32m      5\u001b[0m     \u001b[38;5;28mprint\u001b[39m(os\u001b[38;5;241m.\u001b[39mpath\u001b[38;5;241m.\u001b[39mbasename(file))\n\u001b[0;32m----> 6\u001b[0m     df \u001b[38;5;241m=\u001b[39m \u001b[43mvrtx\u001b[49m\u001b[38;5;241;43m.\u001b[39;49m\u001b[43msummaryStats\u001b[49m\u001b[43m(\u001b[49m\u001b[43mfile\u001b[49m\u001b[43m)\u001b[49m\n\u001b[1;32m      7\u001b[0m     df_summary \u001b[38;5;241m=\u001b[39m pd\u001b[38;5;241m.\u001b[39mconcat([df_summary, df])\n\u001b[1;32m      8\u001b[0m \u001b[38;5;66;03m#plots.group_hist(file, labels=[\"MICs\", \"PNI\"])\u001b[39;00m\n",
      "File \u001b[0;32m/host/verges/tank/data/daniel/3T7T/z/code/analyses/vrtx.py:330\u001b[0m, in \u001b[0;36msummaryStats\u001b[0;34m(pth)\u001b[0m\n\u001b[1;32m    327\u001b[0m \u001b[38;5;28;01mimport\u001b[39;00m\u001b[38;5;250m \u001b[39m\u001b[38;5;21;01mpandas\u001b[39;00m\u001b[38;5;250m \u001b[39m\u001b[38;5;28;01mas\u001b[39;00m\u001b[38;5;250m \u001b[39m\u001b[38;5;21;01mpd\u001b[39;00m\n\u001b[1;32m    328\u001b[0m \u001b[38;5;28;01mimport\u001b[39;00m\u001b[38;5;250m \u001b[39m\u001b[38;5;21;01mnumpy\u001b[39;00m\u001b[38;5;250m \u001b[39m\u001b[38;5;28;01mas\u001b[39;00m\u001b[38;5;250m \u001b[39m\u001b[38;5;21;01mnp\u001b[39;00m\n\u001b[0;32m--> 330\u001b[0m df \u001b[38;5;241m=\u001b[39m \u001b[43mpd\u001b[49m\u001b[38;5;241;43m.\u001b[39;49m\u001b[43mread_csv\u001b[49m\u001b[43m(\u001b[49m\u001b[43mpth\u001b[49m\u001b[43m,\u001b[49m\u001b[43m \u001b[49m\u001b[43mindex_col\u001b[49m\u001b[38;5;241;43m=\u001b[39;49m\u001b[38;5;28;43;01mFalse\u001b[39;49;00m\u001b[43m)\u001b[49m\n\u001b[1;32m    331\u001b[0m out \u001b[38;5;241m=\u001b[39m get_pathInfo(pth)\n\u001b[1;32m    333\u001b[0m out[\u001b[38;5;124m\"\u001b[39m\u001b[38;5;124mn_rows\u001b[39m\u001b[38;5;124m\"\u001b[39m] \u001b[38;5;241m=\u001b[39m \u001b[38;5;28mlen\u001b[39m(df)\n",
      "File \u001b[0;32m/host/verges/tank/data/daniel/software/miniconda3/envs/zBrain_py39/lib/python3.9/site-packages/pandas/io/parsers/readers.py:912\u001b[0m, in \u001b[0;36mread_csv\u001b[0;34m(filepath_or_buffer, sep, delimiter, header, names, index_col, usecols, dtype, engine, converters, true_values, false_values, skipinitialspace, skiprows, skipfooter, nrows, na_values, keep_default_na, na_filter, verbose, skip_blank_lines, parse_dates, infer_datetime_format, keep_date_col, date_parser, date_format, dayfirst, cache_dates, iterator, chunksize, compression, thousands, decimal, lineterminator, quotechar, quoting, doublequote, escapechar, comment, encoding, encoding_errors, dialect, on_bad_lines, delim_whitespace, low_memory, memory_map, float_precision, storage_options, dtype_backend)\u001b[0m\n\u001b[1;32m    899\u001b[0m kwds_defaults \u001b[38;5;241m=\u001b[39m _refine_defaults_read(\n\u001b[1;32m    900\u001b[0m     dialect,\n\u001b[1;32m    901\u001b[0m     delimiter,\n\u001b[0;32m   (...)\u001b[0m\n\u001b[1;32m    908\u001b[0m     dtype_backend\u001b[38;5;241m=\u001b[39mdtype_backend,\n\u001b[1;32m    909\u001b[0m )\n\u001b[1;32m    910\u001b[0m kwds\u001b[38;5;241m.\u001b[39mupdate(kwds_defaults)\n\u001b[0;32m--> 912\u001b[0m \u001b[38;5;28;01mreturn\u001b[39;00m \u001b[43m_read\u001b[49m\u001b[43m(\u001b[49m\u001b[43mfilepath_or_buffer\u001b[49m\u001b[43m,\u001b[49m\u001b[43m \u001b[49m\u001b[43mkwds\u001b[49m\u001b[43m)\u001b[49m\n",
      "File \u001b[0;32m/host/verges/tank/data/daniel/software/miniconda3/envs/zBrain_py39/lib/python3.9/site-packages/pandas/io/parsers/readers.py:577\u001b[0m, in \u001b[0;36m_read\u001b[0;34m(filepath_or_buffer, kwds)\u001b[0m\n\u001b[1;32m    574\u001b[0m _validate_names(kwds\u001b[38;5;241m.\u001b[39mget(\u001b[38;5;124m\"\u001b[39m\u001b[38;5;124mnames\u001b[39m\u001b[38;5;124m\"\u001b[39m, \u001b[38;5;28;01mNone\u001b[39;00m))\n\u001b[1;32m    576\u001b[0m \u001b[38;5;66;03m# Create the parser.\u001b[39;00m\n\u001b[0;32m--> 577\u001b[0m parser \u001b[38;5;241m=\u001b[39m \u001b[43mTextFileReader\u001b[49m\u001b[43m(\u001b[49m\u001b[43mfilepath_or_buffer\u001b[49m\u001b[43m,\u001b[49m\u001b[43m \u001b[49m\u001b[38;5;241;43m*\u001b[39;49m\u001b[38;5;241;43m*\u001b[39;49m\u001b[43mkwds\u001b[49m\u001b[43m)\u001b[49m\n\u001b[1;32m    579\u001b[0m \u001b[38;5;28;01mif\u001b[39;00m chunksize \u001b[38;5;129;01mor\u001b[39;00m iterator:\n\u001b[1;32m    580\u001b[0m     \u001b[38;5;28;01mreturn\u001b[39;00m parser\n",
      "File \u001b[0;32m/host/verges/tank/data/daniel/software/miniconda3/envs/zBrain_py39/lib/python3.9/site-packages/pandas/io/parsers/readers.py:1407\u001b[0m, in \u001b[0;36mTextFileReader.__init__\u001b[0;34m(self, f, engine, **kwds)\u001b[0m\n\u001b[1;32m   1404\u001b[0m     \u001b[38;5;28mself\u001b[39m\u001b[38;5;241m.\u001b[39moptions[\u001b[38;5;124m\"\u001b[39m\u001b[38;5;124mhas_index_names\u001b[39m\u001b[38;5;124m\"\u001b[39m] \u001b[38;5;241m=\u001b[39m kwds[\u001b[38;5;124m\"\u001b[39m\u001b[38;5;124mhas_index_names\u001b[39m\u001b[38;5;124m\"\u001b[39m]\n\u001b[1;32m   1406\u001b[0m \u001b[38;5;28mself\u001b[39m\u001b[38;5;241m.\u001b[39mhandles: IOHandles \u001b[38;5;241m|\u001b[39m \u001b[38;5;28;01mNone\u001b[39;00m \u001b[38;5;241m=\u001b[39m \u001b[38;5;28;01mNone\u001b[39;00m\n\u001b[0;32m-> 1407\u001b[0m \u001b[38;5;28mself\u001b[39m\u001b[38;5;241m.\u001b[39m_engine \u001b[38;5;241m=\u001b[39m \u001b[38;5;28;43mself\u001b[39;49m\u001b[38;5;241;43m.\u001b[39;49m\u001b[43m_make_engine\u001b[49m\u001b[43m(\u001b[49m\u001b[43mf\u001b[49m\u001b[43m,\u001b[49m\u001b[43m \u001b[49m\u001b[38;5;28;43mself\u001b[39;49m\u001b[38;5;241;43m.\u001b[39;49m\u001b[43mengine\u001b[49m\u001b[43m)\u001b[49m\n",
      "File \u001b[0;32m/host/verges/tank/data/daniel/software/miniconda3/envs/zBrain_py39/lib/python3.9/site-packages/pandas/io/parsers/readers.py:1679\u001b[0m, in \u001b[0;36mTextFileReader._make_engine\u001b[0;34m(self, f, engine)\u001b[0m\n\u001b[1;32m   1676\u001b[0m     \u001b[38;5;28;01mraise\u001b[39;00m \u001b[38;5;167;01mValueError\u001b[39;00m(msg)\n\u001b[1;32m   1678\u001b[0m \u001b[38;5;28;01mtry\u001b[39;00m:\n\u001b[0;32m-> 1679\u001b[0m     \u001b[38;5;28;01mreturn\u001b[39;00m \u001b[43mmapping\u001b[49m\u001b[43m[\u001b[49m\u001b[43mengine\u001b[49m\u001b[43m]\u001b[49m\u001b[43m(\u001b[49m\u001b[43mf\u001b[49m\u001b[43m,\u001b[49m\u001b[43m \u001b[49m\u001b[38;5;241;43m*\u001b[39;49m\u001b[38;5;241;43m*\u001b[39;49m\u001b[38;5;28;43mself\u001b[39;49m\u001b[38;5;241;43m.\u001b[39;49m\u001b[43moptions\u001b[49m\u001b[43m)\u001b[49m\n\u001b[1;32m   1680\u001b[0m \u001b[38;5;28;01mexcept\u001b[39;00m \u001b[38;5;167;01mException\u001b[39;00m:\n\u001b[1;32m   1681\u001b[0m     \u001b[38;5;28;01mif\u001b[39;00m \u001b[38;5;28mself\u001b[39m\u001b[38;5;241m.\u001b[39mhandles \u001b[38;5;129;01mis\u001b[39;00m \u001b[38;5;129;01mnot\u001b[39;00m \u001b[38;5;28;01mNone\u001b[39;00m:\n",
      "File \u001b[0;32m/host/verges/tank/data/daniel/software/miniconda3/envs/zBrain_py39/lib/python3.9/site-packages/pandas/io/parsers/c_parser_wrapper.py:93\u001b[0m, in \u001b[0;36mCParserWrapper.__init__\u001b[0;34m(self, src, **kwds)\u001b[0m\n\u001b[1;32m     90\u001b[0m \u001b[38;5;28;01mif\u001b[39;00m kwds[\u001b[38;5;124m\"\u001b[39m\u001b[38;5;124mdtype_backend\u001b[39m\u001b[38;5;124m\"\u001b[39m] \u001b[38;5;241m==\u001b[39m \u001b[38;5;124m\"\u001b[39m\u001b[38;5;124mpyarrow\u001b[39m\u001b[38;5;124m\"\u001b[39m:\n\u001b[1;32m     91\u001b[0m     \u001b[38;5;66;03m# Fail here loudly instead of in cython after reading\u001b[39;00m\n\u001b[1;32m     92\u001b[0m     import_optional_dependency(\u001b[38;5;124m\"\u001b[39m\u001b[38;5;124mpyarrow\u001b[39m\u001b[38;5;124m\"\u001b[39m)\n\u001b[0;32m---> 93\u001b[0m \u001b[38;5;28mself\u001b[39m\u001b[38;5;241m.\u001b[39m_reader \u001b[38;5;241m=\u001b[39m \u001b[43mparsers\u001b[49m\u001b[38;5;241;43m.\u001b[39;49m\u001b[43mTextReader\u001b[49m\u001b[43m(\u001b[49m\u001b[43msrc\u001b[49m\u001b[43m,\u001b[49m\u001b[43m \u001b[49m\u001b[38;5;241;43m*\u001b[39;49m\u001b[38;5;241;43m*\u001b[39;49m\u001b[43mkwds\u001b[49m\u001b[43m)\u001b[49m\n\u001b[1;32m     95\u001b[0m \u001b[38;5;28mself\u001b[39m\u001b[38;5;241m.\u001b[39munnamed_cols \u001b[38;5;241m=\u001b[39m \u001b[38;5;28mself\u001b[39m\u001b[38;5;241m.\u001b[39m_reader\u001b[38;5;241m.\u001b[39munnamed_cols\n\u001b[1;32m     97\u001b[0m \u001b[38;5;66;03m# error: Cannot determine type of 'names'\u001b[39;00m\n",
      "File \u001b[0;32m/host/verges/tank/data/daniel/software/miniconda3/envs/zBrain_py39/lib/python3.9/site-packages/pandas/_libs/parsers.pyx:557\u001b[0m, in \u001b[0;36mpandas._libs.parsers.TextReader.__cinit__\u001b[0;34m()\u001b[0m\n",
      "\u001b[0;31mEmptyDataError\u001b[0m: No columns to parse from file"
     ]
    }
   ],
   "source": [
    "# group analyses. All analysed PX vs all PNE for each file type\n",
    "for lst in files_lst:\n",
    "    df_summary = pd.DataFrame()\n",
    "    for file in lst:\n",
    "        print(os.path.basename(file))\n",
    "        df = vrtx.summaryStats(file)\n",
    "        df_summary = pd.concat([df_summary, df])\n",
    "    #plots.group_hist(file, labels=[\"MICs\", \"PNI\"])"
   ]
  },
  {
   "cell_type": "code",
   "execution_count": 35,
   "metadata": {},
   "outputs": [
    {
     "data": {
      "text/html": [
       "<div>\n",
       "<style scoped>\n",
       "    .dataframe tbody tr th:only-of-type {\n",
       "        vertical-align: middle;\n",
       "    }\n",
       "\n",
       "    .dataframe tbody tr th {\n",
       "        vertical-align: top;\n",
       "    }\n",
       "\n",
       "    .dataframe thead th {\n",
       "        text-align: right;\n",
       "    }\n",
       "</style>\n",
       "<table border=\"1\" class=\"dataframe\">\n",
       "  <thead>\n",
       "    <tr style=\"text-align: right;\">\n",
       "      <th></th>\n",
       "    </tr>\n",
       "  </thead>\n",
       "  <tbody>\n",
       "  </tbody>\n",
       "</table>\n",
       "</div>"
      ],
      "text/plain": [
       "Empty DataFrame\n",
       "Columns: []\n",
       "Index: []"
      ]
     },
     "execution_count": 35,
     "metadata": {},
     "output_type": "execute_result"
    }
   ],
   "source": [
    "df_summary"
   ]
  },
  {
   "cell_type": "code",
   "execution_count": null,
   "metadata": {},
   "outputs": [],
   "source": [
    "# Ridge plots (one line per participant)\n",
    "# plot histogram\n",
    "\n",
    "\n",
    "\n",
    "# check that file exists\n",
    "# if not, continue to next file\n",
    "for file in files_lst:\n",
    "        \n",
    "        \n",
    "        # read in data\n",
    "        df_mics = pd.read_csv(mics_file, index_col=False)\n",
    "        df_pni = pd.read_csv(pni_file, index_col=False)\n",
    "        # remove participants with Na in either df\n",
    "        # df_mics = df_mics.dropna()\n",
    "        # df_pni = df_pni.dropna()\n",
    "        \n",
    "        # keep only overlapping participants both dfs\n",
    "        \n",
    "        ## need to remap col names according to 3T-7T ID correspondence\n",
    "\n",
    "        ## keep only overlapping columns\n",
    "        # cols = df_mics.columns.intersection(df_pni.columns)\n",
    "        # df_mics = df_mics[cols]\n",
    "        # df_pni = df_pni[cols]\n",
    "\n",
    "        ## Take histogram for each participant\n",
    "\n",
    "        # print(df_mics.head())\n",
    "        break\n",
    "        # # construct histogram\n",
    "        # fig = plots.ridge(df_mics, matrix_df = df_mics)\n",
    "        # # show histogram\n",
    "        # fig.show()"
   ]
  },
  {
   "cell_type": "code",
   "execution_count": null,
   "metadata": {},
   "outputs": [],
   "source": []
  },
  {
   "cell_type": "code",
   "execution_count": null,
   "metadata": {},
   "outputs": [],
   "source": [
    "\n",
    "        print(path)\n",
    "        \n",
    "        df = pd.read_csv(path)\n",
    "        fig = plots.histStack(df)\n",
    "        # display plot\n",
    "        fig.show()"
   ]
  }
 ],
 "metadata": {
  "kernelspec": {
   "display_name": "zBrain_py39",
   "language": "python",
   "name": "python3"
  },
  "language_info": {
   "codemirror_mode": {
    "name": "ipython",
    "version": 3
   },
   "file_extension": ".py",
   "mimetype": "text/x-python",
   "name": "python",
   "nbconvert_exporter": "python",
   "pygments_lexer": "ipython3",
   "version": "3.9.21"
  }
 },
 "nbformat": 4,
 "nbformat_minor": 2
}
