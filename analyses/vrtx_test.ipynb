{
 "cells": [
  {
   "cell_type": "code",
   "execution_count": 2,
   "metadata": {},
   "outputs": [],
   "source": [
    "import vrtx"
   ]
  },
  {
   "cell_type": "code",
   "execution_count": 4,
   "metadata": {},
   "outputs": [
    {
     "data": {
      "text/plain": [
       "(7262,)"
      ]
     },
     "execution_count": 4,
     "metadata": {},
     "output_type": "execute_result"
    }
   ],
   "source": [
    "file = \"/data/mica3/BIDS_PNI/derivatives/zbrains_3T7T_daniel_8Jan2025/sub-PNC009/ses-01/maps/hippocampus/sub-PNC009_ses-01_hemi-R_den-0p5mm_label-midthickness_feature-ADC_smooth-5mm.func.gii\"\n",
    "df = vrtx.load_gifti(file)\n",
    "df.shape"
   ]
  },
  {
   "cell_type": "code",
   "execution_count": 6,
   "metadata": {},
   "outputs": [
    {
     "data": {
      "text/plain": [
       "array([1384.0219, 1452.4406, 1372.9602, ..., 1507.9614, 1508.0394,\n",
       "       1510.5323], dtype=float32)"
      ]
     },
     "execution_count": 6,
     "metadata": {},
     "output_type": "execute_result"
    }
   ],
   "source": [
    "file = \"/data/mica3/BIDS_MICs/derivatives/zbrains_3T7T_daniel/sub-PX189/ses-01/maps/cortex/sub-PX189_ses-01_hemi-L_surf-fsLR-32k_label-midthickness_feature-T1map_smooth-10mm.func.gii\"\n",
    "file = \"/data/mica3/BIDS_MICs/derivatives/zbrains_clinical/sub-PX141/ses-01/maps/cortex/sub-PX141_ses-01_hemi-R_surf-fsLR-5k_label-midthickness_feature-T1map_smooth-10mm.func.gii\"\n",
    "values = vrtx.load_gifti(file)\n",
    "values"
   ]
  },
  {
   "cell_type": "code",
   "execution_count": null,
   "metadata": {},
   "outputs": [],
   "source": []
  }
 ],
 "metadata": {
  "kernelspec": {
   "display_name": "zBrain_py39",
   "language": "python",
   "name": "python3"
  },
  "language_info": {
   "codemirror_mode": {
    "name": "ipython",
    "version": 3
   },
   "file_extension": ".py",
   "mimetype": "text/x-python",
   "name": "python",
   "nbconvert_exporter": "python",
   "pygments_lexer": "ipython3",
   "version": "3.9.21"
  }
 },
 "nbformat": 4,
 "nbformat_minor": 2
}
