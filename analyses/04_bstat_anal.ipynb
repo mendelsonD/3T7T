{
 "cells": [
  {
   "cell_type": "markdown",
   "id": "cdcd09b9",
   "metadata": {},
   "source": [
    "# Brainstat analysis comparing 3T and 7T epilepsy"
   ]
  },
  {
   "cell_type": "code",
   "execution_count": null,
   "id": "5d522203",
   "metadata": {},
   "outputs": [],
   "source": [
    "import pandas as pd\n",
    "import numpy as np\n",
    "import brainstat as bstat"
   ]
  },
  {
   "cell_type": "code",
   "execution_count": null,
   "id": "6658496f",
   "metadata": {},
   "outputs": [],
   "source": [
    "# specify root directories\n",
    "MICs = {\n",
    "    \"name\": \"MICs\",\n",
    "    \"dir_root\": \"/data/mica3/BIDS_MICs\",\n",
    "    \"study\": \"3T\"\n",
    "    }\n",
    "\n",
    "PNI = {\n",
    "    \"name\": \"PNI\",\n",
    "    \"dir_root\": \"/data/mica3/BIDS_PNI\",\n",
    "    \"study\": \"7T\"\n",
    "    }"
   ]
  },
  {
   "cell_type": "code",
   "execution_count": null,
   "id": "a6491fd2",
   "metadata": {},
   "outputs": [],
   "source": []
  }
 ],
 "metadata": {
  "language_info": {
   "name": "python"
  }
 },
 "nbformat": 4,
 "nbformat_minor": 5
}
