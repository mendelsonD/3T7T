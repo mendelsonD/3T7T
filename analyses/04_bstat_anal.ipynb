{
 "cells": [
  {
   "cell_type": "markdown",
   "id": "cdcd09b9",
   "metadata": {},
   "source": [
    "# Brainstat analysis comparing 3T and 7T epilepsy  \n",
    "\n",
    "Surface-based comparisons  \n",
    "- vertex-wise T-test : are controls and pts different\n",
    "    - Use brainstat\n",
    "- vertex-wise effect size : how big are the distances between the vertex differences?\n",
    "    - Use own function\n",
    "\n",
    "\n",
    "For figures: \n",
    "- Visualize effect size on a brain masked for significant p-values "
   ]
  },
  {
   "cell_type": "code",
   "execution_count": null,
   "id": "5d522203",
   "metadata": {},
   "outputs": [],
   "source": [
    "import pandas as pd\n",
    "import numpy as np\n",
    "import nibabel as nib\n",
    "import brainstat as bstat"
   ]
  },
  {
   "cell_type": "code",
   "execution_count": null,
   "id": "6658496f",
   "metadata": {},
   "outputs": [],
   "source": [
    "# specify root directories\n",
    "MICs = {\n",
    "    \"name\": \"MICs\",\n",
    "    \"dir_root\": \"/data/mica3/BIDS_MICs\",\n",
    "    \"study\": \"3T\"\n",
    "    }\n",
    "\n",
    "PNI = {\n",
    "    \"name\": \"PNI\",\n",
    "    \"dir_root\": \"/data/mica3/BIDS_PNI\",\n",
    "    \"study\": \"7T\"\n",
    "    }\n",
    "\n",
    "px_grp = { # speficy patient group labels to compare to controls\n",
    "    'all' : ['TLE_U', 'MFCL', 'FLE_R', 'MFCL_bTLE', 'UKN_L', 'mTLE_R', 'mTLE_L', 'FLE_L', 'UKN_U', 'TLE_L', 'TLE_R'],\n",
    "    'TLE' : ['TLE_L', 'TLE_R', 'TLE_U', 'mTLE_R', 'mTLE_L'],\n",
    "    'TLE_L': ['TLE_L', 'mTLE_L'],\n",
    "    'TLE_R': ['TLE_R', 'mTLE_R'],\n",
    "    'FCD' : ['FLE_R', 'FLE_L'],\n",
    "    'MFCL' : ['MFCL', 'MFCL_bTLE'],\n",
    "    'UKN' : ['UKN_L', 'UKN_U']\n",
    "}\n",
    "\n",
    "surfaces = [\"pial\", \"white\", \"midThick\"]"
   ]
  },
  {
   "cell_type": "code",
   "execution_count": null,
   "id": "e78ae7da",
   "metadata": {},
   "outputs": [],
   "source": [
    "# retrieve surfaces from pt of interest\n",
    "\n",
    "def get_surf(study, demo, grp_col, grp):\n",
    "    \"\"\"\n",
    "    Get the surface data for a given group.\n",
    "\n",
    "    inputs:\n",
    "    study: dictionary item with keys 'name', 'dir_root', 'study'\n",
    "    demo: demographic data with list of participant IDs and sessions\n",
    "    grp_col: col in demo with group labels\n",
    "    grp: group label to extract surfaces for\n",
    "\n",
    "\n",
    "    HOW HANDLE MULTIPLE SESSIONS?\n",
    "\n",
    "    outputs:\n",
    "    concatenated surfaces in format accepted by BrainStats\n",
    "    \"\"\"\n",
    "    \n",
    "    import nibabel as nib\n",
    "    \n",
    "    # get the list of patients in the group\n",
    "    pt_list = bstat.get_subjects(study, pt_grp)\n",
    "    \n",
    "    # get the surface data for each patient\n",
    "    surf_data = {}\n",
    "    for pt in pt_list:\n",
    "        surf_data[pt] = {}\n",
    "        for surf in surfaces:\n",
    "            surf_data[pt][surf] = bstat.get_surface_data(study, pt, surf)\n",
    "    \n",
    "    return surf_data\n"
   ]
  },
  {
   "cell_type": "code",
   "execution_count": null,
   "id": "5686b7b0",
   "metadata": {},
   "outputs": [],
   "source": [
    "# load surfaces for 3T controls\n",
    "tT_ctrl \n",
    "\n",
    "# load surfaces for 3T patients (by group?)\n",
    "\n",
    "\n",
    "# load surfaces for 7T controls\n",
    "sT_ctrl\n",
    "\n",
    "# load surfaces"
   ]
  },
  {
   "cell_type": "code",
   "execution_count": null,
   "id": "1305b807",
   "metadata": {},
   "outputs": [],
   "source": [
    "# flip TLEs --> put all lesions on same side"
   ]
  },
  {
   "cell_type": "code",
   "execution_count": null,
   "id": "a6491fd2",
   "metadata": {},
   "outputs": [],
   "source": [
    "# get difference maps at 3T (3T ctrl - 3T cases)"
   ]
  },
  {
   "cell_type": "code",
   "execution_count": null,
   "id": "663e1418",
   "metadata": {},
   "outputs": [],
   "source": [
    "# get difference maps at 7T (7T ctrl - 7T cases)"
   ]
  },
  {
   "cell_type": "code",
   "execution_count": null,
   "id": "8951597e",
   "metadata": {},
   "outputs": [],
   "source": [
    "# get difference maps of difference maps (3T dif maps - 7T dif maps)"
   ]
  }
 ],
 "metadata": {
  "kernelspec": {
   "display_name": "tTsT_py38",
   "language": "python",
   "name": "python3"
  },
  "language_info": {
   "codemirror_mode": {
    "name": "ipython",
    "version": 3
   },
   "file_extension": ".py",
   "mimetype": "text/x-python",
   "name": "python",
   "nbconvert_exporter": "python",
   "pygments_lexer": "ipython3",
   "version": "3.8.20"
  }
 },
 "nbformat": 4,
 "nbformat_minor": 5
}
