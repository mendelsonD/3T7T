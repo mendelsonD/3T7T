{
 "cells": [
  {
   "cell_type": "markdown",
   "metadata": {},
   "source": [
    "# Comparison of 3T and 7T data in epilepsy\n",
    "0. Demographics (Table 1)\n",
    "1. zBrain/wBrain (surface)\n",
    "    a. Histograms of vertex wise scores\n",
    "        i. sub-comparisons with different smoothing kernels\n",
    "    b. Quantifying extreme vertex groups\n",
    "        i. number of identified abnormal areas\n",
    "        ii. size of each abnormal area (number of adjacent extreme vertices)\n",
    "2. Brainstats (surface)\n",
    "    a. t-scores for 3T and 7T\n",
    "    b. cohen's D map between 3T and 7T images"
   ]
  },
  {
   "cell_type": "markdown",
   "metadata": {},
   "source": [
    "## 1. zBrain\n",
    "### a. Histograms\n"
   ]
  },
  {
   "cell_type": "code",
   "execution_count": null,
   "metadata": {},
   "outputs": [],
   "source": []
  }
 ],
 "metadata": {
  "language_info": {
   "name": "python"
  }
 },
 "nbformat": 4,
 "nbformat_minor": 2
}
