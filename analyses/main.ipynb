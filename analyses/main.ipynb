{
 "cells": [
  {
   "cell_type": "markdown",
   "metadata": {},
   "source": [
    "# Comparison of 3T and 7T data in epilepsy\n",
    "-1. Concat zBrains outputs into dataframes\n",
    "0. Demographics (Table 1)\n",
    "1. zBrain/wBrain (surface)\n",
    "    a. Histograms of vertex wise scores\n",
    "        i. sub-comparisons with different smoothing kernels\n",
    "    b. Quantifying extreme vertex groups\n",
    "        i. number of identified abnormal areas\n",
    "        ii. size of each abnormal area (number of adjacent extreme vertices)\n",
    "2. Brainstats (surface)\n",
    "    a. t-scores for 3T and 7T\n",
    "    b. cohen's D map between 3T and 7T images"
   ]
  },
  {
   "cell_type": "markdown",
   "metadata": {},
   "source": [
    "# -1. Prepare data"
   ]
  },
  {
   "cell_type": "code",
   "execution_count": 6,
   "metadata": {},
   "outputs": [],
   "source": [
    "import sys\n",
    "import importlib\n",
    "\n",
    "import vrtx\n",
    "\n",
    "sys.path.append('/Users/danielmendelson/Library/CloudStorage/OneDrive-McGillUniversity/Documents/PhD/Boris/code/')  # Replace with the path to Utils\n",
    "from Utils import gen\n"
   ]
  },
  {
   "cell_type": "code",
   "execution_count": 7,
   "metadata": {},
   "outputs": [
    {
     "data": {
      "text/plain": [
       "<module 'vrtx' from '/Users/danielmendelson/Library/CloudStorage/OneDrive-McGillUniversity/Documents/PhD/Boris/Epilepsy_7T/zBrainsAnalyses/code/3T7T/analyses/vrtx.py'>"
      ]
     },
     "execution_count": 7,
     "metadata": {},
     "output_type": "execute_result"
    }
   ],
   "source": [
    "importlib.reload(vrtx)"
   ]
  },
  {
   "cell_type": "code",
   "execution_count": 9,
   "metadata": {},
   "outputs": [],
   "source": [
    "# IDs of interest\n",
    "dir_IDs = \"\" # should be in long format\n",
    "\n",
    "# zb output directories\n",
    "# N.b. .surf.gii files usually in:\n",
    "# root/zBrains_output/sub-ID/ses-xx/maps/region\n",
    "root_dir = \"/data/mica3/BIDS_PNI/derivatives\" \n",
    "dir_zb = \"zbrains_3T7T_daniel_8Jan2025\" # that holds sub/ses\n",
    "dir_sub = \"maps\"\n",
    "\n",
    "cortex = {\n",
    "    \"region\": \"cortex\",\n",
    "    \"surfaces\": [\"pial\", \"midthickness\", \"white\"],\n",
    "    \"resolution\": \"32k\",\n",
    "    \"features\": [\"ADC\", \"T1map\", \"thickness\"], # (list) features to extract\n",
    "    \"smoothing\": [2,5,10]\n",
    "}\n",
    "\n",
    "hippocampus = {\n",
    "    \"region\": \"hippocampus\",\n",
    "    \"surfaces\": [\"midthickness\"],\n",
    "    \"resolution\": \"0p5mm\",\n",
    "    \"features\": [\"ADC\", \"T1map\", \"thickness\"], # (list) features to extract\n",
    "    \"smoothing\": [1,2,5]\n",
    "}\n",
    "\n",
    "subcortex = {\n",
    "    \"region\": \"subcortex\",\n",
    "    \"features\": [\"ADC\", \"T1map\", \"thickness\"],\n",
    "    \"smoothing\": [2,5,10]\n",
    "}\n",
    "\n",
    "regions = [cortex, hippocampus, subcortex]\n",
    "\n"
   ]
  },
  {
   "cell_type": "code",
   "execution_count": 15,
   "metadata": {},
   "outputs": [
    {
     "name": "stdout",
     "output_type": "stream",
     "text": [
      "cortex: 54\n",
      "hippocampus: 18\n",
      "subcortex: 3\n",
      "hemi-L_surf-fsLR-32k_label-pial_feature-ADC_smooth-2mm.func.gii hemi-L_surf-fsLR-32k_label-pial_feature-T1map_smooth-2mm.func.gii hemi-L_surf-fsLR-32k_label-pial_feature-thickness_smooth-2mm.func.gii hemi-L_surf-fsLR-32k_label-pial_feature-ADC_smooth-5mm.func.gii hemi-L_surf-fsLR-32k_label-pial_feature-T1map_smooth-5mm.func.gii hemi-L_surf-fsLR-32k_label-pial_feature-thickness_smooth-5mm.func.gii hemi-L_surf-fsLR-32k_label-pial_feature-ADC_smooth-10mm.func.gii hemi-L_surf-fsLR-32k_label-pial_feature-T1map_smooth-10mm.func.gii hemi-L_surf-fsLR-32k_label-pial_feature-thickness_smooth-10mm.func.gii hemi-L_surf-fsLR-32k_label-midthickness_feature-ADC_smooth-2mm.func.gii hemi-L_surf-fsLR-32k_label-midthickness_feature-T1map_smooth-2mm.func.gii hemi-L_surf-fsLR-32k_label-midthickness_feature-thickness_smooth-2mm.func.gii hemi-L_surf-fsLR-32k_label-midthickness_feature-ADC_smooth-5mm.func.gii hemi-L_surf-fsLR-32k_label-midthickness_feature-T1map_smooth-5mm.func.gii hemi-L_surf-fsLR-32k_label-midthickness_feature-thickness_smooth-5mm.func.gii hemi-L_surf-fsLR-32k_label-midthickness_feature-ADC_smooth-10mm.func.gii hemi-L_surf-fsLR-32k_label-midthickness_feature-T1map_smooth-10mm.func.gii hemi-L_surf-fsLR-32k_label-midthickness_feature-thickness_smooth-10mm.func.gii hemi-L_surf-fsLR-32k_label-white_feature-ADC_smooth-2mm.func.gii hemi-L_surf-fsLR-32k_label-white_feature-T1map_smooth-2mm.func.gii hemi-L_surf-fsLR-32k_label-white_feature-thickness_smooth-2mm.func.gii hemi-L_surf-fsLR-32k_label-white_feature-ADC_smooth-5mm.func.gii hemi-L_surf-fsLR-32k_label-white_feature-T1map_smooth-5mm.func.gii hemi-L_surf-fsLR-32k_label-white_feature-thickness_smooth-5mm.func.gii hemi-L_surf-fsLR-32k_label-white_feature-ADC_smooth-10mm.func.gii hemi-L_surf-fsLR-32k_label-white_feature-T1map_smooth-10mm.func.gii hemi-L_surf-fsLR-32k_label-white_feature-thickness_smooth-10mm.func.gii hemi-R_surf-fsLR-32k_label-pial_feature-ADC_smooth-2mm.func.gii hemi-R_surf-fsLR-32k_label-pial_feature-T1map_smooth-2mm.func.gii hemi-R_surf-fsLR-32k_label-pial_feature-thickness_smooth-2mm.func.gii hemi-R_surf-fsLR-32k_label-pial_feature-ADC_smooth-5mm.func.gii hemi-R_surf-fsLR-32k_label-pial_feature-T1map_smooth-5mm.func.gii hemi-R_surf-fsLR-32k_label-pial_feature-thickness_smooth-5mm.func.gii hemi-R_surf-fsLR-32k_label-pial_feature-ADC_smooth-10mm.func.gii hemi-R_surf-fsLR-32k_label-pial_feature-T1map_smooth-10mm.func.gii hemi-R_surf-fsLR-32k_label-pial_feature-thickness_smooth-10mm.func.gii hemi-R_surf-fsLR-32k_label-midthickness_feature-ADC_smooth-2mm.func.gii hemi-R_surf-fsLR-32k_label-midthickness_feature-T1map_smooth-2mm.func.gii hemi-R_surf-fsLR-32k_label-midthickness_feature-thickness_smooth-2mm.func.gii hemi-R_surf-fsLR-32k_label-midthickness_feature-ADC_smooth-5mm.func.gii hemi-R_surf-fsLR-32k_label-midthickness_feature-T1map_smooth-5mm.func.gii hemi-R_surf-fsLR-32k_label-midthickness_feature-thickness_smooth-5mm.func.gii hemi-R_surf-fsLR-32k_label-midthickness_feature-ADC_smooth-10mm.func.gii hemi-R_surf-fsLR-32k_label-midthickness_feature-T1map_smooth-10mm.func.gii hemi-R_surf-fsLR-32k_label-midthickness_feature-thickness_smooth-10mm.func.gii hemi-R_surf-fsLR-32k_label-white_feature-ADC_smooth-2mm.func.gii hemi-R_surf-fsLR-32k_label-white_feature-T1map_smooth-2mm.func.gii hemi-R_surf-fsLR-32k_label-white_feature-thickness_smooth-2mm.func.gii hemi-R_surf-fsLR-32k_label-white_feature-ADC_smooth-5mm.func.gii hemi-R_surf-fsLR-32k_label-white_feature-T1map_smooth-5mm.func.gii hemi-R_surf-fsLR-32k_label-white_feature-thickness_smooth-5mm.func.gii hemi-R_surf-fsLR-32k_label-white_feature-ADC_smooth-10mm.func.gii hemi-R_surf-fsLR-32k_label-white_feature-T1map_smooth-10mm.func.gii hemi-R_surf-fsLR-32k_label-white_feature-thickness_smooth-10mm.func.gii\n",
      "hemi-L_den-0p5mm_label-midthickness_feature-ADC_smooth-1mm.func.gii hemi-L_den-0p5mm_label-midthickness_feature-T1map_smooth-1mm.func.gii hemi-L_den-0p5mm_label-midthickness_feature-thickness_smooth-1mm.func.gii hemi-L_den-0p5mm_label-midthickness_feature-ADC_smooth-2mm.func.gii hemi-L_den-0p5mm_label-midthickness_feature-T1map_smooth-2mm.func.gii hemi-L_den-0p5mm_label-midthickness_feature-thickness_smooth-2mm.func.gii hemi-L_den-0p5mm_label-midthickness_feature-ADC_smooth-5mm.func.gii hemi-L_den-0p5mm_label-midthickness_feature-T1map_smooth-5mm.func.gii hemi-L_den-0p5mm_label-midthickness_feature-thickness_smooth-5mm.func.gii hemi-R_den-0p5mm_label-midthickness_feature-ADC_smooth-1mm.func.gii hemi-R_den-0p5mm_label-midthickness_feature-T1map_smooth-1mm.func.gii hemi-R_den-0p5mm_label-midthickness_feature-thickness_smooth-1mm.func.gii hemi-R_den-0p5mm_label-midthickness_feature-ADC_smooth-2mm.func.gii hemi-R_den-0p5mm_label-midthickness_feature-T1map_smooth-2mm.func.gii hemi-R_den-0p5mm_label-midthickness_feature-thickness_smooth-2mm.func.gii hemi-R_den-0p5mm_label-midthickness_feature-ADC_smooth-5mm.func.gii hemi-R_den-0p5mm_label-midthickness_feature-T1map_smooth-5mm.func.gii hemi-R_den-0p5mm_label-midthickness_feature-thickness_smooth-5mm.func.gii\n",
      "feature-ADC.csv feature-T1map.csv feature-thickness.csv\n",
      "\n"
     ]
    }
   ],
   "source": [
    "# build df (one per unique combination of feature, hemisphere, surface, smoothing)\n",
    "\n",
    "file_ptrns = []  # Initialize as an empty list\n",
    "\n",
    "for region in regions:\n",
    "    region_ptrns = []  # Initialize as an empty list\n",
    "    \n",
    "    region_ptrns = vrtx.zbFilePtrn(region)\n",
    "\n",
    "    # save patterns for each region in seperate list\n",
    "    file_ptrns.append(region_ptrns)  # Append directly to the list\n",
    "\n",
    "for region, i in zip(regions, range(len(file_ptrns))): print(f\"{region[\"region\"]}: {len(file_ptrns[i])}\")\n",
    "print('\\n'.join(' '.join(map(str,sl)) for sl in file_ptrns))\n",
    "print() # Print the list of file patterns\n"
   ]
  },
  {
   "cell_type": "code",
   "execution_count": null,
   "metadata": {},
   "outputs": [],
   "source": [
    "# iterate through each file pattern and IDs_ses, get paths and extract paths to a df\n",
    "IDs = Utils.gen.read(dir_IDs)\n",
    "for i in range(IDs):\n",
    "    ID = IDs[i,\"ID\"]\n",
    "    SES = IDs[i,\"SES\"]\n",
    "    for region, region_ptrns in zip(regions, file_ptrns):\n",
    "        for ptrn in region_ptrns:\n",
    "            dir = \"/\".join([root_dir, dir_zb, ID, SES, dir_sub, region, ptrn])\n",
    "            # read in this path, save into a column in df\n",
    "\n",
    "        # save df to csv\n",
    "        "
   ]
  },
  {
   "cell_type": "markdown",
   "metadata": {},
   "source": [
    "## 1. zBrain\n",
    "### a. Histograms\n"
   ]
  },
  {
   "cell_type": "code",
   "execution_count": null,
   "metadata": {},
   "outputs": [],
   "source": [
    "\n"
   ]
  },
  {
   "cell_type": "code",
   "execution_count": null,
   "metadata": {},
   "outputs": [],
   "source": []
  }
 ],
 "metadata": {
  "kernelspec": {
   "display_name": "base",
   "language": "python",
   "name": "python3"
  },
  "language_info": {
   "codemirror_mode": {
    "name": "ipython",
    "version": 3
   },
   "file_extension": ".py",
   "mimetype": "text/x-python",
   "name": "python",
   "nbconvert_exporter": "python",
   "pygments_lexer": "ipython3",
   "version": "3.12.7"
  }
 },
 "nbformat": 4,
 "nbformat_minor": 2
}
