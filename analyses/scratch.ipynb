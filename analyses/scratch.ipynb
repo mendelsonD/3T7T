{
 "cells": [
  {
   "cell_type": "code",
   "execution_count": null,
   "id": "7df6d77d",
   "metadata": {},
   "outputs": [],
   "source": [
    "import pandas as pd\n",
    "import numpy as np\n",
    "import importlib\n",
    "import tTsTGrpUtils as tsutil"
   ]
  },
  {
   "cell_type": "code",
   "execution_count": null,
   "id": "4b521ec6",
   "metadata": {},
   "outputs": [],
   "source": [
    "# load in all dls up to now\n",
    "importlib.reload(tsutil)\n",
    "root = \"/host/verges/tank/data/daniel/3T7T/z/outputs/\"\n",
    "pth_04a_maps = \"04a_dl_maps_08Oct2025-104443.pkl\"\n",
    "pth_04b_parc = \"04b_dl_maps_parcel_08Oct2025-110220.pkl\"\n",
    "pth_05a_winComp = \"05a_winStudy_08Oct2025-110338.pkl\"\n",
    "pth_05b_winComp_ic = \"05b_stats_winStudy_grp_08Oct2025-110654.pkl\"\n",
    "pth_05c_winD = \"05c_stats_winD_08Oct2025-140529.pkl\"\n",
    "pth_05d_btwD = \"05d_btwD_08Oct2025-153038.pkl\"\n",
    "\n",
    "dl_04a_maps = tsutil.loadPickle(root + pth_04a_maps, verbose = True)\n",
    "dl_04b_parc = tsutil.loadPickle(root + pth_04b_parc, verbose = True)\n",
    "dl_05a_winComp = tsutil.loadPickle(root + pth_05a_winComp, verbose = True)\n",
    "dl_05b_winComp_ic = tsutil.loadPickle(root + pth_05b_winComp_ic, verbose = True)\n",
    "dl_05c_winD = tsutil.loadPickle(root + pth_05c_winD, verbose = True)\n",
    "dl_05d_btwD = tsutil.loadPickle(root + pth_05d_btwD, verbose = True)"
   ]
  },
  {
   "cell_type": "code",
   "execution_count": null,
   "id": "fcbd7479",
   "metadata": {},
   "outputs": [],
   "source": [
    "index = 12\n",
    "dl_04a_slice = dl_04a_maps[index]\n",
    "txt = tsutil.printItemMetadata(dl_04a_slice, return_txt=True)\n",
    "print(f\"dl_maps: {txt}\")\n",
    "\n",
    "# find corresponding index in other dls\n",
    "\n",
    "dl_04b_slice = dl_04b_parc[index]\n",
    "txt = tsutil.printItemMetadata(dl_04b_slice, return_txt=True)\n",
    "print(f\"dl_parc: {txt}\")\n",
    "\n",
    "dl_05a_slice = dl_05a_winComp[index]\n",
    "txt = tsutil.printItemMetadata(dl_05a_slice, return_txt=True)\n",
    "print(f\"dl_winComp: {txt}\")\n",
    "\n",
    "dl_05b_slice = dl_05b_winComp_ic[index]\n",
    "txt = tsutil.printItemMetadata(dl_05b_slice, return_txt=True)\n",
    "print(f\"dl_winComp_ic: {txt}\")\n",
    "\n",
    "dl_05c_slice = dl_05c_winD[index]\n",
    "txt = tsutil.printItemMetadata(dl_05c_slice, return_txt=True)\n",
    "print(f\"dl_winD: {txt}\")\n",
    "\n",
    "dl_05d_slice = dl_05d_btwD[index]\n",
    "txt = tsutil.printItemMetadata(dl_05d_slice, return_txt=True)\n",
    "print(f\"dl_btwD: {txt}\")"
   ]
  },
  {
   "cell_type": "code",
   "execution_count": null,
   "id": "c0b80444",
   "metadata": {},
   "outputs": [],
   "source": [
    "# print keys for each test item\n",
    "print(f\"dl_maps keys:\\n\\t{list(dl_04a_slice.keys())}\")\n",
    "print(f\"dl_parc keys:\\n\\t{list(dl_04b_slice.keys())}\")\n",
    "print(f\"dl_winComp keys:\\n\\t{list(dl_05a_slice.keys())}\")\n",
    "print(f\"dl_grp_ic keys:\\n\\t{list(dl_05b_slice.keys())}\")"
   ]
  },
  {
   "cell_type": "code",
   "execution_count": null,
   "id": "037d95e0",
   "metadata": {},
   "outputs": [],
   "source": [
    "if dl_04a_slice['region'] == 'cortex':\n",
    "    dl_maps_key = 'df_maps'\n",
    "    dl_parc_key = 'df_maps_parc_glsr_mdn'\n",
    "    dl_winComp_key = 'df_maps_parc_glsr_mdn_z'\n",
    "    dl_grp_ic_key = 'df_maps_parc_glsr_mdn_z_TLE_ic'\n",
    "else:\n",
    "    dl_maps_key = 'df_maps'\n",
    "    dl_parc_key = 'df_maps_parc_dk25_mdn'\n",
    "    dl_winComp_key = 'df_maps_parc_dk25_mdn_z'\n",
    "    dl_grp_ic_key = 'df_maps_parc_dk25_mdn_z_TLE_ic'\n",
    "\n",
    "# print indices and col names for each\n",
    "df_maps = dl_04a_slice[dl_maps_key]\n",
    "if type(df_maps) is str:\n",
    "    df_maps = tsutil.loadPickle(df_maps, verbose = True)\n",
    "print(f\"dl_maps <{df_maps.shape}>\\n\\t{list(df_maps.columns)}\")\n",
    "\n",
    "df_parc = dl_04b_slice[dl_parc_key]\n",
    "if type(df_parc) is str:\n",
    "    df_parc = tsutil.loadPickle(df_parc, verbose = True)\n",
    "print(f\"dl_parc <{df_parc.shape}>\\n\\t{list(df_parc.columns)}\")\n",
    "\n",
    "df_winComp = dl_05a_slice[dl_winComp_key]\n",
    "if type(df_winComp) is str:\n",
    "    df_winComp = tsutil.loadPickle(df_winComp, verbose = True)\n",
    "print(f\"dl_winComp <{df_winComp.shape}>\\n\\t{list(df_winComp.columns)}\")\n",
    "\n",
    "df_grp_ic = dl_05b_slice[dl_grp_ic_key]\n",
    "if type(df_grp_ic) is str:\n",
    "    df_grp_ic = tsutil.loadPickle(df_grp_ic, verbose = True)\n",
    "print(f\"dl_grp_ic <{df_grp_ic.shape}>\\n\\t{list(df_grp_ic.columns)}\")"
   ]
  },
  {
   "cell_type": "code",
   "execution_count": null,
   "id": "c3d70415",
   "metadata": {},
   "outputs": [],
   "source": []
  }
 ],
 "metadata": {
  "kernelspec": {
   "display_name": "tTsT_py38",
   "language": "python",
   "name": "python3"
  },
  "language_info": {
   "codemirror_mode": {
    "name": "ipython",
    "version": 3
   },
   "file_extension": ".py",
   "mimetype": "text/x-python",
   "name": "python",
   "nbconvert_exporter": "python",
   "pygments_lexer": "ipython3",
   "version": "3.8.20"
  }
 },
 "nbformat": 4,
 "nbformat_minor": 5
}
