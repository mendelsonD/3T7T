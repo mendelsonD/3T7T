{
 "cells": [
  {
   "cell_type": "code",
   "execution_count": null,
   "id": "7df6d77d",
   "metadata": {},
   "outputs": [],
   "source": [
    "import pandas as pd\n",
    "import numpy as np\n",
    "import importlib\n",
    "import tTsTGrpUtils as tsutil"
   ]
  },
  {
   "cell_type": "code",
   "execution_count": null,
   "id": "ee327933",
   "metadata": {},
   "outputs": [],
   "source": [
    "dl_pth = \"/host/verges/tank/data/daniel/3T7T/z/outputs/05b_stats_winStudy_grp_18Sep2025-125541.pkl\"\n",
    "dl = tsutil.loadPickle(dl_pth)\n",
    "tsutil.print_dict(dl)"
   ]
  },
  {
   "cell_type": "code",
   "execution_count": null,
   "id": "442bcd85",
   "metadata": {},
   "outputs": [],
   "source": [
    "df_null = True\n",
    "df_ctx = False\n",
    "koi = 'df_w_TLE_ic' # key of interest\n",
    "\n",
    "while df_null or not df_ctx:\n",
    "    rdm_idx = np.random.choice(len(dl), size=1, replace=False)[0]\n",
    "    item = dl[rdm_idx]\n",
    "    df = item.get(koi, None)\n",
    "\n",
    "    if df is not None and df.shape[0] > 1:\n",
    "        df_null = False\n",
    "    else:\n",
    "        df_null = True\n",
    "        \n",
    "    if item['region'] == 'cortex':\n",
    "        df_ctx = True\n",
    "    else:\n",
    "        df_ctx = False\n",
    "\n",
    "tsutil.printItemMetadata(item)\n",
    "surf = item['surf']\n",
    "print(f\"df shape: {df.shape}, surf: {surf}\")\n",
    "print(f\"df columns (first 10): {df.columns[:10]}\")\n"
   ]
  },
  {
   "cell_type": "code",
   "execution_count": null,
   "id": "b14035fd",
   "metadata": {},
   "outputs": [],
   "source": [
    "item.keys()"
   ]
  },
  {
   "cell_type": "code",
   "execution_count": null,
   "id": "0efc39fe",
   "metadata": {},
   "outputs": [],
   "source": [
    "importlib.reload(tsutil)\n",
    "\n",
    "df_parcel = tsutil.apply_glasser(df, surf=surf, \n",
    "                          labelType='glasser_name_short', addHemiLbl=True, \n",
    "                          ipsiTo='L')\n",
    "print(f\"df_parcel shape: {df_parcel.shape}\")\n",
    "print(f\"df_parcel columns (first 10): {df_parcel.columns[:10]}\")"
   ]
  },
  {
   "cell_type": "code",
   "execution_count": null,
   "id": "a163a269",
   "metadata": {},
   "outputs": [],
   "source": [
    "df.columns"
   ]
  },
  {
   "cell_type": "code",
   "execution_count": null,
   "id": "41f4816c",
   "metadata": {},
   "outputs": [],
   "source": [
    "glasser_details = pd.read_csv(\"/host/verges/tank/data/daniel/parcellations/glasser_details.csv\")"
   ]
  },
  {
   "cell_type": "code",
   "execution_count": null,
   "id": "4f75cd8e",
   "metadata": {},
   "outputs": [],
   "source": [
    "glasser_details['regionLongName']"
   ]
  }
 ],
 "metadata": {
  "kernelspec": {
   "display_name": "tTsT_py38",
   "language": "python",
   "name": "python3"
  },
  "language_info": {
   "codemirror_mode": {
    "name": "ipython",
    "version": 3
   },
   "file_extension": ".py",
   "mimetype": "text/x-python",
   "name": "python",
   "nbconvert_exporter": "python",
   "pygments_lexer": "ipython3",
   "version": "3.8.20"
  }
 },
 "nbformat": 4,
 "nbformat_minor": 5
}
