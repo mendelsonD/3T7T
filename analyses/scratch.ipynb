{
 "cells": [
  {
   "cell_type": "code",
   "execution_count": null,
   "id": "7df6d77d",
   "metadata": {},
   "outputs": [],
   "source": [
    "import pandas as pd\n",
    "import numpy as np\n",
    "import importlib\n",
    "import tTsTGrpUtils as tsutil"
   ]
  },
  {
   "cell_type": "code",
   "execution_count": null,
   "id": "ee327933",
   "metadata": {},
   "outputs": [],
   "source": [
    "dl_pth = \"/host/verges/tank/data/daniel/3T7T/z/outputs/05b_stats_winStudy_grp_18Sep2025-125541.pkl\"\n",
    "dl = tsutil.loadPickle(dl_pth)\n",
    "tsutil.print_dict(dl)"
   ]
  },
  {
   "cell_type": "code",
   "execution_count": null,
   "id": "442bcd85",
   "metadata": {},
   "outputs": [],
   "source": [
    "importlib.reload(tsutil)\n",
    "dl_out = tsutil.parcellate_items(dl=dl, df_key_in='df_w_TLE_L', parc='glasser', region = 'cortex', parc_lbl='glasser_name_short', verbose=True)"
   ]
  },
  {
   "cell_type": "code",
   "execution_count": null,
   "id": "10a93199",
   "metadata": {},
   "outputs": [],
   "source": [
    "item = dl_out[15]\n",
    "item.keys()"
   ]
  },
  {
   "cell_type": "code",
   "execution_count": null,
   "id": "3078940a",
   "metadata": {},
   "outputs": [],
   "source": [
    "df = item['df_w_TLE_L_parc-glsr']\n",
    "cols = df.columns\n",
    "print(f\"Shape of df: {df.shape}\")\n",
    "print(list(cols))\n",
    "print(f\"N unique: {len(np.unique(cols))}\")\n"
   ]
  },
  {
   "cell_type": "code",
   "execution_count": null,
   "id": "4f096092",
   "metadata": {},
   "outputs": [],
   "source": [
    "importlib.reload(tsutil)\n",
    "tsutil.print_dict(dl_out, df_print=True, idx=15)"
   ]
  },
  {
   "cell_type": "code",
   "execution_count": null,
   "id": "0efc39fe",
   "metadata": {},
   "outputs": [],
   "source": [
    "importlib.reload(tsutil)\n",
    "\n",
    "df_parcel = tsutil.apply_glasser(df, surf=surf, \n",
    "                          labelType='glasser_name_short', addHemiLbl=True, \n",
    "                          ipsiTo='L')\n",
    "print(f\"df_parcel shape: {df_parcel.shape}\")\n",
    "print(f\"df_parcel columns (first 10): {df_parcel.columns[:10]}\")"
   ]
  },
  {
   "cell_type": "code",
   "execution_count": null,
   "id": "a163a269",
   "metadata": {},
   "outputs": [],
   "source": [
    "df.columns"
   ]
  },
  {
   "cell_type": "code",
   "execution_count": null,
   "id": "41f4816c",
   "metadata": {},
   "outputs": [],
   "source": [
    "glasser_details = pd.read_csv(\"/host/verges/tank/data/daniel/parcellations/glasser_details.csv\")"
   ]
  },
  {
   "cell_type": "code",
   "execution_count": null,
   "id": "4f75cd8e",
   "metadata": {},
   "outputs": [],
   "source": [
    "glasser_details['regionLongName']"
   ]
  }
 ],
 "metadata": {
  "kernelspec": {
   "display_name": "tTsT_py38",
   "language": "python",
   "name": "python3"
  },
  "language_info": {
   "codemirror_mode": {
    "name": "ipython",
    "version": 3
   },
   "file_extension": ".py",
   "mimetype": "text/x-python",
   "name": "python",
   "nbconvert_exporter": "python",
   "pygments_lexer": "ipython3",
   "version": "3.8.20"
  }
 },
 "nbformat": 4,
 "nbformat_minor": 5
}
