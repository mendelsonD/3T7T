{
 "cells": [
  {
   "cell_type": "markdown",
   "id": "50ac7b35",
   "metadata": {},
   "source": [
    "# For digging into findings"
   ]
  },
  {
   "cell_type": "code",
   "execution_count": null,
   "id": "4c7564e8",
   "metadata": {},
   "outputs": [],
   "source": [
    "import os\n",
    "import pandas as pd\n",
    "import sys\n",
    "import importlib\n",
    "import re\n",
    "import numpy as np\n",
    "import datetime\n",
    "import matplotlib.pyplot as plot\n",
    "import copy\n",
    "import pickle\n",
    "\n",
    "sys.path.append(os.getcwd())\n",
    "\n",
    "\n",
    "lab = True\n",
    "save = True\n",
    "\n",
    "if lab: # define root paths to source files\n",
    "    src_dir = \"/host/verges/tank/data/daniel/3T7T/z/data/sources\" # path to directory with source pt sheets\n",
    "    sys.path.append(\"/host/verges/tank/data/daniel/\")\n",
    "    if save:\n",
    "        save_pth = save_pth = \"/host/verges/tank/data/daniel/3T7T/z/outputs\"\n",
    "else:\n",
    "    src_dir = \"/Users/danielmendelson/Library/CloudStorage/OneDrive-McGillUniversity/Documents/PhD/Boris/projects/PT/sources\" # path to directory with source pt sheets\n",
    "    sys.path.append(\"/Users/danielmendelson/Library/CloudStorage/OneDrive-McGillUniversity/Documents/PhD/Boris/code\")\n",
    "    if save:\n",
    "        save_pth = \"/Users/danielmendelson/Library/CloudStorage/OneDrive-McGillUniversity/Documents/PhD/Boris/projects/3T7T/data/outputs\"\n",
    "\n",
    "import demo\n",
    "import tTsTGrpUtils as tsutil\n",
    "from genUtils import id, gen, t1\n",
    "\n",
    "importlib.reload(demo)\n",
    "importlib.reload(id)\n",
    "importlib.reload(gen)\n",
    "importlib.reload(t1)\n",
    "importlib.reload(tsutil)"
   ]
  },
  {
   "cell_type": "code",
   "execution_count": null,
   "id": "a0b330ab",
   "metadata": {},
   "outputs": [],
   "source": [
    "importlib.reload(tsutil)\n",
    "\n",
    "reimport = True\n",
    "if 'dl' not in globals() or dl is None or reimport:\n",
    "    dl = tsutil.loadPickle(\"/host/verges/tank/data/daniel/3T7T/z/outputs/04c_04c_parcel_dl_maps_03Oct2025-161843.pkl\")\n",
    "tsutil.print_dict(dl)"
   ]
  },
  {
   "cell_type": "code",
   "execution_count": null,
   "id": "b2ef7e2c",
   "metadata": {},
   "outputs": [],
   "source": [
    "# return in"
   ]
  }
 ],
 "metadata": {
  "kernelspec": {
   "display_name": "tTsT_py38",
   "language": "python",
   "name": "python3"
  },
  "language_info": {
   "codemirror_mode": {
    "name": "ipython",
    "version": 3
   },
   "file_extension": ".py",
   "mimetype": "text/x-python",
   "name": "python",
   "nbconvert_exporter": "python",
   "pygments_lexer": "ipython3",
   "version": "3.8.20"
  }
 },
 "nbformat": 4,
 "nbformat_minor": 5
}
