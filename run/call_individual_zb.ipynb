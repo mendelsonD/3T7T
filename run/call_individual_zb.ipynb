{
 "cells": [
  {
   "cell_type": "markdown",
   "metadata": {},
   "source": [
    "# Run z-brains analyses for individual cases"
   ]
  },
  {
   "cell_type": "code",
   "execution_count": 6,
   "metadata": {},
   "outputs": [],
   "source": [
    "import pandas as pd\n",
    "import os, sys, subprocess\n",
    "import importlib\n",
    "\n",
    "# import utilities\n",
    "utilities_path = os.path.abspath(os.path.join(os.getcwd(), \"/host/verges/tank/data/daniel\", \"Utils\"))\n",
    "sys.path.append(utilities_path) # path to Utilities\n",
    "import id, gen, zbUtils"
   ]
  },
  {
   "cell_type": "code",
   "execution_count": 12,
   "metadata": {},
   "outputs": [
    {
     "data": {
      "text/plain": [
       "<module 'id' from '/host/verges/tank/data/daniel/Utils/id.py'>"
      ]
     },
     "execution_count": 12,
     "metadata": {},
     "output_type": "execute_result"
    }
   ],
   "source": [
    "importlib.reload(id)"
   ]
  },
  {
   "cell_type": "code",
   "execution_count": 2,
   "metadata": {},
   "outputs": [],
   "source": [
    "# Input IDs\n",
    "\n",
    "# IDs: should be in long format (all IDs to be used should be in same column (regardless of if it is 3T or 7T ID))\n",
    "# model: \"/host/verges/tank/data/daniel/3T7T/z/data/models/participants_mics_hc.csv\"\n",
    "\n",
    "# list col names\n",
    "IDs = {\n",
    "    \"dir\": \"/host/verges/tank/data/daniel/3T7T/z/data/pt/master_demo_19Mar2025_age_y.csv\",\n",
    "    \"ID_col\": \"ID\",\n",
    "    \"SES_col\": \"SES\",\n",
    "    \"age_col\": \"age_y\",\n",
    "    \"sex\": \"sex\"\n",
    "}\n",
    "\n",
    "# Dir tmp\n",
    "dir_tmp = \"/host/verges/tank/data/daniel/3T7T/z/outputs/tmp\""
   ]
  },
  {
   "cell_type": "code",
   "execution_count": 3,
   "metadata": {},
   "outputs": [],
   "source": [
    "# zBrain parameters\n",
    "\n",
    "# size of kernels for smoothing (cortex: ctx; hippocampus: hip). \n",
    "# NOTE: Both lists must be of same length.\n",
    "smooth_ctx=[2,5,10] # try with 2,5,10\n",
    "smooth_hip=[1,2,5] # try with 1,2,5\n",
    "\n",
    "# surface\n",
    "res=\"high\" # low (cotrex: 5K, hippocampus: 2mm), high (ctx: 32k, hipp: 0.5mm), all (both high and low)\n",
    "\n",
    "# Output: path and file name\n",
    "out_name=\"DM_zb_37comp\" # will create folders with this name in BIDs directory\n",
    "\n",
    "# path to z-brains software\n",
    "score_type = \"z\" # z or w, will call appropriate shell script accordingly\n",
    "\n",
    "# Dictionary item for each study\n",
    "# Note: zBrains only currently supports one 'ctrl_ptrn', not a list\n",
    "\n",
    "# directories need to be relative except for root\n",
    "MICs = {\n",
    "    \"name\" : \"MICs\",\n",
    "    \"ctrl_ptrn\" : \"HC\",\n",
    "    \"pt_ptrn\" : \"PX\",\n",
    "    \"dir_root\" : \"/data/mica3/BIDS_MICs\",\n",
    "    \"dir_raw\" : \"rawdata\",\n",
    "    \"dir_deriv\" : \"derivatives\",\n",
    "    \"dir_mp\" : \"micapipe_v0.2.0\",\n",
    "    \"dir_hu\" : \"hippunfold_v1.3.0\"\n",
    "}\n",
    "\n",
    "PNI = {\n",
    "    \"name\" : \"PNI\",\n",
    "    \"ctrl_ptrn\" : \"PNC\",\n",
    "    \"pt_ptrn\" : \"PNE\",\n",
    "    \"dir_root\" : \"/data/mica3/BIDS_PNI\",\n",
    "    \"dir_raw\" : \"rawdata\",\n",
    "    \"dir_deriv\" : \"derivatives\",\n",
    "    \"dir_mp\" : \"micapipe_v0.2.0\",\n",
    "    \"dir_hu\" : \"hippunfold_v1.3.0\"\n",
    "}\n",
    "\n",
    "studies = [MICs, PNI]"
   ]
  },
  {
   "cell_type": "code",
   "execution_count": 4,
   "metadata": {},
   "outputs": [],
   "source": [
    "# testing values\n",
    "test = False\n",
    "if test:\n",
    "    dir_software = \"/host/verges/tank/data/daniel/3T7T/z/code/run/tests/printArgs.sh\"\n",
    "elif score_type == \"z\":\n",
    "    dir_software = \"/host/verges/tank/data/daniel/3T7T/z/code/run/runZB.sh\"\n",
    "elif score_type == \"w\":\n",
    "    dir_software = \"/host/verges/tank/data/daniel/3T7T/z/code/run/runZB_w.sh\"\n",
    "else:  \n",
    "    print(\"Invalid score type. Must be either 'z', 'w' or 'test'\")\n",
    "\n",
    "# studies = [MICs]\n",
    "# smooth_ctx=[10]\n",
    "# smooth_hip=[5]"
   ]
  },
  {
   "cell_type": "code",
   "execution_count": 13,
   "metadata": {},
   "outputs": [
    {
     "name": "stdout",
     "output_type": "stream",
     "text": [
      "[INFO] Formatted IDs saved to:  /host/verges/tank/data/daniel/3T7T/z/outputs/tmp/master_demo_19Mar2025_age_y_fmt.csv\n",
      "[split] Saved: /host/verges/tank/data/daniel/3T7T/z/outputs/tmp/split_ID_1.csv (24 rows)sub-PX: 16, sub-HC: 8\n",
      "[split] Saved: /host/verges/tank/data/daniel/3T7T/z/outputs/tmp/split_ID_2.csv (24 rows)sub-PNE: 16, sub-PNC: 8\n"
     ]
    }
   ],
   "source": [
    "# Convert IDs to format accepted by zBrains (add sub-, ses-)\n",
    "\n",
    "# ensure that ID and ses are properly formatted\n",
    "#df = gen.fmt(IDs[\"dir\"], [dir_IDs_cols[\"7T_ID\"], dir_IDs_cols[\"3T_ID\"], dir_IDs_cols[\"7T_SES\"], dir_IDs_cols[\"3T_SES\"]])\n",
    "df = gen.fmt(IDs[\"dir\"], [\"ID\", \"SES\"])\n",
    "# rename df columns\n",
    "df = df.rename(columns={IDs[\"ID_col\"]:\"ID\", IDs[\"SES_col\"]:\"SES\", IDs[\"age_col\"]:\"AGE\", IDs[\"sex\"]:\"SEX\"})\n",
    "#df.head()\n",
    "\n",
    "# save df to tmp, use path as new IDs[\"dir\"]\n",
    "dir_IDs = dir_tmp+\"/\"+os.path.splitext(os.path.basename(IDs[\"dir\"]))[0]+\"_fmt.csv\"\n",
    "df.to_csv(dir_IDs, index=False)\n",
    "\n",
    "print(\"[INFO] Formatted IDs saved to: \", dir_IDs)\n",
    "\n",
    "# seperate IDs by study - pass seperate IDs csv to zBrains\n",
    "# extract ID patterns\n",
    "ptrns = []\n",
    "for study in studies:\n",
    "    ptrns.append([f\"sub-{study['ctrl_ptrn']}\", f\"sub-{study['pt_ptrn']}\"])\n",
    "\n",
    "#print(ptrns)\n",
    "\n",
    "split_paths = id.split(dir_IDs, col=\"ID\", patterns=ptrns, pth_out=dir_tmp) # split_paths holds paths to split files\n",
    "# split_paths[0]: MICs, [1]: PNI\n",
    "\n",
    "# print(split_paths)\n",
    "# length of split_paths should be equal to the number of studies\n",
    "\n",
    "if len(split_paths) != len(studies):\n",
    "    print(\"[main] Error: Number of split files does not match number of studies.\")\n",
    "    print(\"\\t Check  that the attributes 'ctrl_ptrn' and 'pt_ptrn' are properly defined in all study dictionaries.\")\n",
    "    sys.exit(1)"
   ]
  },
  {
   "cell_type": "code",
   "execution_count": 15,
   "metadata": {},
   "outputs": [
    {
     "name": "stdout",
     "output_type": "stream",
     "text": [
      "['sub-PNC', 'sub-PNE017']\n",
      "[split] Saved: /host/verges/tank/data/daniel/3T7T/z/outputs/tmp/demo_1.csv (8 rows)sub-PNC: 8\n",
      "[split] Saved: /host/verges/tank/data/daniel/3T7T/z/outputs/tmp/demo_2.csv (1 rows)sub-PNE: 1\n",
      "\n",
      "=====================================\n",
      "PNI\n",
      "Smoothing: ctx=2, hip=1\n",
      "Calling zBrains with:\n"
     ]
    },
    {
     "ename": "NameError",
     "evalue": "name 'run_arg' is not defined",
     "output_type": "error",
     "traceback": [
      "\u001b[0;31m---------------------------------------------------------------------------\u001b[0m",
      "\u001b[0;31mNameError\u001b[0m                                 Traceback (most recent call last)",
      "Cell \u001b[0;32mIn[15], line 23\u001b[0m\n\u001b[1;32m     21\u001b[0m \u001b[38;5;66;03m# call via bash, pass appropriate arguments\u001b[39;00m\n\u001b[1;32m     22\u001b[0m \u001b[38;5;28mprint\u001b[39m(\u001b[38;5;124m\"\u001b[39m\u001b[38;5;124mCalling zBrains with:\u001b[39m\u001b[38;5;124m\"\u001b[39m)\n\u001b[0;32m---> 23\u001b[0m \u001b[38;5;28mprint\u001b[39m(study, out_name, ctx, hip, res, demo_pth[\u001b[38;5;241m0\u001b[39m], demo_pth[\u001b[38;5;241m1\u001b[39m], score_type, dir_software, \u001b[43mrun_arg\u001b[49m)\n\u001b[1;32m     25\u001b[0m result \u001b[38;5;241m=\u001b[39m zbUtils\u001b[38;5;241m.\u001b[39mrunZBrain(\n\u001b[1;32m     26\u001b[0m     study, out_name, ctx, hip, res, demo_ref\u001b[38;5;241m=\u001b[39mdemo_pth[\u001b[38;5;241m0\u001b[39m], demo\u001b[38;5;241m=\u001b[39mdemo_pth[\u001b[38;5;241m1\u001b[39m], \n\u001b[1;32m     27\u001b[0m     score\u001b[38;5;241m=\u001b[39mscore_type, dir_software\u001b[38;5;241m=\u001b[39mdir_software\n\u001b[1;32m     28\u001b[0m )\n\u001b[1;32m     29\u001b[0m \u001b[38;5;66;03m# Print zBrains run output\u001b[39;00m\n",
      "\u001b[0;31mNameError\u001b[0m: name 'run_arg' is not defined"
     ]
    }
   ],
   "source": [
    "# Manually call zBrains for specific ID\n",
    "ID = \"PNE017\" # ID of interest    \n",
    "\n",
    "df_path = split_paths[1] # demo file, MICs = [0], PNI = [1]\n",
    "study = PNI\n",
    "ctrl_ptrn = \"sub-%s\" %study[\"ctrl_ptrn\"]\n",
    "pt_ptrn = \"sub-%s\" %ID\n",
    "ptrns = [ctrl_ptrn,pt_ptrn]\n",
    "print(ptrns)\n",
    "\n",
    "demo_pth = id.split(df_path, col=\"ID\", patterns=ptrns, pth_out=dir_tmp, output_prefix=\"demo\")# filter for only control IDs  \n",
    "\n",
    "print(\"\\n=====================================\")\n",
    "print(study[\"name\"])\n",
    "#--control_prefix and define according to study\n",
    "\n",
    "# run z-brains with each smoothing kernel - can run cortex and hippocampus seperately and in parallel\n",
    "for ctx, hip in zip(smooth_ctx, smooth_hip):\n",
    "    print(f\"Smoothing: ctx={ctx}, hip={hip}\")\n",
    "    \n",
    "    # call via bash, pass appropriate arguments\n",
    "    print(\"Calling zBrains with:\")\n",
    "    print(study, out_name, ctx, hip, res, demo_pth[0], demo_pth[1], score_type, dir_software)\n",
    "    \n",
    "    result = zbUtils.runZBrain(\n",
    "        study, out_name, ctx, hip, res, demo_ref=demo_pth[0], demo=demo_pth[1], \n",
    "        score=score_type, dir_software=dir_software\n",
    "    )\n",
    "    # Print zBrains run output\n",
    "    if result.returncode != 0:\n",
    "        print(f\"Command failed with return code {result.returncode}\")\n",
    "\n",
    "    print(\"STDOUT:\")\n",
    "    for line in result.stdout.splitlines():\n",
    "        print(f\"\\t{line}\")\n",
    "\n",
    "    if result.stderr:\n",
    "        print(\"STDERR:\")\n",
    "        for line in result.stderr.splitlines():\n",
    "            print(f\"\\t{line}\")\n"
   ]
  },
  {
   "cell_type": "code",
   "execution_count": null,
   "metadata": {},
   "outputs": [],
   "source": []
  }
 ],
 "metadata": {
  "kernelspec": {
   "display_name": "Python 3 (ipykernel)",
   "language": "python",
   "name": "python3"
  },
  "language_info": {
   "codemirror_mode": {
    "name": "ipython",
    "version": 3
   },
   "file_extension": ".py",
   "mimetype": "text/x-python",
   "name": "python",
   "nbconvert_exporter": "python",
   "pygments_lexer": "ipython3",
   "version": "3.9.21"
  }
 },
 "nbformat": 4,
 "nbformat_minor": 2
}
