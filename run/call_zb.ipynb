{
 "cells": [
  {
   "cell_type": "markdown",
   "metadata": {},
   "source": [
    "# Run z-brains analyses for 3T and 7T cases"
   ]
  },
  {
   "cell_type": "code",
   "execution_count": 101,
   "metadata": {},
   "outputs": [],
   "source": [
    "import pandas as pd\n",
    "import os, sys, subprocess\n",
    "import importlib\n",
    "\n",
    "# import utilities\n",
    "utilities_path = os.path.abspath(os.path.join(os.getcwd(), \"/host/verges/tank/data/daniel\", \"Utils\"))\n",
    "sys.path.append(utilities_path) # path to Utilities\n",
    "import id, gen, zbUtils"
   ]
  },
  {
   "cell_type": "code",
   "execution_count": 102,
   "metadata": {},
   "outputs": [
    {
     "data": {
      "text/plain": [
       "<module 'zbUtils' from '/host/verges/tank/data/daniel/3T7T/z/code/run/zbUtils.py'>"
      ]
     },
     "execution_count": 102,
     "metadata": {},
     "output_type": "execute_result"
    }
   ],
   "source": [
    "importlib.reload(zbUtils)"
   ]
  },
  {
   "cell_type": "code",
   "execution_count": 103,
   "metadata": {},
   "outputs": [],
   "source": [
    "# Input IDs\n",
    "\n",
    "# IDs: should be in long format (all IDs to be used should be in same column (regardless of if it is 3T or 7T ID))\n",
    "dir_IDs=\"/host/verges/tank/data/daniel/3T7T/z/data/pt/master_demo_19Mar2025_age_d_long_clean.csv\"\n",
    "# model: \"/host/verges/tank/data/daniel/3T7T/z/data/models/participants_mics_hc.csv\"\n"
   ]
  },
  {
   "cell_type": "code",
   "execution_count": 109,
   "metadata": {},
   "outputs": [],
   "source": [
    "# zBrain parameters\n",
    "\n",
    "# size of kernels for smoothing (cortex: ctx; hippocampus: hip). \n",
    "# NOTE: Both lists must be of same length.\n",
    "smooth_ctx=[2,5,10] # try with 2,5,10\n",
    "smooth_hip=[1,2,5] # try with 1,2,5\n",
    "\n",
    "# surface\n",
    "res=\"high\" # low (cotrex: 5K, hippocampus: 2mm), high (ctx: 32k, hipp: 0.5mm), all (both high and low)\n",
    "\n",
    "# Output: path and file name\n",
    "out_name=\"DM_zb_37comp\" # will create folders with this name in BIDs directory\n",
    "\n",
    "# path to z-brains software\n",
    "score_type = \"z\" # z or w, will call appropriate shell script accordingly\n",
    "test = False\n",
    "\n",
    "if test:\n",
    "    dir_software = \"/host/verges/tank/data/daniel/3T7T/z/code/run/tests/printArgs.sh\"\n",
    "elif score_type == \"z\":\n",
    "    dir_software = \"/host/verges/tank/data/daniel/3T7T/z/code/run/runZB.sh\"\n",
    "elif score_type == \"w\":\n",
    "    dir_software = \"/host/verges/tank/data/daniel/3T7T/z/code/run/runZB_w.sh\"\n",
    "else:  \n",
    "    print(\"Invalid score type. Must be either 'z', 'w' or 'test'\")\n",
    "    "
   ]
  },
  {
   "cell_type": "code",
   "execution_count": 105,
   "metadata": {},
   "outputs": [],
   "source": [
    "# Dictionary item for each study\n",
    "# Note: zBrains only currently supports one 'ctrl_ptrn', not a list\n",
    "\n",
    "# directories need to be relative except for root\n",
    "MICs = {\n",
    "    \"name\" : \"MICs\",\n",
    "    \"ctrl_ptrn\" : \"HC\",\n",
    "    \"pt_ptrn\" : \"PX\",\n",
    "    \"dir_root\" : \"/data/mica3/BIDS_MICs\",\n",
    "    \"dir_raw\" : \"rawdata\",\n",
    "    \"dir_deriv\" : \"derivatives\",\n",
    "    \"dir_mp\" : \"micapipe_v0.2.0\",\n",
    "    \"dir_hu\" : \"hippunfold_v1.3.0\"\n",
    "}\n",
    "\n",
    "PNI = {\n",
    "    \"name\" : \"PNI\",\n",
    "    \"ctrl_ptrn\" : \"PNC\",\n",
    "    \"pt_ptrn\" : \"PNE\",\n",
    "    \"dir_root\" : \"/data/mica3/BIDS_PNI\",\n",
    "    \"dir_raw\" : \"rawdata\",\n",
    "    \"dir_deriv\" : \"derivatives\",\n",
    "    \"dir_mp\" : \"micapipe_v0.2.0\",\n",
    "    \"dir_hu\" : \"hippunfold_v1.3.0\"\n",
    "}\n",
    "\n",
    "studies = [MICs, PNI]"
   ]
  },
  {
   "cell_type": "code",
   "execution_count": 106,
   "metadata": {},
   "outputs": [
    {
     "name": "stdout",
     "output_type": "stream",
     "text": [
      "[fmt] ID formatted\n",
      "[fmt] SES formatted\n",
      "[INFO] Formatted IDs saved to:  /host/verges/tank/data/daniel/3T7T/z/outputs/tmp/master_demo_19Mar2025_age_d_long_clean_fmt.csv\n",
      "[split] Saved: /host/verges/tank/data/daniel/3T7T/z/outputs/tmp/split_ID_1.csv (24 rows)sub-PX: 16, sub-HC: 8\n",
      "[split] Saved: /host/verges/tank/data/daniel/3T7T/z/outputs/tmp/split_ID_2.csv (24 rows)sub-PNE: 16, sub-PNC: 8\n"
     ]
    }
   ],
   "source": [
    "# Convert IDs to format accepted by zBrains (add sub-, ses-)\n",
    "dir_tmp = dir_out+\"/tmp\"\n",
    "# ensure that ID and ses are properly formatted\n",
    "#df = gen.fmt(dir_IDs, [dir_IDs_cols[\"7T_ID\"], dir_IDs_cols[\"3T_ID\"], dir_IDs_cols[\"7T_SES\"], dir_IDs_cols[\"3T_SES\"]])\n",
    "df = gen.fmt(dir_IDs, [\"ID\", \"SES\"])\n",
    "#df\n",
    "\n",
    "# save df to tmp, use path as new dir_IDs\n",
    "fmt_ID_path = dir_tmp+\"/\"+os.path.splitext(os.path.basename(dir_IDs))[0]+\"_fmt.csv\"\n",
    "df.to_csv(fmt_ID_path, index=False)\n",
    "\n",
    "print(\"[INFO] Formatted IDs saved to: \", fmt_ID_path)\n",
    "dir_IDs = fmt_ID_path # herein use this formatted df \n",
    "\n",
    "# seperate IDs by study - pass seperate IDs csv to zBrains\n",
    "# extract ID patterns\n",
    "ptrns = []\n",
    "for study in studies:\n",
    "    ptrns.append([f\"sub-{study['ctrl_ptrn']}\", f\"sub-{study['pt_ptrn']}\"])\n",
    "\n",
    "#print(ptrns)\n",
    "\n",
    "split_paths = id.split(dir_IDs, col=\"ID\", patterns=ptrns, pth_out=dir_tmp) # split_paths holds paths to split files\n",
    "\n",
    "# print(split_paths)\n",
    "# length of split_paths should be equal to the number of studies\n",
    "\n",
    "if len(split_paths) != len(studies):\n",
    "    print(\"[main] Error: Number of split files does not match number of studies.\")\n",
    "    print(\"\\t Check  that the attributes 'ctrl_ptrn' and 'pt_ptrn' are properly defined in all study dictionaries.\")\n",
    "    sys.exit(1)"
   ]
  },
  {
   "cell_type": "code",
   "execution_count": 111,
   "metadata": {},
   "outputs": [
    {
     "name": "stdout",
     "output_type": "stream",
     "text": [
      "[split] Saved: /host/verges/tank/data/daniel/3T7T/z/outputs/tmp/demo_1.csv (8 rows)sub-HC: 8\n",
      "[split] Saved: /host/verges/tank/data/daniel/3T7T/z/outputs/tmp/demo_2.csv (16 rows)sub-PX: 16\n",
      "\n",
      "=====================================\n",
      "MICs\n",
      "Smoothing: ctx=2, hip=1\n"
     ]
    }
   ],
   "source": [
    "# Call zbrains - can be parallelized\n",
    "for i in [1,len(studies)]:\n",
    "    df_path = split_paths[i-1] # demo file\n",
    "    study = studies[i-1]\n",
    "    ctrl_ptrn = \"sub-%s\" %study[\"ctrl_ptrn\"]\n",
    "    pt_ptrn = \"sub-%s\" %study[\"pt_ptrn\"]\n",
    "    ptrns = [ctrl_ptrn,pt_ptrn]\n",
    "    #print(ptrns)\n",
    "\n",
    "    demo_pth = id.split(df_path, col=\"ID\", patterns=ptrns, pth_out=dir_tmp, output_prefix=\"demo\")# filter for only control IDs  \n",
    "    \n",
    "    print(\"\\n=====================================\")\n",
    "    print(study[\"name\"])\n",
    "    #--control_prefix and define according to study\n",
    "\n",
    "    # run z-brains with each smoothing kernel - can run cortex and hippocampus seperately and in parallel\n",
    "    for ctx, hip in zip(smooth_ctx, smooth_hip):\n",
    "        print(f\"Smoothing: ctx={ctx}, hip={hip}\")\n",
    "        \n",
    "        # call via bash, pass appropriate arguments\n",
    "        result = zbUtils.runZBrain(study, out_name, ctx, hip, res, demo_ref=demo_pth[0], demo=demo_pth[1], score=score_type, dir_software=dir_software)\n",
    "        # Print zBrains run output\n",
    "        if result.returncode != 0:\n",
    "            print(f\"Command failed with return code {result.returncode}\")\n",
    "\n",
    "        print(\"STDOUT:\")\n",
    "        for line in result.stdout.splitlines():\n",
    "            print(f\"\\t{line}\")\n",
    "\n",
    "        if result.stderr:\n",
    "            print(\"STDERR:\")\n",
    "            for line in result.stderr.splitlines():\n",
    "                print(f\"\\t{line}\")\n",
    "        "
   ]
  },
  {
   "cell_type": "code",
   "execution_count": null,
   "metadata": {},
   "outputs": [],
   "source": []
  }
 ],
 "metadata": {
  "kernelspec": {
   "display_name": "Python 3 (ipykernel)",
   "language": "python",
   "name": "python3"
  },
  "language_info": {
   "codemirror_mode": {
    "name": "ipython",
    "version": 3
   },
   "file_extension": ".py",
   "mimetype": "text/x-python",
   "name": "python",
   "nbconvert_exporter": "python",
   "pygments_lexer": "ipython3",
   "version": "3.9.21"
  }
 },
 "nbformat": 4,
 "nbformat_minor": 2
}
