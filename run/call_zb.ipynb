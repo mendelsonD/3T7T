{
 "cells": [
  {
   "cell_type": "markdown",
   "metadata": {},
   "source": [
    "# Run z-brains analyses for 3T and 7T cases"
   ]
  },
  {
   "cell_type": "code",
   "execution_count": 11,
   "metadata": {},
   "outputs": [],
   "source": [
    "import pandas as pd\n",
    "import os, sys, subprocess\n",
    "import importlib\n",
    "\n",
    "# import utilities\n",
    "utilities_path = os.path.abspath(os.path.join(os.getcwd(), \"/host/verges/tank/data/daniel\", \"Utils\"))\n",
    "sys.path.append(utilities_path) # path to Utilities\n",
    "import id, gen, util"
   ]
  },
  {
   "cell_type": "code",
   "execution_count": 20,
   "metadata": {},
   "outputs": [
    {
     "data": {
      "text/plain": [
       "<module 'id' from '/host/verges/tank/data/daniel/Utils/id.py'>"
      ]
     },
     "execution_count": 20,
     "metadata": {},
     "output_type": "execute_result"
    }
   ],
   "source": [
    "importlib.reload(id)"
   ]
  },
  {
   "cell_type": "code",
   "execution_count": 3,
   "metadata": {},
   "outputs": [],
   "source": [
    "# zBrain parameters\n",
    "\n",
    "# IDs: should be in long format (all IDs to be used should be in same column (regardless of if it is 3T or 7T ID))\n",
    "dir_IDs=\"/host/verges/tank/data/daniel/3T7T/z/data/pt/IDs-3T7T-long_test_11Mar2025.csv\" # long format IDs\n",
    "\n",
    "# size of kernels for smoothing (cortex: ctx; hippocampus: hip). \n",
    "# NOTE: Both lists must be of same length.\n",
    "smooth_ctx=[2,5,10] # try with 2,5,10\n",
    "smooth_hip=[1,2,5] # try with 1,2,5\n",
    "\n",
    "# surface\n",
    "res=\"high\" # low (cotrex: 5K, hippocampus: 2mm), high (ctx: 32k, hipp: 0.5mm), all (both high and low)\n",
    "\n",
    "# Output: path and file name\n",
    "dir_out=\"/host/verges/tank/data/daniel/3T7T/z/outputs\"\n",
    "out_name=\"zb_3-7comp\" # will create folders with this name\n",
    "\n",
    "# path to z-brains software\n",
    "# zbrains_sh_path=\"/host/verges/tank/data/daniel/z-brains/zbrains\"\n",
    "\n",
    "# needs to be in BIDs directory\n",
    "zbrains_sh_path = \"/host/verges/tank/data/daniel/3T7T/z/code/run_zb/printArgs.sh\""
   ]
  },
  {
   "cell_type": "code",
   "execution_count": null,
   "metadata": {},
   "outputs": [],
   "source": [
    "# dictionary item for each study\n",
    "\n",
    "# Note: zBrains only currently supports one 'ctrl_ptrn', not a list\n",
    "\n",
    "\n",
    "# directories need to be relative except for root\n",
    "MICs = {\n",
    "    \"name\" : \"MICs\",\n",
    "    \"ctrl_ptrn\" : [\"HC\"],\n",
    "    \"pt_ptrn\" : [\"PX\"],\n",
    "    \"dir_root\" : \"/data/mica3/BIDS_MICs\",\n",
    "    \"dir_raw\" : \"/data/mica3/BIDS_MICs/rawdata\",\n",
    "    \"dir_deriv\" : \"/data/mica3/BIDS_MICs/derivatives\",\n",
    "    \"dir_mp\" : \"/data/mica3/BIDS_MICs/derivatives/micapipe_v0.2.0\",\n",
    "    \"dir_hu\" : \"/data/mica3/BIDS_MICs/derivatives/hippunfold_v1.3.0\",\n",
    "    \"zb\" : dir_out + \"/\" + out_name + \"_MICs\"\n",
    "}\n",
    "\n",
    "PNI = {\n",
    "    \"name\" : \"PNI\",\n",
    "    \"ctrl_ptrn\" : [\"PNC\",\"Pilot\"],\n",
    "    \"pt_ptrn\" : [\"PNE\"],\n",
    "    \"dir_root\" : \"/data/mica3/BIDS_PNI\",\n",
    "    \"dir_raw\" : \"data/mica3/BIDS_PNI/rawdata\",\n",
    "    \"dir_deriv\" : \"data/mica3/BIDS_PNI/derivatives\",\n",
    "    \"dir_mp\" : \"data/mica3/BIDS_PNI/derivatives/micapipe_v0.2.0\",\n",
    "    \"dir_hu\" : \"data/mica3/BIDS_PNI/derivatives/hippunfold_v1.3.0\",\n",
    "    \"zb\" : dir_out + \"/\" + out_name + \"_PNI\"\n",
    "}\n",
    "\n",
    "studies = [MICs, PNI]"
   ]
  },
  {
   "cell_type": "code",
   "execution_count": 5,
   "metadata": {},
   "outputs": [
    {
     "name": "stdout",
     "output_type": "stream",
     "text": [
      "[split] Saved: /host/verges/tank/data/daniel/3T7T/z/outputs/tmp/split_ID_1.csv (4 rows)HC: 2, PX: 2\n",
      "[split] Saved: /host/verges/tank/data/daniel/3T7T/z/outputs/tmp/split_ID_2.csv (5 rows)PNC: 2, PNE: 2, Pilot: 1\n"
     ]
    }
   ],
   "source": [
    "# Convert IDs to format accepted by zBrains (add sub-, ses-)\n",
    "\n",
    "# seperate IDs by study - pass seperate IDs csv to zBrains\n",
    "# extract patterns\n",
    "ptrns = []\n",
    "for study in studies:\n",
    "    ptrns.append((study[\"ctrl_ptrn\"]) + study[\"pt_ptrn\"])\n",
    "\n",
    "out = dir_out+\"/tmp\"\n",
    "split_paths = id.split(dir_IDs, col=\"ID\", patterns=ptrns, pth_out=out) # split_paths holds paths to split files\n",
    "\n",
    "# print(split_paths)\n",
    "# length of split_paths should be equal to the number of studies\n",
    "\n",
    "if len(split_paths) != len(studies):\n",
    "    print(\"[main] Error: Number of split files does not match number of studies.\")\n",
    "    print(\"\\t Check  that the attributes 'ctrl_ptrn' and 'pt_ptrn' are properly defined in all study dictionaries.\")\n",
    "    sys.exit(1)"
   ]
  },
  {
   "cell_type": "code",
   "execution_count": 15,
   "metadata": {},
   "outputs": [
    {
     "name": "stdout",
     "output_type": "stream",
     "text": [
      "\n",
      "=====================================\n",
      "MICs\n",
      "Smoothing: ctx=2, hip=1\n",
      "STDOUT:\n",
      "\t[bash] Passed arguments:\n",
      "\t\t1 \t /host/verges/tank/data/daniel/3T7T/z/outputs/tmp/split_ID_1.csv\n",
      "\t\t2 \t /data/mica3/BIDS_MICs\n",
      "\t\t3 \t /data/mica3/BIDS_MICs/derivatives/micapipe_v0.2.0\n",
      "\t\t4 \t /data/mica3/BIDS_MICs/derivatives/hippunfold_v1.3.0\n",
      "\t\t5 \t /host/verges/tank/data/daniel/3T7T/z/outputs/zb_3-7comp_MICs\n",
      "\t\t6 \t ['HC']\n",
      "\t\t7 \t 2\n",
      "\t\t8 \t 1\n",
      "\t\t9 \t high\n",
      "Smoothing: ctx=5, hip=2\n",
      "STDOUT:\n",
      "\t[bash] Passed arguments:\n",
      "\t\t1 \t /host/verges/tank/data/daniel/3T7T/z/outputs/tmp/split_ID_1.csv\n",
      "\t\t2 \t /data/mica3/BIDS_MICs\n",
      "\t\t3 \t /data/mica3/BIDS_MICs/derivatives/micapipe_v0.2.0\n",
      "\t\t4 \t /data/mica3/BIDS_MICs/derivatives/hippunfold_v1.3.0\n",
      "\t\t5 \t /host/verges/tank/data/daniel/3T7T/z/outputs/zb_3-7comp_MICs\n",
      "\t\t6 \t ['HC']\n",
      "\t\t7 \t 5\n",
      "\t\t8 \t 2\n",
      "\t\t9 \t high\n",
      "Smoothing: ctx=10, hip=5\n",
      "STDOUT:\n",
      "\t[bash] Passed arguments:\n",
      "\t\t1 \t /host/verges/tank/data/daniel/3T7T/z/outputs/tmp/split_ID_1.csv\n",
      "\t\t2 \t /data/mica3/BIDS_MICs\n",
      "\t\t3 \t /data/mica3/BIDS_MICs/derivatives/micapipe_v0.2.0\n",
      "\t\t4 \t /data/mica3/BIDS_MICs/derivatives/hippunfold_v1.3.0\n",
      "\t\t5 \t /host/verges/tank/data/daniel/3T7T/z/outputs/zb_3-7comp_MICs\n",
      "\t\t6 \t ['HC']\n",
      "\t\t7 \t 10\n",
      "\t\t8 \t 5\n",
      "\t\t9 \t high\n",
      "\n",
      "=====================================\n",
      "PNI\n",
      "Smoothing: ctx=2, hip=1\n",
      "STDOUT:\n",
      "\t[bash] Passed arguments:\n",
      "\t\t1 \t /host/verges/tank/data/daniel/3T7T/z/outputs/tmp/split_ID_2.csv\n",
      "\t\t2 \t /data/mica3/BIDS_PNI\n",
      "\t\t3 \t data/mica3/BIDS_PNI/derivatives/micapipe_v0.2.0\n",
      "\t\t4 \t data/mica3/BIDS_PNI/derivatives/hippunfold_v1.3.0\n",
      "\t\t5 \t /host/verges/tank/data/daniel/3T7T/z/outputs/zb_3-7comp_PNI\n",
      "\t\t6 \t ['PNC', 'Pilot']\n",
      "\t\t7 \t 2\n",
      "\t\t8 \t 1\n",
      "\t\t9 \t high\n",
      "Smoothing: ctx=5, hip=2\n",
      "STDOUT:\n",
      "\t[bash] Passed arguments:\n",
      "\t\t1 \t /host/verges/tank/data/daniel/3T7T/z/outputs/tmp/split_ID_2.csv\n",
      "\t\t2 \t /data/mica3/BIDS_PNI\n",
      "\t\t3 \t data/mica3/BIDS_PNI/derivatives/micapipe_v0.2.0\n",
      "\t\t4 \t data/mica3/BIDS_PNI/derivatives/hippunfold_v1.3.0\n",
      "\t\t5 \t /host/verges/tank/data/daniel/3T7T/z/outputs/zb_3-7comp_PNI\n",
      "\t\t6 \t ['PNC', 'Pilot']\n",
      "\t\t7 \t 5\n",
      "\t\t8 \t 2\n",
      "\t\t9 \t high\n",
      "Smoothing: ctx=10, hip=5\n",
      "STDOUT:\n",
      "\t[bash] Passed arguments:\n",
      "\t\t1 \t /host/verges/tank/data/daniel/3T7T/z/outputs/tmp/split_ID_2.csv\n",
      "\t\t2 \t /data/mica3/BIDS_PNI\n",
      "\t\t3 \t data/mica3/BIDS_PNI/derivatives/micapipe_v0.2.0\n",
      "\t\t4 \t data/mica3/BIDS_PNI/derivatives/hippunfold_v1.3.0\n",
      "\t\t5 \t /host/verges/tank/data/daniel/3T7T/z/outputs/zb_3-7comp_PNI\n",
      "\t\t6 \t ['PNC', 'Pilot']\n",
      "\t\t7 \t 10\n",
      "\t\t8 \t 5\n",
      "\t\t9 \t high\n"
     ]
    }
   ],
   "source": [
    "# Call zbrains - can be parallelized\n",
    "for i in [1,len(studies)]:\n",
    "    df_path = split_paths[i-1]\n",
    "    study = studies[i-1]\n",
    "    print(\"\\n=====================================\")\n",
    "    print(study[\"name\"])\n",
    "    #--control_prefix and define according to study\n",
    "\n",
    "    # run z-brains with each smoothing kernel - can run cortex and hippocampus seperately and in parallel\n",
    "    for ctx, hip in zip(smooth_ctx, smooth_hip):\n",
    "        print(f\"Smoothing: ctx={ctx}, hip={hip}\")\n",
    "        \n",
    "        # call via bash, pass appropriate arguments\n",
    "        result = util.runZBrain(df_path, study, ctx, hip, res, dir_software=zbrains_sh_path)\n",
    "\n",
    "        # Print zBrains run output\n",
    "        if result.returncode != 0:\n",
    "            print(f\"Command failed with return code {result.returncode}\")\n",
    "\n",
    "        print(\"STDOUT:\")\n",
    "        for line in result.stdout.splitlines():\n",
    "            print(f\"\\t{line}\")\n",
    "\n",
    "        if result.stderr:\n",
    "            print(\"STDERR:\")\n",
    "            for line in result.stderr.splitlines():\n",
    "                print(f\"\\t{line}\")\n",
    "        "
   ]
  }
 ],
 "metadata": {
  "kernelspec": {
   "display_name": "Python 3 (ipykernel)",
   "language": "python",
   "name": "python3"
  },
  "language_info": {
   "codemirror_mode": {
    "name": "ipython",
    "version": 3
   },
   "file_extension": ".py",
   "mimetype": "text/x-python",
   "name": "python",
   "nbconvert_exporter": "python",
   "pygments_lexer": "ipython3",
   "version": "3.10.12"
  }
 },
 "nbformat": 4,
 "nbformat_minor": 2
}
