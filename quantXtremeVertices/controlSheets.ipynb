{
 "cells": [
  {
   "cell_type": "markdown",
   "metadata": {},
   "source": [
    "# Create control csv files for eventual zBrains analyses of all participants\n",
    "Requires a master sheet with all participants to be included in zBrains analyses"
   ]
  },
  {
   "cell_type": "code",
   "execution_count": 12,
   "metadata": {},
   "outputs": [],
   "source": [
    "def tempCSV(df, subject, session=None, subject_colName=\"ID\", session_colName=None, save=False, path_save=None):\n",
    "    \"\"\"\n",
    "    Remove a subject from a csv file and return a temporary csv file with the subject removed.\n",
    "    Optionally removes a specified session.\n",
    "    Optionally save the new csv file to specified path; if not saved, returns the temporary csv file.\n",
    "\n",
    "    Parameters\n",
    "        df: dataframe with subject and session IDs\n",
    "        subject: subject ID to remove from list\n",
    "        <optional> session: unique session ID for `subject` if want to remove only this subject's session\n",
    "        subject_colName (default: \"ID\"): name of column in `csv` that contains subject IDs\n",
    "        <optional> session_colName: name of column in `csv` that contains session IDs. Must be provided if `session` is not None\n",
    "        <optional> save (default: false): if True, save the new csv to `path` and does not return the temporary ddf\n",
    "        <optional> path: path to save the new csv. Must be provided if `save` is True.\n",
    "\n",
    "    Returns\n",
    "        tmp_csv: csv with row corresponding to `subject`-`session` removed\n",
    "\n",
    "    \"\"\"\n",
    "\n",
    "    if subject_colName not in df.columns:\n",
    "        raise ValueError(f\"[tempCSV] ERROR. Provided subject column name `{subject_colName}` is not in columns of provided csv: {path_csv}\")\n",
    "\n",
    "    # remove subject\n",
    "    if session is None:\n",
    "        tmp_df = df[df[subject_colName] != subject]\n",
    "    \n",
    "    else:\n",
    "        if session_colName is None:\n",
    "            raise ValueError(\"session_colName must be provided if session is not None\")\n",
    "        else:\n",
    "\n",
    "            if session_colName not in df.columns:\n",
    "                raise ValueError(f\"{session_colName} not in columns of csv\")\n",
    "            else:\n",
    "                tmp_df = df[(df[subject_colName] != subject) & (df[session_colName] != session)]\n",
    "\n",
    "    if save:\n",
    "        if path_save is None:\n",
    "            raise ValueError(\"[tempCSV] ERROR. Unable to save output as no path provided in `path_save` parameter.\")\n",
    "        else:\n",
    "            tmp_df.to_csv(path_save, index=False)\n",
    "            print(f\"[tempCSV] {subject}: saved temporary csv to {path_save}\")\n",
    "    else:\n",
    "        return tmp_df"
   ]
  },
  {
   "cell_type": "markdown",
   "metadata": {},
   "source": [
    "# Example"
   ]
  },
  {
   "cell_type": "code",
   "execution_count": 11,
   "metadata": {},
   "outputs": [],
   "source": [
    "import datetime\n",
    "import pandas as pd\n",
    "\n",
    "sheet_path = \"/Users/danielmendelson/Library/CloudStorage/OneDrive-McGillUniversity/Documents/PhD/Boris/Epilepsy_7T/zBrainsAnalyses/data/pt_13Jan2025_ages.xlsx\"\n",
    "subject_colName = \"7T_ID\"\n",
    "#out_path = \"/Users/danielmendelson/Documents/Boris_projects/code/output/tmp/\" # path should end with `/`\n",
    "out_path = \"/host/verges/tank/data/daniel/zBrain_3T7T/data/ctrl_lists/\"\n",
    "\n",
    "# read file\n",
    "df = pd.read_excel(sheet_path)\n",
    "# df.head()"
   ]
  },
  {
   "cell_type": "code",
   "execution_count": null,
   "metadata": {},
   "outputs": [
    {
     "name": "stdout",
     "output_type": "stream",
     "text": [
      "[tempCSV] PNC019: saved temporary csv to /Users/danielmendelson/Documents/Boris_projects/code/output/tmp/PNC019_22Jan2025-11h48m17s.csv\n",
      "[tempCSV] PNC018: saved temporary csv to /Users/danielmendelson/Documents/Boris_projects/code/output/tmp/PNC018_22Jan2025-11h48m17s.csv\n",
      "[tempCSV] PNC006: saved temporary csv to /Users/danielmendelson/Documents/Boris_projects/code/output/tmp/PNC006_22Jan2025-11h48m17s.csv\n",
      "[tempCSV] PNC003: saved temporary csv to /Users/danielmendelson/Documents/Boris_projects/code/output/tmp/PNC003_22Jan2025-11h48m17s.csv\n",
      "[tempCSV] PNC011: saved temporary csv to /Users/danielmendelson/Documents/Boris_projects/code/output/tmp/PNC011_22Jan2025-11h48m17s.csv\n",
      "[tempCSV] PNC024: saved temporary csv to /Users/danielmendelson/Documents/Boris_projects/code/output/tmp/PNC024_22Jan2025-11h48m17s.csv\n",
      "[tempCSV] PNC025: saved temporary csv to /Users/danielmendelson/Documents/Boris_projects/code/output/tmp/PNC025_22Jan2025-11h48m17s.csv\n",
      "[tempCSV] PNC026: saved temporary csv to /Users/danielmendelson/Documents/Boris_projects/code/output/tmp/PNC026_22Jan2025-11h48m17s.csv\n",
      "[tempCSV] PNE003: saved temporary csv to /Users/danielmendelson/Documents/Boris_projects/code/output/tmp/PNE003_22Jan2025-11h48m17s.csv\n",
      "[tempCSV] PNE007: saved temporary csv to /Users/danielmendelson/Documents/Boris_projects/code/output/tmp/PNE007_22Jan2025-11h48m17s.csv\n",
      "[tempCSV] PNE006: saved temporary csv to /Users/danielmendelson/Documents/Boris_projects/code/output/tmp/PNE006_22Jan2025-11h48m17s.csv\n",
      "[tempCSV] PNE004: saved temporary csv to /Users/danielmendelson/Documents/Boris_projects/code/output/tmp/PNE004_22Jan2025-11h48m17s.csv\n",
      "[tempCSV] PNE002: saved temporary csv to /Users/danielmendelson/Documents/Boris_projects/code/output/tmp/PNE002_22Jan2025-11h48m17s.csv\n",
      "[tempCSV] PNE005: saved temporary csv to /Users/danielmendelson/Documents/Boris_projects/code/output/tmp/PNE005_22Jan2025-11h48m17s.csv\n",
      "[tempCSV] PNE008: saved temporary csv to /Users/danielmendelson/Documents/Boris_projects/code/output/tmp/PNE008_22Jan2025-11h48m17s.csv\n"
     ]
    }
   ],
   "source": [
    "# Create control csv files for each participant\n",
    "for subject in df[subject_colName]:\n",
    "    date = datetime.datetime.now().strftime(\"%d%b%Y-%Hh%Mm%Ss\")\n",
    "    out_path_subj = out_path + f\"{subject}_{date}.csv\"\n",
    "    #print(out_path_subj)\n",
    "    tempCSV(df=df, subject=subject, subject_colName=subject_colName, save=True, path_save=out_path_subj)"
   ]
  }
 ],
 "metadata": {
  "kernelspec": {
   "display_name": "base",
   "language": "python",
   "name": "python3"
  },
  "language_info": {
   "codemirror_mode": {
    "name": "ipython",
    "version": 3
   },
   "file_extension": ".py",
   "mimetype": "text/x-python",
   "name": "python",
   "nbconvert_exporter": "python",
   "pygments_lexer": "ipython3",
   "version": "3.12.7"
  }
 },
 "nbformat": 4,
 "nbformat_minor": 2
}
