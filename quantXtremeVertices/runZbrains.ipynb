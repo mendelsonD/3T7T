{
 "cells": [
  {
   "cell_type": "code",
   "execution_count": null,
   "metadata": {},
   "outputs": [],
   "source": [
    "def zBrains():\n",
    "    # call bash function"
   ]
  },
  {
   "cell_type": "code",
   "execution_count": null,
   "metadata": {},
   "outputs": [],
   "source": [
    "# run zBrains analyses on each patient\n",
    "temp_csv_path = \"\"\n",
    "\n",
    "for subject in df[subject_colName]:\n",
    "    # get most recent temp csv file\n",
    "    csv_ctrl = temp_csv_path = \"\" + f\"{subject}_*.csv\"\n",
    "    print(tmp_csv)\n",
    "    zBrains()"
   ]
  }
 ],
 "metadata": {
  "language_info": {
   "name": "python"
  }
 },
 "nbformat": 4,
 "nbformat_minor": 2
}
